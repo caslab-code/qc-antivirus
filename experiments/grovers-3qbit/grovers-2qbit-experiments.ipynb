{
 "cells": [
  {
   "cell_type": "code",
   "execution_count": 111,
   "metadata": {},
   "outputs": [],
   "source": [
    "from qiskit import IBMQ "
   ]
  },
  {
   "cell_type": "code",
   "execution_count": 112,
   "metadata": {},
   "outputs": [],
   "source": [
    "IBMQ.save_account('65fbe3fea2d78c386a26d433f8f87b474b1bfa98596f0d04c76917ee55f25fa70757c61109b5a38b3b665c790e92324d2beb0bef226019875080e9e5246dbdc6', overwrite = True)"
   ]
  },
  {
   "cell_type": "code",
   "execution_count": 565,
   "metadata": {},
   "outputs": [
    {
     "name": "stderr",
     "output_type": "stream",
     "text": [
      "ibmqfactory.load_account:WARNING:2022-01-26 00:47:15,925: Credentials are already in use. The existing account in the session will be replaced.\n"
     ]
    }
   ],
   "source": [
    "#initialization\n",
    "import matplotlib.pyplot as plt\n",
    "import numpy as np\n",
    "\n",
    "# importing Qiskit\n",
    "from qiskit import IBMQ, Aer, assemble, transpile\n",
    "from qiskit import QuantumCircuit, ClassicalRegister, QuantumRegister\n",
    "from qiskit.providers.ibmq import least_busy\n",
    "from qiskit.circuit.library import MCMT\n",
    "\n",
    "# import basic plot tools\n",
    "from qiskit.visualization import plot_histogram\n",
    "\n",
    "# Load IBM Q account and get the least busy backend device\n",
    "provider = IBMQ.load_account()\n",
    "provider = IBMQ.get_provider(\"ibm-q\")\n",
    "# provider = IBMQ.get_provider(hub='ibm-q-education', group='yale-uni-2', project='cpsc647-quantum')\n",
    "# device = provider.get_backend('ibmq_lima') #run on ibmq_lima (5-qbit QC)"
   ]
  },
  {
   "cell_type": "code",
   "execution_count": 566,
   "metadata": {},
   "outputs": [
    {
     "name": "stdout",
     "output_type": "stream",
     "text": [
      "Device 0 = ibmq_lima\n",
      "Device 1 = ibmq_bogota\n",
      "Device 2 = ibmq_santiago\n",
      "Device 3 = ibmq_manila\n",
      "Device 4 = ibmq_quito\n",
      "Device 5 = ibmq_belem\n"
     ]
    }
   ],
   "source": [
    "# device_names =  ['ibmq_lima', 'ibmq_bogota', 'ibmq_santiago', 'ibmq_manila', 'ibmq_quito', 'ibmq_belem', 'ibmq_casablanca', 'ibmq_jakarta', 'ibm_lagos', 'ibm_perth'  ]\n",
    "device_names =  ['ibmq_lima', 'ibmq_bogota', 'ibmq_santiago', 'ibmq_manila', 'ibmq_quito', 'ibmq_belem']\n",
    "device = [0]*len(device_names)\n",
    "for i in range(len(device_names)):\n",
    "    device[i] = provider.get_backend(device_names[i])\n",
    "    print(\"Device\", i , \"=\", device[i])\n"
   ]
  },
  {
   "cell_type": "code",
   "execution_count": 426,
   "metadata": {},
   "outputs": [],
   "source": [
    "# def initialize_s(qc, qubits):\n",
    "#     \"\"\"Apply a H-gate to 'qubits' in qc\"\"\"\n",
    "#     for q in qubits:\n",
    "#         qc.h(q)\n",
    "#     return qc\n",
    "\n",
    "# def diffuser(nqubits):\n",
    "#     qc = QuantumCircuit(nqubits)\n",
    "#     # Apply transformation |s> -> |00..0> (H-gates)\n",
    "#     for qubit in range(nqubits):\n",
    "#         qc.h(qubit)\n",
    "#     # Apply transformation |00..0> -> |11..1> (X-gates)\n",
    "#     for qubit in range(nqubits):\n",
    "#         qc.x(qubit)\n",
    "#     # Do multi-controlled-Z gate\n",
    "#     qc.h(nqubits-1)\n",
    "#     qc.mct(list(range(nqubits-1)), nqubits-1)  # multi-controlled-toffoli\n",
    "#     qc.h(nqubits-1)\n",
    "#     # Apply transformation |11..1> -> |00..0>\n",
    "#     for qubit in range(nqubits):\n",
    "#         qc.x(qubit)\n",
    "#     # Apply transformation |00..0> -> |s>\n",
    "#     for qubit in range(nqubits):\n",
    "#         qc.h(qubit)\n",
    "#     # We will return the diffuser as a gate\n",
    "#     U_s = qc.to_gate()\n",
    "#     U_s.name = \"U$_s$\"\n",
    "#     return U_s"
   ]
  },
  {
   "cell_type": "code",
   "execution_count": 428,
   "metadata": {},
   "outputs": [],
   "source": [
    "# def grovers_algorithm_3(copies):\n",
    "#     n = 3 #number of qbits\n",
    "#     qc = QuantumCircuit(3)\n",
    "# #     qc.cz(0, 2)\n",
    "# #     qc.cz(1, 2)\n",
    "\n",
    "#     oracle_ex3 = qc.to_gate()\n",
    "#     oracle_ex3.name = \"U$_\\omega$\"\n",
    "#     grover_circuit = QuantumCircuit(5,5)\n",
    "# #     grover_circuit = QuantumCircuit(5)\n",
    "#     grover_circuit.barrier()\n",
    "#     grover_circuit = initialize_s(grover_circuit, [0,1,2])\n",
    "#     grover_circuit.append(oracle_ex3, [0,1,2])\n",
    "#     grover_circuit.append(diffuser(n), [0,1,2])\n",
    "  \n",
    "    \n",
    "#     #========================\n",
    "#     # Malicious Circuit\n",
    "#     #========================\n",
    "    \n",
    "#     for i in range(copies):    \n",
    "#         grover_circuit.cx(3,4)\n",
    "# #         grover_circuit.delay(0)\n",
    "        \n",
    "#     #========================\n",
    "#     grover_circuit.barrier()\n",
    "# #     grover_circuit.measure_all()\n",
    "#     grover_circuit.measure([0,1,2],[0,1,2])\n",
    "\n",
    "    \n",
    "#     return grover_circuit\n",
    "    "
   ]
  },
  {
   "cell_type": "code",
   "execution_count": 552,
   "metadata": {},
   "outputs": [],
   "source": [
    "# M1. Series of CX (with optimization mode = 0) \n",
    "# M2. Series of CX+Delay[0] (with optimization mode on) \n",
    "# M3. Series of CX with alternating controls \n",
    "# M4. Series of CX+H+H \n",
    "# M5. Series of X \n",
    "# M6. Series of Y \n",
    "# M7. Series of Z \n",
    "# M8. Series of H \n",
    "# M9. Series of CX alternating between 3 Qubits \n",
    "# M10. Series of CX steps between 4 Qubits\n",
    "\n",
    "def initialize_s(qc, qubits):\n",
    "    \"\"\"Apply a H-gate to 'qubits' in qc\"\"\"\n",
    "    for q in qubits:\n",
    "        qc.h(q)\n",
    "    return qc\n",
    "\n",
    "def grovers_algorithm(copies, mal_type): # k- decides the depth of the malicious circuit and d is the delay value\n",
    "    \n",
    "    if (mal_type == 'M10' or mal_type == 'M11'):\n",
    "        n = 6\n",
    "    \n",
    "    elif (mal_type == 'M9'):\n",
    "        n = 5\n",
    "    elif (mal_type == 'M12'):\n",
    "        n = 2\n",
    "    else:\n",
    "        n = 4     \n",
    "    \n",
    "#     grover_circuit = QuantumCircuit(n)\n",
    "    grover_circuit = QuantumCircuit(n)\n",
    "    \n",
    "    grover_circuit.barrier()\n",
    "############## VICTIM's CIRCUIT ######################    \n",
    "    grover_circuit = initialize_s(grover_circuit, [0,1])\n",
    "   \n",
    "    grover_circuit.cz(0,1) # Oracle\n",
    "\n",
    "    # Diffusion operator (U_s)\n",
    "    grover_circuit.h([0,1])\n",
    "    grover_circuit.z([0,1])\n",
    "    grover_circuit.cz(0,1)\n",
    "    grover_circuit.h([0,1])\n",
    "\n",
    "####################################################\n",
    "\n",
    "############ MALICIOUS CIRCUIT #####################\n",
    "    if (mal_type == 'M12'):\n",
    "        grover_circuit.barrier()\n",
    "        grover_circuit.delay(10**copies, unit = 'dt')\n",
    "    \n",
    "    else:\n",
    "        for i in range(copies):\n",
    "            if (mal_type == 'M1'):\n",
    "                grover_circuit.cx(2,3)\n",
    "\n",
    "            if (mal_type == 'M2'):\n",
    "                grover_circuit.cx(2,3)\n",
    "                grover_circuit.delay(0, qarg=2, unit = 'dt')\n",
    "\n",
    "            if (mal_type == 'M3'):\n",
    "                grover_circuit.cx(2,3)\n",
    "                grover_circuit.cx(3,2)\n",
    "\n",
    "            if (mal_type == 'M4'):\n",
    "                grover_circuit.cx(2,3)\n",
    "                grover_circuit.h(2)\n",
    "                grover_circuit.delay(0, qarg=2, unit = 'dt')\n",
    "                grover_circuit.h(2)\n",
    "\n",
    "            if (mal_type == 'M5'):\n",
    "                grover_circuit.x(2)\n",
    "                grover_circuit.delay(0, qarg=2, unit = 'dt')\n",
    "\n",
    "            if (mal_type == 'M6'):\n",
    "                grover_circuit.y(2)\n",
    "                grover_circuit.delay(0, qarg=2, unit = 'dt')\n",
    "\n",
    "            if (mal_type == 'M7'):\n",
    "                grover_circuit.z(2)\n",
    "                grover_circuit.delay(0, qarg=2, unit = 'dt')\n",
    "\n",
    "            if (mal_type == 'M8'):\n",
    "                grover_circuit.h(2)\n",
    "                grover_circuit.delay(0, qarg=2, unit = 'dt')\n",
    "\n",
    "            if (mal_type == 'M9'):\n",
    "                grover_circuit.cx(2,3)\n",
    "                grover_circuit.cx(3,4)\n",
    "\n",
    "            if (mal_type == 'M10'):\n",
    "                if i%2==1:\n",
    "                    grover_circuit.cx(3,2)\n",
    "                    grover_circuit.cx(4,3)\n",
    "                    grover_circuit.cx(5,4)\n",
    "                    grover_circuit.delay(0, qarg = 5)\n",
    "                else:\n",
    "                    grover_circuit.cx(5,4)\n",
    "                    grover_circuit.cx(4,3)\n",
    "                    grover_circuit.cx(3,2)\n",
    "                    grover_circuit.delay(0, qarg = 2)\n",
    "\n",
    "            if (mal_type == 'M11'):\n",
    "                grover_circuit.cx(4,5)\n",
    "                grover_circuit.delay(0, qarg=4, unit = 'dt')\n",
    "\n",
    "\n",
    "            \n",
    "####################################################\n",
    "\n",
    "    grover_circuit.barrier()\n",
    "    grover_circuit.measure_all()\n",
    "#     grover_circuit.measure(0,0)\n",
    "#     grover_circuit.measure(1,1)\n",
    "    \n",
    "    return grover_circuit"
   ]
  },
  {
   "cell_type": "code",
   "execution_count": 596,
   "metadata": {},
   "outputs": [
    {
     "name": "stdout",
     "output_type": "stream",
     "text": [
      "         ░ ┌───┐   ┌───┐┌───┐   ┌───┐ ░ ┌──────────────┐ ░  ░ ┌─┐   \n",
      "   q_0: ─░─┤ H ├─■─┤ H ├┤ Z ├─■─┤ H ├─░─┤ Delay(1[dt]) ├─░──░─┤M├───\n",
      "         ░ ├───┤ │ ├───┤├───┤ │ ├───┤ ░ ├──────────────┤ ░  ░ └╥┘┌─┐\n",
      "   q_1: ─░─┤ H ├─■─┤ H ├┤ Z ├─■─┤ H ├─░─┤ Delay(1[dt]) ├─░──░──╫─┤M├\n",
      "         ░ └───┘   └───┘└───┘   └───┘ ░ └──────────────┘ ░  ░  ║ └╥┘\n",
      "meas: 2/═══════════════════════════════════════════════════════╩══╩═\n",
      "                                                               0  1 \n"
     ]
    }
   ],
   "source": [
    "ga = grovers_algorithm(0, 'M12')\n",
    "print(ga)"
   ]
  },
  {
   "cell_type": "code",
   "execution_count": 597,
   "metadata": {},
   "outputs": [
    {
     "data": {
      "image/png": "[encoded data removed]",
      "text/plain": [
       "<Figure size 504x360 with 1 Axes>"
      ]
     },
     "execution_count": 597,
     "metadata": {},
     "output_type": "execute_result"
    }
   ],
   "source": [
    "aer_sim = Aer.get_backend('aer_simulator')\n",
    "# transpiled_circuit = transpile(qc, aer_sim)\n",
    "transpiled_circuit = transpile(ga, aer_sim)\n",
    "qobj = assemble(transpiled_circuit)\n",
    "results = aer_sim.run(qobj).result()\n",
    "counts = results.get_counts()\n",
    "plot_histogram(counts)"
   ]
  },
  {
   "cell_type": "code",
   "execution_count": 581,
   "metadata": {},
   "outputs": [],
   "source": [
    "# from qiskit.transpiler import CouplingMap\n",
    "# # cmap = CouplingMap([(0, 1), (1, 2), (2, 3), (3, 4)])\n",
    "# cmap = CouplingMap()\n",
    "# cmap.add_physical_qubit(0)\n",
    "# cmap.add_physical_qubit(1)\n",
    "# cmap.add_physical_qubit(4)\n",
    "# cmap.add_physical_qubit(5)\n",
    "# cmap.add_edge(0,1)\n",
    "# cmap.add_edge(4,5)"
   ]
  },
  {
   "cell_type": "code",
   "execution_count": 603,
   "metadata": {},
   "outputs": [
    {
     "name": "stdout",
     "output_type": "stream",
     "text": [
      "Running on device:  ibmq_quito\n"
     ]
    },
    {
     "data": {
      "image/png": "[encoded data removed]",
      "text/plain": [
       "<Figure size 360x360 with 1 Axes>"
      ]
     },
     "execution_count": 603,
     "metadata": {},
     "output_type": "execute_result"
    }
   ],
   "source": [
    "\n",
    "from qiskit.tools.monitor import job_monitor\n",
    "\n",
    "backend = device[4]\n",
    "print(\"Running on device: \", backend)\n",
    "\n",
    "transpiled_ga = transpile(ga, backend, optimization_level=3, scheduling_method='alap', seed_transpiler = 2 )\n",
    "# transpiled_ga = transpile(ga, backend, optimization_level=3, scheduling_method='alap', seed_transpiler = 10 )\n",
    "\n",
    "\n",
    "# transpiled_ga = transpile(ga, backend, initial_layout = [2,1,3,5], optimization_level=3, scheduling_method='alap')\n",
    "# transpiled_ga = transpile(ga, backend, initial_layout = [1,2,5,6], optimization_level=3, scheduling_method='alap')\n",
    "\n",
    "from qiskit import QuantumCircuit, transpile\n",
    "from qiskit.visualization import plot_circuit_layout\n",
    "plot_circuit_layout(transpiled_ga, backend = backend)"
   ]
  },
  {
   "cell_type": "code",
   "execution_count": 604,
   "metadata": {},
   "outputs": [
    {
     "name": "stdout",
     "output_type": "stream",
     "text": [
      "Job Status: job has successfully run\n"
     ]
    }
   ],
   "source": [
    "job = backend.run(transpiled_ga)\n",
    "job_monitor(job, interval=2)"
   ]
  },
  {
   "cell_type": "code",
   "execution_count": 605,
   "metadata": {},
   "outputs": [
    {
     "data": {
      "image/png": "[encoded data removed]",
      "text/plain": [
       "<Figure size 504x360 with 1 Axes>"
      ]
     },
     "execution_count": 605,
     "metadata": {},
     "output_type": "execute_result"
    }
   ],
   "source": [
    "results = job.result()\n",
    "answer = results.get_counts()\n",
    "plot_histogram(answer)"
   ]
  },
  {
   "cell_type": "code",
   "execution_count": 593,
   "metadata": {},
   "outputs": [],
   "source": [
    "plot_histogram(answer).savefig('line_plot.pdf')  "
   ]
  },
  {
   "cell_type": "code",
   "execution_count": 594,
   "metadata": {},
   "outputs": [
    {
     "data": {
      "text/plain": [
       "{'00': 50, '01': 262, '10': 135, '11': 577}"
      ]
     },
     "execution_count": 594,
     "metadata": {},
     "output_type": "execute_result"
    }
   ],
   "source": [
    "answer"
   ]
  },
  {
   "cell_type": "code",
   "execution_count": 527,
   "metadata": {},
   "outputs": [
    {
     "data": {
      "image/png": "[encoded data removed]",
      "text/plain": [
       "<Figure size 1563.79x505.68 with 1 Axes>"
      ]
     },
     "execution_count": 527,
     "metadata": {},
     "output_type": "execute_result"
    }
   ],
   "source": [
    "transpiled_ga.draw('mpl')"
   ]
  },
  {
   "cell_type": "code",
   "execution_count": 433,
   "metadata": {},
   "outputs": [
    {
     "data": {
      "image/png": "[encoded data removed]",
      "text/plain": [
       "<Figure size 360x360 with 1 Axes>"
      ]
     },
     "execution_count": 433,
     "metadata": {},
     "output_type": "execute_result"
    }
   ],
   "source": [
    "from qiskit import QuantumCircuit, transpile\n",
    "from qiskit.visualization import plot_circuit_layout\n",
    "plot_circuit_layout(transpiled_ga, backend = backend)"
   ]
  },
  {
   "cell_type": "code",
   "execution_count": 571,
   "metadata": {},
   "outputs": [
    {
     "name": "stdout",
     "output_type": "stream",
     "text": [
      "This is pdfTeX, Version 3.141592653-2.6-1.40.23 (MiKTeX 21.10)\n",
      "entering extended mode\n",
      "(grovers_circuit.tex\n",
      "LaTeX2e <2021-06-01> patch level 1\n",
      "L3 programming layer <2021-10-12>\n",
      "(C:\\Users\\sd982\\AppData\\Local\\Programs\\MiKTeX\\tex/latex/standalone\\standalone.c\n",
      "ls\n",
      "Document Class: standalone 2018/03/26 v1.3a Class to compile TeX sub-files stan\n",
      "dalone\n",
      "(C:\\Users\\sd982\\AppData\\Local\\Programs\\MiKTeX\\tex/latex/tools\\shellesc.sty)\n",
      "(C:\\Users\\sd982\\AppData\\Local\\Programs\\MiKTeX\\tex/generic/iftex\\ifluatex.sty\n",
      "(C:\\Users\\sd982\\AppData\\Local\\Programs\\MiKTeX\\tex/generic/iftex\\iftex.sty))\n",
      "(C:\\Users\\sd982\\AppData\\Local\\Programs\\MiKTeX\\tex/latex/xkeyval\\xkeyval.sty\n",
      "(C:\\Users\\sd982\\AppData\\Local\\Programs\\MiKTeX\\tex/generic/xkeyval\\xkeyval.tex\n",
      "(C:\\Users\\sd982\\AppData\\Local\\Programs\\MiKTeX\\tex/generic/xkeyval\\xkvutils.tex\n",
      "(C:\\Users\\sd982\\AppData\\Local\\Programs\\MiKTeX\\tex/generic/xkeyval\\keyval.tex)))\n",
      ")\n",
      "(C:\\Users\\sd982\\AppData\\Local\\Programs\\MiKTeX\\tex/latex/standalone\\standalone.c\n",
      "fg) (C:\\Users\\sd982\\AppData\\Local\\Programs\\MiKTeX\\tex/latex/base\\article.cls\n",
      "Document Class: article 2021/02/12 v1.4n Standard LaTeX document class\n",
      "(C:\\Users\\sd982\\AppData\\Local\\Programs\\MiKTeX\\tex/latex/base\\size10.clo)))\n",
      "(C:\\Users\\sd982\\AppData\\Local\\Programs\\MiKTeX\\tex/latex/qcircuit\\qcircuit.sty\n",
      "(C:\\Users\\sd982\\AppData\\Local\\Programs\\MiKTeX\\tex/generic/xypic\\xy.sty\n",
      "(C:\\Users\\sd982\\AppData\\Local\\Programs\\MiKTeX\\tex/generic/xypic\\xy.tex\n",
      "Bootstrap'ing: catcodes, docmode,\n",
      "(C:\\Users\\sd982\\AppData\\Local\\Programs\\MiKTeX\\tex/generic/xypic\\xyrecat.tex)\n",
      "(C:\\Users\\sd982\\AppData\\Local\\Programs\\MiKTeX\\tex/generic/xypic\\xyidioms.tex)\n",
      "\n",
      " Xy-pic version 3.8.9 <2013/10/06>\n",
      " Copyright (c) 1991-2013 by Kristoffer H. Rose <krisrose@tug.org> and others\n",
      " Xy-pic is free software: see the User's Guide for details.\n",
      "\n",
      "Loading kernel: messages; fonts; allocations: state, direction,\n",
      "utility macros; pictures: \\xy, positions, objects, decorations;\n",
      "kernel objects: directionals, circles, text; options; algorithms: directions,\n",
      "edges, connections;  Xy-pic loaded)\n",
      "(C:\\Users\\sd982\\AppData\\Local\\Programs\\MiKTeX\\tex/generic/iftex\\ifpdf.sty)\n",
      "(C:\\Users\\sd982\\AppData\\Local\\Programs\\MiKTeX\\tex/generic/xypic\\xypdf.tex\n",
      " Xy-pic option: PDF driver v.1.7 loaded))\n",
      "(C:\\Users\\sd982\\AppData\\Local\\Programs\\MiKTeX\\tex/generic/xypic\\xymatrix.tex\n",
      " Xy-pic option: Matrix feature v.3.14 loaded)\n",
      "(C:\\Users\\sd982\\AppData\\Local\\Programs\\MiKTeX\\tex/generic/xypic\\xyframe.tex\n",
      " Xy-pic option: Frame and Bracket extension v.3.14 loaded)\n",
      "Xy-pic pdf driver: `frame' extension support\n",
      "(C:\\Users\\sd982\\AppData\\Local\\Programs\\MiKTeX\\tex/generic/xypic\\xypdf-fr.tex\n",
      "(C:\\Users\\sd982\\AppData\\Local\\Programs\\MiKTeX\\tex/generic/xypic\\xycurve.tex\n",
      " Xy-pic option: Curve and Spline extension v.3.12 curve, circles, loaded)\n",
      "Xy-pic pdf driver: `curve' extension support\n",
      "(C:\\Users\\sd982\\AppData\\Local\\Programs\\MiKTeX\\tex/generic/xypic\\xypdf-cu.tex\n",
      "loaded) loaded)\n",
      "(C:\\Users\\sd982\\AppData\\Local\\Programs\\MiKTeX\\tex/generic/xypic\\xyarrow.tex\n",
      " Xy-pic option: Arrow and Path feature v.3.9 path, \\ar, loaded)\n",
      "(C:\\Users\\sd982\\AppData\\Local\\Programs\\MiKTeX\\tex/generic/xypic\\xyarc.tex\n",
      " Xy-pic option: Circle, Ellipse, Arc feature v.3.8 circles, ellipses,\n",
      "elliptical arcs, loaded))\n",
      "(C:\\Users\\sd982\\AppData\\Local\\Programs\\MiKTeX\\tex/latex/graphics\\graphicx.sty\n",
      "(C:\\Users\\sd982\\AppData\\Local\\Programs\\MiKTeX\\tex/latex/graphics\\graphics.sty\n",
      "(C:\\Users\\sd982\\AppData\\Local\\Programs\\MiKTeX\\tex/latex/graphics\\trig.sty)\n",
      "(C:\\Users\\sd982\\AppData\\Local\\Programs\\MiKTeX\\tex/latex/graphics-cfg\\graphics.c\n",
      "fg)\n",
      "(C:\\Users\\sd982\\AppData\\Local\\Programs\\MiKTeX\\tex/latex/graphics-def\\pdftex.def\n",
      ")))\n",
      "(C:\\Users\\sd982\\AppData\\Local\\Programs\\MiKTeX\\tex/latex/l3backend\\l3backend-pdf\n",
      "tex.def)\n",
      "No file grovers_circuit.aux.\n",
      "\n",
      "(C:\\Users\\sd982\\AppData\\Local\\Programs\\MiKTeX\\tex/context/base/mkii\\supp-pdf.mk\n",
      "ii\n",
      "[Loading MPS to PDF converter (version 2006.09.02).]\n",
      ")\n",
      "(C:\\Users\\sd982\\AppData\\Local\\Programs\\MiKTeX\\tex/latex/epstopdf-pkg\\epstopdf-b\n",
      "ase.sty\n",
      "(C:\\Users\\sd982\\AppData\\Local\\Programs\\MiKTeX\\tex/latex/00miktex\\epstopdf-sys.c\n",
      "fg))\n",
      "! TeX capacity exceeded, sorry [.6=200000].\n",
      "l.9 \n",
      "    \t \t\\nghost{ {ancilla}_{0}\\mapsto{0} :  } & \\lstick{ {ancilla}_{0}\\mapsto...\n",
      "\n",
      "!  ==> Fatal error occurred, no output PDF file produced!\n",
      "Transcript written on grovers_circuit.log.\n"
     ]
    }
   ],
   "source": [
    "# transpiled_ga.draw('mpl')\n",
    "transpiled_ga.draw('latex_source', filename='./grovers_circuit.tex')\n",
    "!pdflatex grovers_circuit.tex"
   ]
  },
  {
   "cell_type": "raw",
   "metadata": {},
   "source": []
  },
  {
   "cell_type": "code",
   "execution_count": 577,
   "metadata": {},
   "outputs": [
    {
     "name": "stdout",
     "output_type": "stream",
     "text": [
      "Running on device:  ibmq_lima\n",
      "Job Status: job has successfully run\n",
      "0 0.824\n",
      "Running on device:  ibmq_lima\n",
      "Job Status: job has successfully run\n",
      "1 0.766\n",
      "Running on device:  ibmq_lima\n",
      "Job Status: job has successfully run\n",
      "2 0.655\n",
      "Running on device:  ibmq_lima\n",
      "Job Status: job has successfully run\n",
      "3 0.613\n",
      "Running on device:  ibmq_lima\n",
      "Job Status: job has successfully run\n",
      "4 0.562\n",
      "Running on device:  ibmq_lima\n",
      "Job Status: job has successfully run\n",
      "5 0.555\n",
      "Running on device:  ibmq_lima\n",
      "Job Status: job has successfully run\n",
      "6 0.534\n",
      "Running on device:  ibmq_lima\n",
      "Job Status: job has successfully run\n",
      "7 0.533\n",
      "Running on device:  ibmq_lima\n",
      "Job Status: job has successfully run\n",
      "8 0.103\n",
      "Running on device:  ibmq_lima\n",
      "Job Status: job has successfully run\n",
      "9 0.254\n",
      "Running on device:  ibmq_lima\n",
      "Job Status: job has successfully run\n",
      "10 0.286\n",
      "Running on device:  ibmq_lima\n",
      "Job Status: job has successfully run\n",
      "11 0.474\n",
      "Running on device:  ibmq_lima\n",
      "Job Status: job has successfully run\n",
      "12 0.055\n",
      "Running on device:  ibmq_lima\n",
      "Job Status: job has successfully run\n",
      "13 0.25\n",
      "Running on device:  ibmq_lima\n",
      "Job Status: job has successfully run\n",
      "14 0.477\n",
      "Running on device:  ibmq_lima\n",
      "Job Status: job has successfully run\n",
      "15 0.252\n",
      "Running on device:  ibmq_lima\n",
      "Job Status: job is queued (2)     "
     ]
    },
    {
     "ename": "KeyboardInterrupt",
     "evalue": "",
     "output_type": "error",
     "traceback": [
      "\u001b[1;31m---------------------------------------------------------------------------\u001b[0m",
      "\u001b[1;31mKeyboardInterrupt\u001b[0m                         Traceback (most recent call last)",
      "\u001b[1;32m<ipython-input-577-9fd522d53482>\u001b[0m in \u001b[0;36m<module>\u001b[1;34m\u001b[0m\n\u001b[0;32m     15\u001b[0m \u001b[1;31m#     transpiled_ga = transpile(ga, backend, optimization_level=0, scheduling_method='alap')\u001b[0m\u001b[1;33m\u001b[0m\u001b[1;33m\u001b[0m\u001b[1;33m\u001b[0m\u001b[0m\n\u001b[0;32m     16\u001b[0m     \u001b[0mjob\u001b[0m \u001b[1;33m=\u001b[0m \u001b[0mbackend\u001b[0m\u001b[1;33m.\u001b[0m\u001b[0mrun\u001b[0m\u001b[1;33m(\u001b[0m\u001b[0mtranspiled_ga\u001b[0m\u001b[1;33m)\u001b[0m\u001b[1;33m\u001b[0m\u001b[1;33m\u001b[0m\u001b[0m\n\u001b[1;32m---> 17\u001b[1;33m     \u001b[0mjob_monitor\u001b[0m\u001b[1;33m(\u001b[0m\u001b[0mjob\u001b[0m\u001b[1;33m,\u001b[0m \u001b[0minterval\u001b[0m\u001b[1;33m=\u001b[0m\u001b[1;36m2\u001b[0m\u001b[1;33m)\u001b[0m\u001b[1;33m\u001b[0m\u001b[1;33m\u001b[0m\u001b[0m\n\u001b[0m\u001b[0;32m     18\u001b[0m \u001b[1;33m\u001b[0m\u001b[0m\n\u001b[0;32m     19\u001b[0m     \u001b[0mresults\u001b[0m \u001b[1;33m=\u001b[0m \u001b[0mjob\u001b[0m\u001b[1;33m.\u001b[0m\u001b[0mresult\u001b[0m\u001b[1;33m(\u001b[0m\u001b[1;33m)\u001b[0m\u001b[1;33m\u001b[0m\u001b[1;33m\u001b[0m\u001b[0m\n",
      "\u001b[1;32m~\\Anaconda3\\lib\\site-packages\\qiskit\\tools\\monitor\\job_monitor.py\u001b[0m in \u001b[0;36mjob_monitor\u001b[1;34m(job, interval, quiet, output, line_discipline)\u001b[0m\n\u001b[0;32m     87\u001b[0m         \u001b[0m_interval_set\u001b[0m \u001b[1;33m=\u001b[0m \u001b[1;32mTrue\u001b[0m\u001b[1;33m\u001b[0m\u001b[1;33m\u001b[0m\u001b[0m\n\u001b[0;32m     88\u001b[0m \u001b[1;33m\u001b[0m\u001b[0m\n\u001b[1;32m---> 89\u001b[1;33m     _text_checker(\n\u001b[0m\u001b[0;32m     90\u001b[0m         \u001b[0mjob\u001b[0m\u001b[1;33m,\u001b[0m \u001b[0minterval\u001b[0m\u001b[1;33m,\u001b[0m \u001b[0m_interval_set\u001b[0m\u001b[1;33m,\u001b[0m \u001b[0mquiet\u001b[0m\u001b[1;33m=\u001b[0m\u001b[0mquiet\u001b[0m\u001b[1;33m,\u001b[0m \u001b[0moutput\u001b[0m\u001b[1;33m=\u001b[0m\u001b[0moutput\u001b[0m\u001b[1;33m,\u001b[0m \u001b[0mline_discipline\u001b[0m\u001b[1;33m=\u001b[0m\u001b[0mline_discipline\u001b[0m\u001b[1;33m\u001b[0m\u001b[1;33m\u001b[0m\u001b[0m\n\u001b[0;32m     91\u001b[0m     )\n",
      "\u001b[1;32m~\\Anaconda3\\lib\\site-packages\\qiskit\\tools\\monitor\\job_monitor.py\u001b[0m in \u001b[0;36m_text_checker\u001b[1;34m(job, interval, _interval_set, quiet, output, line_discipline)\u001b[0m\n\u001b[0;32m     42\u001b[0m         \u001b[0mprint\u001b[0m\u001b[1;33m(\u001b[0m\u001b[1;34m\"{}{}: {}\"\u001b[0m\u001b[1;33m.\u001b[0m\u001b[0mformat\u001b[0m\u001b[1;33m(\u001b[0m\u001b[0mline_discipline\u001b[0m\u001b[1;33m,\u001b[0m \u001b[1;34m\"Job Status\"\u001b[0m\u001b[1;33m,\u001b[0m \u001b[0mmsg\u001b[0m\u001b[1;33m)\u001b[0m\u001b[1;33m,\u001b[0m \u001b[0mend\u001b[0m\u001b[1;33m=\u001b[0m\u001b[1;34m\"\"\u001b[0m\u001b[1;33m,\u001b[0m \u001b[0mfile\u001b[0m\u001b[1;33m=\u001b[0m\u001b[0moutput\u001b[0m\u001b[1;33m)\u001b[0m\u001b[1;33m\u001b[0m\u001b[1;33m\u001b[0m\u001b[0m\n\u001b[0;32m     43\u001b[0m     \u001b[1;32mwhile\u001b[0m \u001b[0mstatus\u001b[0m\u001b[1;33m.\u001b[0m\u001b[0mname\u001b[0m \u001b[1;32mnot\u001b[0m \u001b[1;32min\u001b[0m \u001b[1;33m[\u001b[0m\u001b[1;34m\"DONE\"\u001b[0m\u001b[1;33m,\u001b[0m \u001b[1;34m\"CANCELLED\"\u001b[0m\u001b[1;33m,\u001b[0m \u001b[1;34m\"ERROR\"\u001b[0m\u001b[1;33m]\u001b[0m\u001b[1;33m:\u001b[0m\u001b[1;33m\u001b[0m\u001b[1;33m\u001b[0m\u001b[0m\n\u001b[1;32m---> 44\u001b[1;33m         \u001b[0mtime\u001b[0m\u001b[1;33m.\u001b[0m\u001b[0msleep\u001b[0m\u001b[1;33m(\u001b[0m\u001b[0minterval\u001b[0m\u001b[1;33m)\u001b[0m\u001b[1;33m\u001b[0m\u001b[1;33m\u001b[0m\u001b[0m\n\u001b[0m\u001b[0;32m     45\u001b[0m         \u001b[0mstatus\u001b[0m \u001b[1;33m=\u001b[0m \u001b[0mjob\u001b[0m\u001b[1;33m.\u001b[0m\u001b[0mstatus\u001b[0m\u001b[1;33m(\u001b[0m\u001b[1;33m)\u001b[0m\u001b[1;33m\u001b[0m\u001b[1;33m\u001b[0m\u001b[0m\n\u001b[0;32m     46\u001b[0m         \u001b[0mmsg\u001b[0m \u001b[1;33m=\u001b[0m \u001b[0mstatus\u001b[0m\u001b[1;33m.\u001b[0m\u001b[0mvalue\u001b[0m\u001b[1;33m\u001b[0m\u001b[1;33m\u001b[0m\u001b[0m\n",
      "\u001b[1;31mKeyboardInterrupt\u001b[0m: "
     ]
    }
   ],
   "source": [
    "from qiskit.tools.monitor import job_monitor\n",
    "import winsound\n",
    "import time\n",
    "\n",
    "iterations = 20\n",
    "f = open(\"GA_CX.txt\", \"w\")\n",
    "backend = device[0]\n",
    "answer= [0]*iterations\n",
    "f.write(str(backend))\n",
    "f.write(str(\"\\n\"))\n",
    "for i in range(0,iterations,1):\n",
    "    ga = grovers_algorithm(i,'M1')\n",
    "    print(\"Running on device: \", backend)\n",
    "    transpiled_ga = transpile(ga, backend, optimization_level=0, scheduling_method='alap')\n",
    "#     transpiled_ga = transpile(ga, backend, optimization_level=0, scheduling_method='alap')\n",
    "    job = backend.run(transpiled_ga) \n",
    "    job_monitor(job, interval=2)\n",
    "\n",
    "    results = job.result()\n",
    "    answer[i] = results.get_counts()\n",
    "    prob = int(answer[i]['0011'])/1000\n",
    "    \n",
    "#     answer[i] = results.get_counts()\n",
    "#     prob = int(answer[i]['11'])/1000\n",
    "        \n",
    "    print(i, prob)\n",
    "    f.write(str(i))\n",
    "    f.write(str(\", \"))\n",
    "    f.write(str(prob))\n",
    "    f.write(str(\"\\n\"))\n",
    "    \n",
    "f.close()\n",
    "\n",
    "# Beeper\n",
    "frequency = 2500  # Set Frequency To 2500 Hertz\n",
    "duration = 1000  # Set Duration To 1000 ms == 1 second\n",
    "for i in range(10):\n",
    "    winsound.Beep(frequency, duration)\n",
    "    time.sleep(1)"
   ]
  },
  {
   "cell_type": "code",
   "execution_count": 569,
   "metadata": {},
   "outputs": [
    {
     "data": {
      "text/plain": [
       "[0,\n",
       " 0,\n",
       " 0,\n",
       " {'0000': 4,\n",
       "  '0001': 17,\n",
       "  '0010': 44,\n",
       "  '0011': 254,\n",
       "  '0100': 7,\n",
       "  '0101': 9,\n",
       "  '0110': 32,\n",
       "  '0111': 192,\n",
       "  '1000': 8,\n",
       "  '1001': 13,\n",
       "  '1010': 41,\n",
       "  '1011': 192,\n",
       "  '1100': 2,\n",
       "  '1101': 15,\n",
       "  '1110': 26,\n",
       "  '1111': 168},\n",
       " {'0000': 3,\n",
       "  '0001': 25,\n",
       "  '0010': 22,\n",
       "  '0011': 262,\n",
       "  '0100': 1,\n",
       "  '0101': 17,\n",
       "  '0110': 18,\n",
       "  '0111': 222,\n",
       "  '1000': 2,\n",
       "  '1001': 13,\n",
       "  '1010': 14,\n",
       "  '1011': 202,\n",
       "  '1100': 2,\n",
       "  '1101': 13,\n",
       "  '1110': 9,\n",
       "  '1111': 199},\n",
       " {'0000': 6,\n",
       "  '0001': 43,\n",
       "  '0010': 16,\n",
       "  '0011': 203,\n",
       "  '0100': 3,\n",
       "  '0101': 31,\n",
       "  '0110': 20,\n",
       "  '0111': 216,\n",
       "  '1000': 3,\n",
       "  '1001': 26,\n",
       "  '1010': 22,\n",
       "  '1011': 219,\n",
       "  '1100': 1,\n",
       "  '1101': 27,\n",
       "  '1110': 13,\n",
       "  '1111': 175},\n",
       " 0,\n",
       " 0]"
      ]
     },
     "execution_count": 569,
     "metadata": {},
     "output_type": "execute_result"
    }
   ],
   "source": [
    "answer"
   ]
  },
  {
   "cell_type": "code",
   "execution_count": 557,
   "metadata": {},
   "outputs": [
    {
     "data": {
      "image/png": "[encoded data removed]",
      "text/plain": [
       "<Figure size 1443.53x385.28 with 1 Axes>"
      ]
     },
     "execution_count": 557,
     "metadata": {},
     "output_type": "execute_result"
    }
   ],
   "source": [
    "transpiled_ga.draw('mpl')"
   ]
  },
  {
   "cell_type": "markdown",
   "metadata": {},
   "source": [
    "# Duration Analysis Code"
   ]
  },
  {
   "cell_type": "code",
   "execution_count": null,
   "metadata": {},
   "outputs": [],
   "source": [
    "transpiled_q = [0]*len(device)\n",
    "for i in range(len(device)):\n",
    "    print(\"============================================\")\n",
    "    print(device[i])\n",
    "#     transpiled_q[i] = transpile(q, device[i], optimization_level=3, scheduling_method='alap')\n",
    "    transpiled_q[i] = transpile(malicious_grover, device[i], optimization_level=3, scheduling_method='alap')\n",
    "    print(transpiled_q[i])\n",
    "    print(\"============================================\")"
   ]
  },
  {
   "cell_type": "code",
   "execution_count": null,
   "metadata": {},
   "outputs": [],
   "source": [
    "j = 0\n",
    "print(device[j])\n",
    "transpiled_q[j].draw('mpl')"
   ]
  },
  {
   "cell_type": "code",
   "execution_count": 157,
   "metadata": {},
   "outputs": [],
   "source": [
    "from qiskit.transpiler import CouplingMap\n",
    "coupling_map = CouplingMap([[0,0],[1,1],[3,5],[4,6]])"
   ]
  },
  {
   "cell_type": "code",
   "execution_count": 158,
   "metadata": {},
   "outputs": [
    {
     "data": {
      "text/plain": [
       "<qiskit.transpiler.coupling.CouplingMap at 0x28592632dc0>"
      ]
     },
     "execution_count": 158,
     "metadata": {},
     "output_type": "execute_result"
    }
   ],
   "source": [
    "coupling_map"
   ]
  },
  {
   "cell_type": "code",
   "execution_count": 182,
   "metadata": {},
   "outputs": [
    {
     "name": "stdout",
     "output_type": "stream",
     "text": [
      "Requirement already satisfied: neato in c:\\users\\sd982\\anaconda3\\lib\\site-packages (1.0.0)\n",
      "Requirement already satisfied: numpy in c:\\users\\sd982\\anaconda3\\lib\\site-packages (from neato) (1.20.1)\n"
     ]
    }
   ],
   "source": [
    "!pip install neato"
   ]
  },
  {
   "cell_type": "code",
   "execution_count": null,
   "metadata": {},
   "outputs": [],
   "source": []
  }
 ],
 "metadata": {
  "kernelspec": {
   "display_name": "Python 3",
   "language": "python",
   "name": "python3"
  }
 },
 "nbformat": 4,
 "nbformat_minor": 4
}
