{
 "cells": [
  {
   "cell_type": "code",
   "execution_count": 111,
   "metadata": {},
   "outputs": [],
   "source": [
    "from qiskit import IBMQ "
   ]
  },
  {
   "cell_type": "code",
   "execution_count": 3,
   "metadata": {},
   "outputs": [
    {
     "name": "stderr",
     "output_type": "stream",
     "text": [
      "ibmqfactory.load_account:WARNING:2022-02-01 21:20:08,829: Credentials are already in use. The existing account in the session will be replaced.\n"
     ]
    }
   ],
   "source": [
    "#initialization\n",
    "import matplotlib.pyplot as plt\n",
    "import numpy as np\n",
    "\n",
    "# importing Qiskit\n",
    "from qiskit import IBMQ, Aer, assemble, transpile\n",
    "from qiskit import QuantumCircuit, ClassicalRegister, QuantumRegister\n",
    "from qiskit.providers.ibmq import least_busy\n",
    "from qiskit.circuit.library import MCMT\n",
    "\n",
    "# import basic plot tools\n",
    "from qiskit.visualization import plot_histogram\n",
    "\n",
    "# Load IBM Q account and get the least busy backend device\n",
    "provider = IBMQ.load_account()\n",
    "# provider = IBMQ.get_provider(\"ibm-q\")\n",
    "provider = IBMQ.get_provider(hub='ibm-q-education', group='yale-uni-2', project='cpsc647-quantum')\n",
    "# device = provider.get_backend('ibmq_lima') #run on ibmq_lima (5-qbit QC)"
   ]
  },
  {
   "cell_type": "code",
   "execution_count": 4,
   "metadata": {},
   "outputs": [
    {
     "name": "stdout",
     "output_type": "stream",
     "text": [
      "Device 0 = ibmq_lima\n",
      "Device 1 = ibmq_bogota\n",
      "Device 2 = ibmq_santiago\n",
      "Device 3 = ibmq_manila\n",
      "Device 4 = ibmq_quito\n",
      "Device 5 = ibmq_belem\n",
      "Device 6 = ibmq_casablanca\n",
      "Device 7 = ibmq_jakarta\n",
      "Device 8 = ibm_lagos\n",
      "Device 9 = ibm_perth\n"
     ]
    }
   ],
   "source": [
    "device_names =  ['ibmq_lima', 'ibmq_bogota', 'ibmq_santiago', 'ibmq_manila', 'ibmq_quito', 'ibmq_belem', 'ibmq_casablanca', 'ibmq_jakarta', 'ibm_lagos', 'ibm_perth'  ]\n",
    "# device_names =  ['ibmq_lima', 'ibmq_bogota', 'ibmq_santiago', 'ibmq_manila', 'ibmq_quito', 'ibmq_belem']\n",
    "device = [0]*len(device_names)\n",
    "for i in range(len(device_names)):\n",
    "    device[i] = provider.get_backend(device_names[i])\n",
    "    print(\"Device\", i , \"=\", device[i])\n"
   ]
  },
  {
   "cell_type": "code",
   "execution_count": 426,
   "metadata": {},
   "outputs": [],
   "source": [
    "# def initialize_s(qc, qubits):\n",
    "#     \"\"\"Apply a H-gate to 'qubits' in qc\"\"\"\n",
    "#     for q in qubits:\n",
    "#         qc.h(q)\n",
    "#     return qc\n",
    "\n",
    "# def diffuser(nqubits):\n",
    "#     qc = QuantumCircuit(nqubits)\n",
    "#     # Apply transformation |s> -> |00..0> (H-gates)\n",
    "#     for qubit in range(nqubits):\n",
    "#         qc.h(qubit)\n",
    "#     # Apply transformation |00..0> -> |11..1> (X-gates)\n",
    "#     for qubit in range(nqubits):\n",
    "#         qc.x(qubit)\n",
    "#     # Do multi-controlled-Z gate\n",
    "#     qc.h(nqubits-1)\n",
    "#     qc.mct(list(range(nqubits-1)), nqubits-1)  # multi-controlled-toffoli\n",
    "#     qc.h(nqubits-1)\n",
    "#     # Apply transformation |11..1> -> |00..0>\n",
    "#     for qubit in range(nqubits):\n",
    "#         qc.x(qubit)\n",
    "#     # Apply transformation |00..0> -> |s>\n",
    "#     for qubit in range(nqubits):\n",
    "#         qc.h(qubit)\n",
    "#     # We will return the diffuser as a gate\n",
    "#     U_s = qc.to_gate()\n",
    "#     U_s.name = \"U$_s$\"\n",
    "#     return U_s"
   ]
  },
  {
   "cell_type": "code",
   "execution_count": 428,
   "metadata": {},
   "outputs": [],
   "source": [
    "# def grovers_algorithm_3(copies):\n",
    "#     n = 3 #number of qbits\n",
    "#     qc = QuantumCircuit(3)\n",
    "# #     qc.cz(0, 2)\n",
    "# #     qc.cz(1, 2)\n",
    "\n",
    "#     oracle_ex3 = qc.to_gate()\n",
    "#     oracle_ex3.name = \"U$_\\omega$\"\n",
    "#     grover_circuit = QuantumCircuit(5,5)\n",
    "# #     grover_circuit = QuantumCircuit(5)\n",
    "#     grover_circuit.barrier()\n",
    "#     grover_circuit = initialize_s(grover_circuit, [0,1,2])\n",
    "#     grover_circuit.append(oracle_ex3, [0,1,2])\n",
    "#     grover_circuit.append(diffuser(n), [0,1,2])\n",
    "  \n",
    "    \n",
    "#     #========================\n",
    "#     # Malicious Circuit\n",
    "#     #========================\n",
    "    \n",
    "#     for i in range(copies):    \n",
    "#         grover_circuit.cx(3,4)\n",
    "# #         grover_circuit.delay(0)\n",
    "        \n",
    "#     #========================\n",
    "#     grover_circuit.barrier()\n",
    "# #     grover_circuit.measure_all()\n",
    "#     grover_circuit.measure([0,1,2],[0,1,2])\n",
    "\n",
    "    \n",
    "#     return grover_circuit\n",
    "    "
   ]
  },
  {
   "cell_type": "code",
   "execution_count": 5,
   "metadata": {},
   "outputs": [],
   "source": [
    "# M1. Series of CX (with optimization mode = 0) \n",
    "# M2. Series of CX+Delay[0] (with optimization mode on) \n",
    "# M3. Series of CX with alternating controls \n",
    "# M4. Series of CX+H+H \n",
    "# M5. Series of X \n",
    "# M6. Series of Y \n",
    "# M7. Series of Z \n",
    "# M8. Series of H \n",
    "# M9. Series of CX alternating between 3 Qubits \n",
    "# M10. Series of CX steps between 4 Qubits\n",
    "\n",
    "def initialize_s(qc, qubits):\n",
    "    \"\"\"Apply a H-gate to 'qubits' in qc\"\"\"\n",
    "    for q in qubits:\n",
    "        qc.h(q)\n",
    "    return qc\n",
    "\n",
    "def grovers_algorithm(copies, mal_type): # k- decides the depth of the malicious circuit and d is the delay value\n",
    "    \n",
    "    if (mal_type == 'M10' or mal_type == 'M11'):\n",
    "        n = 6\n",
    "    \n",
    "    elif (mal_type == 'M9'):\n",
    "        n = 5\n",
    "    elif (mal_type == 'M12'):\n",
    "        n = 2\n",
    "    else:\n",
    "        n = 4     \n",
    "    \n",
    "#     grover_circuit = QuantumCircuit(n,2)\n",
    "    grover_circuit = QuantumCircuit(n)\n",
    "    \n",
    "    \n",
    "    grover_circuit.barrier()\n",
    "############## VICTIM's CIRCUIT ######################    \n",
    "    grover_circuit = initialize_s(grover_circuit, [0,1])\n",
    "   \n",
    "    grover_circuit.cz(0,1) # Oracle\n",
    "\n",
    "    # Diffusion operator (U_s)\n",
    "    grover_circuit.h([0,1])\n",
    "    grover_circuit.z([0,1])\n",
    "    grover_circuit.cz(0,1)\n",
    "    grover_circuit.h([0,1])\n",
    "\n",
    "####################################################\n",
    "\n",
    "############ MALICIOUS CIRCUIT #####################\n",
    "    if (mal_type == 'M12'):\n",
    "        grover_circuit.barrier()\n",
    "        grover_circuit.delay(10**copies, unit = 'dt')\n",
    "    \n",
    "    else:\n",
    "        for i in range(copies):\n",
    "            if (mal_type == 'M1'):\n",
    "                grover_circuit.cx(2,3)\n",
    "\n",
    "            if (mal_type == 'M2'):\n",
    "                grover_circuit.cx(2,3)\n",
    "                grover_circuit.delay(0, qarg=2, unit = 'dt')\n",
    "\n",
    "            if (mal_type == 'M3'):\n",
    "                grover_circuit.cx(2,3)\n",
    "                grover_circuit.cx(3,2)\n",
    "\n",
    "            if (mal_type == 'M4'):\n",
    "                grover_circuit.cx(2,3)\n",
    "                grover_circuit.h(2)\n",
    "                grover_circuit.delay(0, qarg=2, unit = 'dt')\n",
    "                grover_circuit.h(2)\n",
    "\n",
    "            if (mal_type == 'M5'):\n",
    "                grover_circuit.x(2)\n",
    "                grover_circuit.delay(0, qarg=2, unit = 'dt')\n",
    "\n",
    "            if (mal_type == 'M6'):\n",
    "                grover_circuit.y(2)\n",
    "                grover_circuit.delay(0, qarg=2, unit = 'dt')\n",
    "\n",
    "            if (mal_type == 'M7'):\n",
    "                grover_circuit.z(2)\n",
    "                grover_circuit.delay(0, qarg=2, unit = 'dt')\n",
    "\n",
    "            if (mal_type == 'M8'):\n",
    "                grover_circuit.h(2)\n",
    "                grover_circuit.delay(0, qarg=2, unit = 'dt')\n",
    "\n",
    "            if (mal_type == 'M9'):\n",
    "                grover_circuit.cx(2,3)\n",
    "                grover_circuit.cx(3,4)\n",
    "\n",
    "            if (mal_type == 'M10'):\n",
    "                if i%2==1:\n",
    "                    grover_circuit.cx(3,2)\n",
    "                    grover_circuit.cx(4,3)\n",
    "                    grover_circuit.cx(5,4)\n",
    "                    grover_circuit.delay(0, qarg = 5)\n",
    "                else:\n",
    "                    grover_circuit.cx(5,4)\n",
    "                    grover_circuit.cx(4,3)\n",
    "                    grover_circuit.cx(3,2)\n",
    "                    grover_circuit.delay(0, qarg = 2)\n",
    "\n",
    "            if (mal_type == 'M11'):\n",
    "                grover_circuit.cx(4,5)\n",
    "                grover_circuit.delay(0, qarg=4, unit = 'dt')\n",
    "\n",
    "\n",
    "            \n",
    "####################################################\n",
    "\n",
    "    grover_circuit.barrier()\n",
    "    grover_circuit.measure_all()\n",
    "#     grover_circuit.measure(0,0)\n",
    "#     grover_circuit.measure(1,1)\n",
    "    \n",
    "    return grover_circuit"
   ]
  },
  {
   "cell_type": "code",
   "execution_count": 88,
   "metadata": {},
   "outputs": [
    {
     "name": "stdout",
     "output_type": "stream",
     "text": [
      "         ░ ┌───┐                ┌───┐     ┌───┐                ┌───┐           »\n",
      "   q_0: ─░─┤ H ├───────■────────┤ H ├─────┤ Z ├────────■───────┤ H ├───────────»\n",
      "         ░ ├───┤       │        ├───┤     ├───┤        │       ├───┤           »\n",
      "   q_1: ─░─┤ H ├───────■────────┤ H ├─────┤ Z ├────────■───────┤ H ├───────────»\n",
      "         ░ └───┘┌──────────────┐└───┘┌────┴───┴─────┐     ┌────┴───┴─────┐     »\n",
      "   q_2: ─░───■──┤ Delay(0[dt]) ├──■──┤ Delay(0[dt]) ├──■──┤ Delay(0[dt]) ├──■──»\n",
      "         ░ ┌─┴─┐└──────────────┘┌─┴─┐└──────────────┘┌─┴─┐└──────────────┘┌─┴─┐»\n",
      "   q_3: ─░─┤ X ├────────────────┤ X ├────────────────┤ X ├────────────────┤ X ├»\n",
      "         ░ └───┘                └───┘                └───┘                └───┘»\n",
      "meas: 4/═══════════════════════════════════════════════════════════════════════»\n",
      "                                                                               »\n",
      "«                                                                       »\n",
      "«   q_0: ───────────────────────────────────────────────────────────────»\n",
      "«                                                                       »\n",
      "«   q_1: ───────────────────────────────────────────────────────────────»\n",
      "«        ┌──────────────┐     ┌──────────────┐     ┌──────────────┐     »\n",
      "«   q_2: ┤ Delay(0[dt]) ├──■──┤ Delay(0[dt]) ├──■──┤ Delay(0[dt]) ├──■──»\n",
      "«        └──────────────┘┌─┴─┐└──────────────┘┌─┴─┐└──────────────┘┌─┴─┐»\n",
      "«   q_3: ────────────────┤ X ├────────────────┤ X ├────────────────┤ X ├»\n",
      "«                        └───┘                └───┘                └───┘»\n",
      "«meas: 4/═══════════════════════════════════════════════════════════════»\n",
      "«                                                                       »\n",
      "«                                                                       »\n",
      "«   q_0: ───────────────────────────────────────────────────────────────»\n",
      "«                                                                       »\n",
      "«   q_1: ───────────────────────────────────────────────────────────────»\n",
      "«        ┌──────────────┐     ┌──────────────┐     ┌──────────────┐     »\n",
      "«   q_2: ┤ Delay(0[dt]) ├──■──┤ Delay(0[dt]) ├──■──┤ Delay(0[dt]) ├──■──»\n",
      "«        └──────────────┘┌─┴─┐└──────────────┘┌─┴─┐└──────────────┘┌─┴─┐»\n",
      "«   q_3: ────────────────┤ X ├────────────────┤ X ├────────────────┤ X ├»\n",
      "«                        └───┘                └───┘                └───┘»\n",
      "«meas: 4/═══════════════════════════════════════════════════════════════»\n",
      "«                                                                       »\n",
      "«                                                                       »\n",
      "«   q_0: ───────────────────────────────────────────────────────────────»\n",
      "«                                                                       »\n",
      "«   q_1: ───────────────────────────────────────────────────────────────»\n",
      "«        ┌──────────────┐     ┌──────────────┐     ┌──────────────┐     »\n",
      "«   q_2: ┤ Delay(0[dt]) ├──■──┤ Delay(0[dt]) ├──■──┤ Delay(0[dt]) ├──■──»\n",
      "«        └──────────────┘┌─┴─┐└──────────────┘┌─┴─┐└──────────────┘┌─┴─┐»\n",
      "«   q_3: ────────────────┤ X ├────────────────┤ X ├────────────────┤ X ├»\n",
      "«                        └───┘                └───┘                └───┘»\n",
      "«meas: 4/═══════════════════════════════════════════════════════════════»\n",
      "«                                                                       »\n",
      "«                                                                       »\n",
      "«   q_0: ───────────────────────────────────────────────────────────────»\n",
      "«                                                                       »\n",
      "«   q_1: ───────────────────────────────────────────────────────────────»\n",
      "«        ┌──────────────┐     ┌──────────────┐     ┌──────────────┐     »\n",
      "«   q_2: ┤ Delay(0[dt]) ├──■──┤ Delay(0[dt]) ├──■──┤ Delay(0[dt]) ├──■──»\n",
      "«        └──────────────┘┌─┴─┐└──────────────┘┌─┴─┐└──────────────┘┌─┴─┐»\n",
      "«   q_3: ────────────────┤ X ├────────────────┤ X ├────────────────┤ X ├»\n",
      "«                        └───┘                └───┘                └───┘»\n",
      "«meas: 4/═══════════════════════════════════════════════════════════════»\n",
      "«                                                                       »\n",
      "«                                                                       »\n",
      "«   q_0: ───────────────────────────────────────────────────────────────»\n",
      "«                                                                       »\n",
      "«   q_1: ───────────────────────────────────────────────────────────────»\n",
      "«        ┌──────────────┐     ┌──────────────┐     ┌──────────────┐     »\n",
      "«   q_2: ┤ Delay(0[dt]) ├──■──┤ Delay(0[dt]) ├──■──┤ Delay(0[dt]) ├──■──»\n",
      "«        └──────────────┘┌─┴─┐└──────────────┘┌─┴─┐└──────────────┘┌─┴─┐»\n",
      "«   q_3: ────────────────┤ X ├────────────────┤ X ├────────────────┤ X ├»\n",
      "«                        └───┘                └───┘                └───┘»\n",
      "«meas: 4/═══════════════════════════════════════════════════════════════»\n",
      "«                                                                       »\n",
      "«                                              ░  ░ ┌─┐         \n",
      "«   q_0: ──────────────────────────────────────░──░─┤M├─────────\n",
      "«                                              ░  ░ └╥┘┌─┐      \n",
      "«   q_1: ──────────────────────────────────────░──░──╫─┤M├──────\n",
      "«        ┌──────────────┐     ┌──────────────┐ ░  ░  ║ └╥┘┌─┐   \n",
      "«   q_2: ┤ Delay(0[dt]) ├──■──┤ Delay(0[dt]) ├─░──░──╫──╫─┤M├───\n",
      "«        └──────────────┘┌─┴─┐└──────────────┘ ░  ░  ║  ║ └╥┘┌─┐\n",
      "«   q_3: ────────────────┤ X ├─────────────────░──░──╫──╫──╫─┤M├\n",
      "«                        └───┘                 ░  ░  ║  ║  ║ └╥┘\n",
      "«meas: 4/════════════════════════════════════════════╩══╩══╩══╩═\n",
      "«                                                    0  1  2  3 \n"
     ]
    }
   ],
   "source": [
    "ga = grovers_algorithm(20, 'M2')\n",
    "print(ga)"
   ]
  },
  {
   "cell_type": "code",
   "execution_count": 89,
   "metadata": {},
   "outputs": [
    {
     "data": {
      "image/png": "[encoded data removed]",
      "text/plain": [
       "<Figure size 504x360 with 1 Axes>"
      ]
     },
     "execution_count": 89,
     "metadata": {},
     "output_type": "execute_result"
    }
   ],
   "source": [
    "aer_sim = Aer.get_backend('aer_simulator')\n",
    "# transpiled_circuit = transpile(qc, aer_sim)\n",
    "transpiled_circuit = transpile(ga, aer_sim)\n",
    "qobj = assemble(transpiled_circuit)\n",
    "results = aer_sim.run(qobj).result()\n",
    "counts = results.get_counts()\n",
    "plot_histogram(counts)"
   ]
  },
  {
   "cell_type": "code",
   "execution_count": 90,
   "metadata": {},
   "outputs": [],
   "source": [
    "# from qiskit.transpiler import CouplingMap\n",
    "# # cmap = CouplingMap([(0, 1), (1, 2), (2, 3), (3, 4)])\n",
    "# cmap = CouplingMap()\n",
    "# cmap.add_physical_qubit(0)\n",
    "# cmap.add_physical_qubit(1)\n",
    "# cmap.add_physical_qubit(4)\n",
    "# cmap.add_physical_qubit(5)\n",
    "# cmap.add_edge(0,1)\n",
    "# cmap.add_edge(4,5)"
   ]
  },
  {
   "cell_type": "code",
   "execution_count": 118,
   "metadata": {},
   "outputs": [
    {
     "name": "stdout",
     "output_type": "stream",
     "text": [
      "Running on device:  ibmq_jakarta\n"
     ]
    },
    {
     "data": {
      "image/png": "[encoded data removed]",
      "text/plain": [
       "<Figure size 360x360 with 1 Axes>"
      ]
     },
     "execution_count": 118,
     "metadata": {},
     "output_type": "execute_result"
    }
   ],
   "source": [
    "\n",
    "from qiskit.tools.monitor import job_monitor\n",
    "\n",
    "backend = device[7]\n",
    "print(\"Running on device: \", backend)\n",
    "\n",
    "transpiled_ga = transpile(ga, backend, optimization_level=3, scheduling_method='alap', seed_transpiler = 16 )\n",
    "# transpiled_ga = transpile(ga, backend, optimization_level=3, scheduling_method='alap', seed_transpiler = 4 )\n",
    "\n",
    "\n",
    "# transpiled_ga = transpile(ga, backend, initial_layout = [2,1,3,5], optimization_level=3, scheduling_method='alap')\n",
    "# transpiled_ga = transpile(ga, backend, initial_layout = [1,2,5,6], optimization_level=3, scheduling_method='alap')\n",
    "\n",
    "from qiskit import QuantumCircuit, transpile\n",
    "from qiskit.visualization import plot_circuit_layout\n",
    "plot_circuit_layout(transpiled_ga, backend = backend)"
   ]
  },
  {
   "cell_type": "code",
   "execution_count": 119,
   "metadata": {},
   "outputs": [
    {
     "name": "stdout",
     "output_type": "stream",
     "text": [
      "Job Status: job has successfully run\n"
     ]
    }
   ],
   "source": [
    "job = backend.run(transpiled_ga)\n",
    "job_monitor(job, interval=2)"
   ]
  },
  {
   "cell_type": "code",
   "execution_count": 120,
   "metadata": {},
   "outputs": [
    {
     "data": {
      "image/png": "[encoded data removed]",
      "text/plain": [
       "<Figure size 504x360 with 1 Axes>"
      ]
     },
     "execution_count": 120,
     "metadata": {},
     "output_type": "execute_result"
    }
   ],
   "source": [
    "results = job.result()\n",
    "answer = results.get_counts()\n",
    "plot_histogram(answer)"
   ]
  },
  {
   "cell_type": "code",
   "execution_count": 593,
   "metadata": {},
   "outputs": [],
   "source": [
    "plot_histogram(answer).savefig('line_plot.pdf')  "
   ]
  },
  {
   "cell_type": "code",
   "execution_count": 606,
   "metadata": {},
   "outputs": [
    {
     "data": {
      "text/plain": [
       "{'00': 8, '01': 95, '10': 74, '11': 847}"
      ]
     },
     "execution_count": 606,
     "metadata": {},
     "output_type": "execute_result"
    }
   ],
   "source": [
    "answer"
   ]
  },
  {
   "cell_type": "code",
   "execution_count": 527,
   "metadata": {},
   "outputs": [
    {
     "data": {
      "image/png": "[encoded data removed]",
      "text/plain": [
       "<Figure size 1563.79x505.68 with 1 Axes>"
      ]
     },
     "execution_count": 527,
     "metadata": {},
     "output_type": "execute_result"
    }
   ],
   "source": [
    "transpiled_ga.draw('mpl')"
   ]
  },
  {
   "cell_type": "code",
   "execution_count": 433,
   "metadata": {},
   "outputs": [
    {
     "data": {
      "image/png": "[encoded data removed]",
      "text/plain": [
       "<Figure size 360x360 with 1 Axes>"
      ]
     },
     "execution_count": 433,
     "metadata": {},
     "output_type": "execute_result"
    }
   ],
   "source": [
    "from qiskit import QuantumCircuit, transpile\n",
    "from qiskit.visualization import plot_circuit_layout\n",
    "plot_circuit_layout(transpiled_ga, backend = backend)"
   ]
  },
  {
   "cell_type": "code",
   "execution_count": 571,
   "metadata": {},
   "outputs": [
    {
     "name": "stdout",
     "output_type": "stream",
     "text": [
      "This is pdfTeX, Version 3.141592653-2.6-1.40.23 (MiKTeX 21.10)\n",
      "entering extended mode\n",
      "(grovers_circuit.tex\n",
      "LaTeX2e <2021-06-01> patch level 1\n",
      "L3 programming layer <2021-10-12>\n",
      "(C:\\Users\\sd982\\AppData\\Local\\Programs\\MiKTeX\\tex/latex/standalone\\standalone.c\n",
      "ls\n",
      "Document Class: standalone 2018/03/26 v1.3a Class to compile TeX sub-files stan\n",
      "dalone\n",
      "(C:\\Users\\sd982\\AppData\\Local\\Programs\\MiKTeX\\tex/latex/tools\\shellesc.sty)\n",
      "(C:\\Users\\sd982\\AppData\\Local\\Programs\\MiKTeX\\tex/generic/iftex\\ifluatex.sty\n",
      "(C:\\Users\\sd982\\AppData\\Local\\Programs\\MiKTeX\\tex/generic/iftex\\iftex.sty))\n",
      "(C:\\Users\\sd982\\AppData\\Local\\Programs\\MiKTeX\\tex/latex/xkeyval\\xkeyval.sty\n",
      "(C:\\Users\\sd982\\AppData\\Local\\Programs\\MiKTeX\\tex/generic/xkeyval\\xkeyval.tex\n",
      "(C:\\Users\\sd982\\AppData\\Local\\Programs\\MiKTeX\\tex/generic/xkeyval\\xkvutils.tex\n",
      "(C:\\Users\\sd982\\AppData\\Local\\Programs\\MiKTeX\\tex/generic/xkeyval\\keyval.tex)))\n",
      ")\n",
      "(C:\\Users\\sd982\\AppData\\Local\\Programs\\MiKTeX\\tex/latex/standalone\\standalone.c\n",
      "fg) (C:\\Users\\sd982\\AppData\\Local\\Programs\\MiKTeX\\tex/latex/base\\article.cls\n",
      "Document Class: article 2021/02/12 v1.4n Standard LaTeX document class\n",
      "(C:\\Users\\sd982\\AppData\\Local\\Programs\\MiKTeX\\tex/latex/base\\size10.clo)))\n",
      "(C:\\Users\\sd982\\AppData\\Local\\Programs\\MiKTeX\\tex/latex/qcircuit\\qcircuit.sty\n",
      "(C:\\Users\\sd982\\AppData\\Local\\Programs\\MiKTeX\\tex/generic/xypic\\xy.sty\n",
      "(C:\\Users\\sd982\\AppData\\Local\\Programs\\MiKTeX\\tex/generic/xypic\\xy.tex\n",
      "Bootstrap'ing: catcodes, docmode,\n",
      "(C:\\Users\\sd982\\AppData\\Local\\Programs\\MiKTeX\\tex/generic/xypic\\xyrecat.tex)\n",
      "(C:\\Users\\sd982\\AppData\\Local\\Programs\\MiKTeX\\tex/generic/xypic\\xyidioms.tex)\n",
      "\n",
      " Xy-pic version 3.8.9 <2013/10/06>\n",
      " Copyright (c) 1991-2013 by Kristoffer H. Rose <krisrose@tug.org> and others\n",
      " Xy-pic is free software: see the User's Guide for details.\n",
      "\n",
      "Loading kernel: messages; fonts; allocations: state, direction,\n",
      "utility macros; pictures: \\xy, positions, objects, decorations;\n",
      "kernel objects: directionals, circles, text; options; algorithms: directions,\n",
      "edges, connections;  Xy-pic loaded)\n",
      "(C:\\Users\\sd982\\AppData\\Local\\Programs\\MiKTeX\\tex/generic/iftex\\ifpdf.sty)\n",
      "(C:\\Users\\sd982\\AppData\\Local\\Programs\\MiKTeX\\tex/generic/xypic\\xypdf.tex\n",
      " Xy-pic option: PDF driver v.1.7 loaded))\n",
      "(C:\\Users\\sd982\\AppData\\Local\\Programs\\MiKTeX\\tex/generic/xypic\\xymatrix.tex\n",
      " Xy-pic option: Matrix feature v.3.14 loaded)\n",
      "(C:\\Users\\sd982\\AppData\\Local\\Programs\\MiKTeX\\tex/generic/xypic\\xyframe.tex\n",
      " Xy-pic option: Frame and Bracket extension v.3.14 loaded)\n",
      "Xy-pic pdf driver: `frame' extension support\n",
      "(C:\\Users\\sd982\\AppData\\Local\\Programs\\MiKTeX\\tex/generic/xypic\\xypdf-fr.tex\n",
      "(C:\\Users\\sd982\\AppData\\Local\\Programs\\MiKTeX\\tex/generic/xypic\\xycurve.tex\n",
      " Xy-pic option: Curve and Spline extension v.3.12 curve, circles, loaded)\n",
      "Xy-pic pdf driver: `curve' extension support\n",
      "(C:\\Users\\sd982\\AppData\\Local\\Programs\\MiKTeX\\tex/generic/xypic\\xypdf-cu.tex\n",
      "loaded) loaded)\n",
      "(C:\\Users\\sd982\\AppData\\Local\\Programs\\MiKTeX\\tex/generic/xypic\\xyarrow.tex\n",
      " Xy-pic option: Arrow and Path feature v.3.9 path, \\ar, loaded)\n",
      "(C:\\Users\\sd982\\AppData\\Local\\Programs\\MiKTeX\\tex/generic/xypic\\xyarc.tex\n",
      " Xy-pic option: Circle, Ellipse, Arc feature v.3.8 circles, ellipses,\n",
      "elliptical arcs, loaded))\n",
      "(C:\\Users\\sd982\\AppData\\Local\\Programs\\MiKTeX\\tex/latex/graphics\\graphicx.sty\n",
      "(C:\\Users\\sd982\\AppData\\Local\\Programs\\MiKTeX\\tex/latex/graphics\\graphics.sty\n",
      "(C:\\Users\\sd982\\AppData\\Local\\Programs\\MiKTeX\\tex/latex/graphics\\trig.sty)\n",
      "(C:\\Users\\sd982\\AppData\\Local\\Programs\\MiKTeX\\tex/latex/graphics-cfg\\graphics.c\n",
      "fg)\n",
      "(C:\\Users\\sd982\\AppData\\Local\\Programs\\MiKTeX\\tex/latex/graphics-def\\pdftex.def\n",
      ")))\n",
      "(C:\\Users\\sd982\\AppData\\Local\\Programs\\MiKTeX\\tex/latex/l3backend\\l3backend-pdf\n",
      "tex.def)\n",
      "No file grovers_circuit.aux.\n",
      "\n",
      "(C:\\Users\\sd982\\AppData\\Local\\Programs\\MiKTeX\\tex/context/base/mkii\\supp-pdf.mk\n",
      "ii\n",
      "[Loading MPS to PDF converter (version 2006.09.02).]\n",
      ")\n",
      "(C:\\Users\\sd982\\AppData\\Local\\Programs\\MiKTeX\\tex/latex/epstopdf-pkg\\epstopdf-b\n",
      "ase.sty\n",
      "(C:\\Users\\sd982\\AppData\\Local\\Programs\\MiKTeX\\tex/latex/00miktex\\epstopdf-sys.c\n",
      "fg))\n",
      "! TeX capacity exceeded, sorry [.6=200000].\n",
      "l.9 \n",
      "    \t \t\\nghost{ {ancilla}_{0}\\mapsto{0} :  } & \\lstick{ {ancilla}_{0}\\mapsto...\n",
      "\n",
      "!  ==> Fatal error occurred, no output PDF file produced!\n",
      "Transcript written on grovers_circuit.log.\n"
     ]
    }
   ],
   "source": [
    "# transpiled_ga.draw('mpl')\n",
    "transpiled_ga.draw('latex_source', filename='./grovers_circuit.tex')\n",
    "!pdflatex grovers_circuit.tex"
   ]
  },
  {
   "cell_type": "raw",
   "metadata": {},
   "source": []
  },
  {
   "cell_type": "code",
   "execution_count": 15,
   "metadata": {},
   "outputs": [
    {
     "name": "stdout",
     "output_type": "stream",
     "text": [
      "Running on device:  ibmq_lima\n",
      "Job Status: job has successfully run\n",
      "0 0.91\n",
      "Running on device:  ibmq_lima\n",
      "Job Status: job has successfully run\n",
      "1 0.804\n",
      "Running on device:  ibmq_lima\n",
      "Job Status: job has successfully run\n",
      "2 0.832\n",
      "Running on device:  ibmq_lima\n",
      "Job Status: job has successfully run\n",
      "3 0.835\n",
      "Running on device:  ibmq_lima\n",
      "Job Status: job has successfully run\n",
      "4 0.861\n",
      "Running on device:  ibmq_lima\n",
      "Job Status: job has successfully run\n",
      "5 0.818\n",
      "Running on device:  ibmq_lima\n",
      "Job Status: job has successfully run\n",
      "6 0.831\n",
      "Running on device:  ibmq_lima\n",
      "Job Status: job has successfully run\n",
      "7 0.806\n",
      "Running on device:  ibmq_lima\n",
      "Job Status: job has successfully run\n",
      "8 0.763\n",
      "Running on device:  ibmq_lima\n",
      "Job Status: job has successfully run\n",
      "9 0.763\n",
      "Running on device:  ibmq_lima\n",
      "Job Status: job has successfully run\n",
      "10 0.788\n",
      "Running on device:  ibmq_lima\n",
      "Job Status: job has successfully run\n",
      "11 0.742\n",
      "Running on device:  ibmq_lima\n",
      "Job Status: job has successfully run\n",
      "12 0.63\n",
      "Running on device:  ibmq_lima\n",
      "Job Status: job has successfully run\n",
      "13 0.692\n",
      "Running on device:  ibmq_lima\n",
      "Job Status: job has successfully run\n",
      "14 0.752\n",
      "Running on device:  ibmq_lima\n",
      "Job Status: job has successfully run\n",
      "15 0.699\n",
      "Running on device:  ibmq_lima\n",
      "Job Status: job has successfully run\n",
      "16 0.704\n",
      "Running on device:  ibmq_lima\n",
      "Job Status: job has successfully run\n",
      "17 0.622\n",
      "Running on device:  ibmq_lima\n",
      "Job Status: job has successfully run\n",
      "18 0.747\n",
      "Running on device:  ibmq_lima\n",
      "Job Status: job has successfully run\n",
      "19 0.742\n"
     ]
    },
    {
     "ename": "KeyboardInterrupt",
     "evalue": "",
     "output_type": "error",
     "traceback": [
      "\u001b[1;31m---------------------------------------------------------------------------\u001b[0m",
      "\u001b[1;31mKeyboardInterrupt\u001b[0m                         Traceback (most recent call last)",
      "\u001b[1;32m<ipython-input-15-1a6d647108c1>\u001b[0m in \u001b[0;36m<module>\u001b[1;34m\u001b[0m\n\u001b[0;32m     36\u001b[0m \u001b[0mduration\u001b[0m \u001b[1;33m=\u001b[0m \u001b[1;36m1000\u001b[0m  \u001b[1;31m# Set Duration To 1000 ms == 1 second\u001b[0m\u001b[1;33m\u001b[0m\u001b[1;33m\u001b[0m\u001b[0m\n\u001b[0;32m     37\u001b[0m \u001b[1;32mfor\u001b[0m \u001b[0mi\u001b[0m \u001b[1;32min\u001b[0m \u001b[0mrange\u001b[0m\u001b[1;33m(\u001b[0m\u001b[1;36m10\u001b[0m\u001b[1;33m)\u001b[0m\u001b[1;33m:\u001b[0m\u001b[1;33m\u001b[0m\u001b[1;33m\u001b[0m\u001b[0m\n\u001b[1;32m---> 38\u001b[1;33m     \u001b[0mwinsound\u001b[0m\u001b[1;33m.\u001b[0m\u001b[0mBeep\u001b[0m\u001b[1;33m(\u001b[0m\u001b[0mfrequency\u001b[0m\u001b[1;33m,\u001b[0m \u001b[0mduration\u001b[0m\u001b[1;33m)\u001b[0m\u001b[1;33m\u001b[0m\u001b[1;33m\u001b[0m\u001b[0m\n\u001b[0m\u001b[0;32m     39\u001b[0m     \u001b[0mtime\u001b[0m\u001b[1;33m.\u001b[0m\u001b[0msleep\u001b[0m\u001b[1;33m(\u001b[0m\u001b[1;36m1\u001b[0m\u001b[1;33m)\u001b[0m\u001b[1;33m\u001b[0m\u001b[1;33m\u001b[0m\u001b[0m\n",
      "\u001b[1;31mKeyboardInterrupt\u001b[0m: "
     ]
    }
   ],
   "source": [
    "from qiskit.tools.monitor import job_monitor\n",
    "import winsound\n",
    "import time\n",
    "\n",
    "iterations = 20\n",
    "f = open(\"GA_M4.txt\", \"w\")\n",
    "backend = device[0]\n",
    "answer= [0]*iterations\n",
    "f.write(str(backend))\n",
    "f.write(str(\"\\n\"))\n",
    "for i in range(0,iterations,1):\n",
    "    ga = grovers_algorithm(i,'M4')\n",
    "    print(\"Running on device: \", backend)\n",
    "    transpiled_ga = transpile(ga, backend, optimization_level=3, scheduling_method='alap')\n",
    "#     transpiled_ga = transpile(ga, backend, optimization_level=0, scheduling_method='alap')\n",
    "    job = backend.run(transpiled_ga) \n",
    "    job_monitor(job, interval=2)\n",
    "\n",
    "    results = job.result()\n",
    "    answer[i] = results.get_counts()\n",
    "    prob = int(answer[i]['0011'])/1000\n",
    "    \n",
    "#     answer[i] = results.get_counts()\n",
    "#     prob = int(answer[i]['11'])/1000\n",
    "        \n",
    "    print(i, prob)\n",
    "    f.write(str(i))\n",
    "    f.write(str(\", \"))\n",
    "    f.write(str(prob))\n",
    "    f.write(str(\"\\n\"))\n",
    "    \n",
    "f.close()\n",
    "\n",
    "# Beeper\n",
    "frequency = 2500  # Set Frequency To 2500 Hertz\n",
    "duration = 1000  # Set Duration To 1000 ms == 1 second\n",
    "for i in range(10):\n",
    "    winsound.Beep(frequency, duration)\n",
    "    time.sleep(1)"
   ]
  },
  {
   "cell_type": "code",
   "execution_count": 622,
   "metadata": {},
   "outputs": [
    {
     "data": {
      "text/plain": [
       "[{'0001': 1,\n",
       "  '0010': 1,\n",
       "  '0011': 36,\n",
       "  '0100': 2,\n",
       "  '0101': 49,\n",
       "  '0110': 52,\n",
       "  '0111': 869,\n",
       "  '1111': 14},\n",
       " 0,\n",
       " {'0000': 1,\n",
       "  '0001': 5,\n",
       "  '0010': 2,\n",
       "  '0011': 29,\n",
       "  '0100': 16,\n",
       "  '0101': 135,\n",
       "  '0110': 46,\n",
       "  '0111': 770,\n",
       "  '1001': 2,\n",
       "  '1011': 4,\n",
       "  '1101': 2,\n",
       "  '1110': 1,\n",
       "  '1111': 11},\n",
       " 0,\n",
       " {'0001': 3,\n",
       "  '0010': 6,\n",
       "  '0011': 49,\n",
       "  '0100': 15,\n",
       "  '0101': 50,\n",
       "  '0110': 121,\n",
       "  '0111': 766,\n",
       "  '1010': 1,\n",
       "  '1011': 2,\n",
       "  '1100': 1,\n",
       "  '1111': 10},\n",
       " 0,\n",
       " {'0000': 1,\n",
       "  '0001': 8,\n",
       "  '0010': 1,\n",
       "  '0011': 50,\n",
       "  '0100': 21,\n",
       "  '0101': 121,\n",
       "  '0110': 41,\n",
       "  '0111': 751,\n",
       "  '1001': 2,\n",
       "  '1011': 6,\n",
       "  '1100': 1,\n",
       "  '1101': 1,\n",
       "  '1110': 2,\n",
       "  '1111': 18},\n",
       " 0,\n",
       " {'0000': 2,\n",
       "  '0001': 2,\n",
       "  '0010': 1,\n",
       "  '0011': 29,\n",
       "  '0100': 12,\n",
       "  '0101': 42,\n",
       "  '0110': 108,\n",
       "  '0111': 786,\n",
       "  '1010': 2,\n",
       "  '1011': 12,\n",
       "  '1100': 2,\n",
       "  '1110': 2,\n",
       "  '1111': 24},\n",
       " 0,\n",
       " {'0000': 1,\n",
       "  '0001': 8,\n",
       "  '0011': 31,\n",
       "  '0100': 23,\n",
       "  '0101': 122,\n",
       "  '0110': 46,\n",
       "  '0111': 752,\n",
       "  '1011': 9,\n",
       "  '1100': 1,\n",
       "  '1101': 2,\n",
       "  '1111': 29},\n",
       " 0,\n",
       " {'0000': 2,\n",
       "  '0001': 3,\n",
       "  '0010': 8,\n",
       "  '0011': 51,\n",
       "  '0100': 11,\n",
       "  '0101': 48,\n",
       "  '0110': 114,\n",
       "  '0111': 730,\n",
       "  '1001': 1,\n",
       "  '1010': 2,\n",
       "  '1011': 15,\n",
       "  '1110': 4,\n",
       "  '1111': 35},\n",
       " 0,\n",
       " {'0001': 6,\n",
       "  '0010': 9,\n",
       "  '0011': 135,\n",
       "  '0100': 8,\n",
       "  '0101': 36,\n",
       "  '0110': 33,\n",
       "  '0111': 643,\n",
       "  '1000': 1,\n",
       "  '1001': 4,\n",
       "  '1010': 9,\n",
       "  '1011': 69,\n",
       "  '1101': 3,\n",
       "  '1110': 2,\n",
       "  '1111': 66},\n",
       " 0,\n",
       " {'0000': 1,\n",
       "  '0001': 5,\n",
       "  '0010': 7,\n",
       "  '0011': 159,\n",
       "  '0100': 3,\n",
       "  '0101': 32,\n",
       "  '0110': 37,\n",
       "  '0111': 616,\n",
       "  '1001': 2,\n",
       "  '1010': 7,\n",
       "  '1011': 99,\n",
       "  '1101': 1,\n",
       "  '1110': 3,\n",
       "  '1111': 52},\n",
       " 0,\n",
       " {'0000': 1,\n",
       "  '0001': 4,\n",
       "  '0010': 1,\n",
       "  '0011': 82,\n",
       "  '0100': 2,\n",
       "  '0101': 32,\n",
       "  '0110': 23,\n",
       "  '0111': 655,\n",
       "  '1001': 2,\n",
       "  '1010': 2,\n",
       "  '1011': 54,\n",
       "  '1101': 7,\n",
       "  '1110': 6,\n",
       "  '1111': 153},\n",
       " 0]"
      ]
     },
     "execution_count": 622,
     "metadata": {},
     "output_type": "execute_result"
    }
   ],
   "source": [
    "answer"
   ]
  },
  {
   "cell_type": "code",
   "execution_count": 557,
   "metadata": {},
   "outputs": [
    {
     "data": {
      "image/png": "[encoded data removed]",
      "text/plain": [
       "<Figure size 1443.53x385.28 with 1 Axes>"
      ]
     },
     "execution_count": 557,
     "metadata": {},
     "output_type": "execute_result"
    }
   ],
   "source": [
    "transpiled_ga.draw('mpl')"
   ]
  },
  {
   "cell_type": "markdown",
   "metadata": {},
   "source": [
    "# Duration Analysis Code"
   ]
  },
  {
   "cell_type": "code",
   "execution_count": null,
   "metadata": {},
   "outputs": [],
   "source": [
    "transpiled_q = [0]*len(device)\n",
    "for i in range(len(device)):\n",
    "    print(\"============================================\")\n",
    "    print(device[i])\n",
    "#     transpiled_q[i] = transpile(q, device[i], optimization_level=3, scheduling_method='alap')\n",
    "    transpiled_q[i] = transpile(malicious_grover, device[i], optimization_level=3, scheduling_method='alap')\n",
    "    print(transpiled_q[i])\n",
    "    print(\"============================================\")"
   ]
  },
  {
   "cell_type": "code",
   "execution_count": null,
   "metadata": {},
   "outputs": [],
   "source": [
    "j = 0\n",
    "print(device[j])\n",
    "transpiled_q[j].draw('mpl')"
   ]
  },
  {
   "cell_type": "code",
   "execution_count": 157,
   "metadata": {},
   "outputs": [],
   "source": [
    "from qiskit.transpiler import CouplingMap\n",
    "coupling_map = CouplingMap([[0,0],[1,1],[3,5],[4,6]])"
   ]
  },
  {
   "cell_type": "code",
   "execution_count": 158,
   "metadata": {},
   "outputs": [
    {
     "data": {
      "text/plain": [
       "<qiskit.transpiler.coupling.CouplingMap at 0x28592632dc0>"
      ]
     },
     "execution_count": 158,
     "metadata": {},
     "output_type": "execute_result"
    }
   ],
   "source": [
    "coupling_map"
   ]
  },
  {
   "cell_type": "code",
   "execution_count": 182,
   "metadata": {},
   "outputs": [
    {
     "name": "stdout",
     "output_type": "stream",
     "text": [
      "Requirement already satisfied: neato in c:\\users\\sd982\\anaconda3\\lib\\site-packages (1.0.0)\n",
      "Requirement already satisfied: numpy in c:\\users\\sd982\\anaconda3\\lib\\site-packages (from neato) (1.20.1)\n"
     ]
    }
   ],
   "source": [
    "!pip install neato"
   ]
  },
  {
   "cell_type": "code",
   "execution_count": null,
   "metadata": {},
   "outputs": [],
   "source": []
  }
 ],
 "metadata": {
  "kernelspec": {
   "display_name": "Python 3",
   "language": "python",
   "name": "python3"
  },
  "language_info": {
   "codemirror_mode": {
    "name": "ipython",
    "version": 3
   },
   "file_extension": ".py",
   "mimetype": "text/x-python",
   "name": "python",
   "nbconvert_exporter": "python",
   "pygments_lexer": "ipython3",
   "version": "3.8.8"
  }
 },
 "nbformat": 4,
 "nbformat_minor": 4
}
