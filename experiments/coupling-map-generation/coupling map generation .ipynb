{
 "cells": [
  {
   "cell_type": "code",
   "execution_count": 5,
   "id": "0d93d3b8",
   "metadata": {},
   "outputs": [
    {
     "name": "stderr",
     "output_type": "stream",
     "text": [
      "ibmqfactory.load_account:WARNING:2022-01-19 17:04:30,194: Credentials are already in use. The existing account in the session will be replaced.\n"
     ]
    }
   ],
   "source": [
    "#initialization\n",
    "import matplotlib.pyplot as plt\n",
    "import numpy as np\n",
    "\n",
    "# importing Qiskit\n",
    "from qiskit import IBMQ, Aer, assemble, transpile\n",
    "from qiskit import QuantumCircuit, ClassicalRegister, QuantumRegister\n",
    "from qiskit.providers.ibmq import least_busy\n",
    "from qiskit.circuit.library import MCMT\n",
    "from qiskit.transpiler import CouplingMap\n",
    "\n",
    "# import basic plot tools\n",
    "from qiskit.visualization import plot_histogram\n",
    "\n",
    "# Load IBM Q account and get the least busy backend device\n",
    "provider = IBMQ.load_account()\n",
    "# provider = IBMQ.get_provider(\"ibm-q\")\n",
    "provider = IBMQ.get_provider(hub='ibm-q-education', group='yale-uni-2', project='cpsc647-quantum')\n",
    "# device = provider.get_backend('ibmq_lima') #run on ibmq_lima (5-qbit QC)"
   ]
  },
  {
   "cell_type": "code",
   "execution_count": 2,
   "id": "55b77aed",
   "metadata": {},
   "outputs": [
    {
     "name": "stdout",
     "output_type": "stream",
     "text": [
      "Device 0 = ibmq_lima\n",
      "Device 1 = ibmq_bogota\n",
      "Device 2 = ibmq_santiago\n",
      "Device 3 = ibmq_manila\n",
      "Device 4 = ibmq_quito\n",
      "Device 5 = ibmq_belem\n",
      "Device 6 = ibmq_casablanca\n",
      "Device 7 = ibmq_jakarta\n",
      "Device 8 = ibm_lagos\n",
      "Device 9 = ibm_perth\n"
     ]
    }
   ],
   "source": [
    "device_names =  ['ibmq_lima', 'ibmq_bogota', 'ibmq_santiago', 'ibmq_manila', 'ibmq_quito', 'ibmq_belem', 'ibmq_casablanca', 'ibmq_jakarta', 'ibm_lagos', 'ibm_perth'  ]\n",
    "# device_names =  ['ibmq_lima', 'ibmq_bogota', 'ibmq_santiago', 'ibmq_manila', 'ibmq_quito', 'ibmq_belem']\n",
    "device = [0]*len(device_names)\n",
    "for i in range(len(device_names)):\n",
    "    device[i] = provider.get_backend(device_names[i])\n",
    "    print(\"Device\", i , \"=\", device[i])\n"
   ]
  },
  {
   "cell_type": "code",
   "execution_count": 54,
   "id": "aeeb6816",
   "metadata": {},
   "outputs": [
    {
     "name": "stdout",
     "output_type": "stream",
     "text": [
      "\n",
      " backend =  ibmq_lima \n",
      " qubit_layout: \n",
      " [[0, 1], [1, 0], [1, 2], [1, 3], [2, 1], [3, 1], [3, 4], [4, 3]]\n",
      "\n",
      " backend =  ibmq_bogota \n",
      " qubit_layout: \n",
      " [[0, 1], [1, 0], [1, 2], [2, 1], [2, 3], [3, 2], [3, 4], [4, 3]]\n",
      "\n",
      " backend =  ibmq_santiago \n",
      " qubit_layout: \n",
      " [[0, 1], [1, 0], [1, 2], [2, 1], [2, 3], [3, 2], [3, 4], [4, 3]]\n",
      "\n",
      " backend =  ibmq_manila \n",
      " qubit_layout: \n",
      " [[0, 1], [1, 0], [1, 2], [2, 1], [2, 3], [3, 2], [3, 4], [4, 3]]\n",
      "\n",
      " backend =  ibmq_quito \n",
      " qubit_layout: \n",
      " [[0, 1], [1, 0], [1, 2], [1, 3], [2, 1], [3, 1], [3, 4], [4, 3]]\n",
      "\n",
      " backend =  ibmq_belem \n",
      " qubit_layout: \n",
      " [[0, 1], [1, 0], [1, 2], [1, 3], [2, 1], [3, 1], [3, 4], [4, 3]]\n",
      "\n",
      " backend =  ibmq_casablanca \n",
      " qubit_layout: \n",
      " [[0, 1], [1, 0], [1, 2], [1, 3], [2, 1], [3, 1], [3, 5], [4, 5], [5, 3], [5, 4], [5, 6], [6, 5]]\n",
      "\n",
      " backend =  ibmq_jakarta \n",
      " qubit_layout: \n",
      " [[0, 1], [1, 0], [1, 2], [1, 3], [2, 1], [3, 1], [3, 5], [4, 5], [5, 3], [5, 4], [5, 6], [6, 5]]\n",
      "\n",
      " backend =  ibm_lagos \n",
      " qubit_layout: \n",
      " [[0, 1], [1, 0], [1, 2], [1, 3], [2, 1], [3, 1], [3, 5], [4, 5], [5, 3], [5, 4], [5, 6], [6, 5]]\n",
      "\n",
      " backend =  ibm_perth \n",
      " qubit_layout: \n",
      " [[0, 1], [1, 0], [1, 2], [1, 3], [2, 1], [3, 1], [3, 5], [4, 5], [5, 3], [5, 4], [5, 6], [6, 5]]\n"
     ]
    }
   ],
   "source": [
    "for i in range(len(device_names)):\n",
    "    backend = device[i]\n",
    "    num_qubits = backend.configuration().n_qubits \n",
    "    qubit_layout = CouplingMap( getattr(backend.configuration(), 'coupling_map', None) ).reduce([i for i in range(num_qubits)])\n",
    "    print(\"\\n backend = \", backend,'\\n qubit_layout: \\n', qubit_layout) "
   ]
  },
  {
   "cell_type": "code",
   "execution_count": 9,
   "id": "b654ef45",
   "metadata": {},
   "outputs": [
    {
     "ename": "TypeError",
     "evalue": "plot_circuit_layout() missing 1 required positional argument: 'backend'",
     "output_type": "error",
     "traceback": [
      "\u001b[1;31m---------------------------------------------------------------------------\u001b[0m",
      "\u001b[1;31mTypeError\u001b[0m                                 Traceback (most recent call last)",
      "\u001b[1;32m<ipython-input-9-2cfbf532e928>\u001b[0m in \u001b[0;36m<module>\u001b[1;34m\u001b[0m\n\u001b[1;32m----> 1\u001b[1;33m \u001b[0mplot_circuit_layout\u001b[0m\u001b[1;33m(\u001b[0m\u001b[0mdevice\u001b[0m\u001b[1;33m[\u001b[0m\u001b[1;36m0\u001b[0m\u001b[1;33m]\u001b[0m\u001b[1;33m)\u001b[0m\u001b[1;33m\u001b[0m\u001b[1;33m\u001b[0m\u001b[0m\n\u001b[0m",
      "\u001b[1;31mTypeError\u001b[0m: plot_circuit_layout() missing 1 required positional argument: 'backend'"
     ]
    }
   ],
   "source": [
    "plot_circuit_layout(device[0])"
   ]
  },
  {
   "cell_type": "code",
   "execution_count": 10,
   "id": "8da73d89",
   "metadata": {},
   "outputs": [],
   "source": [
    "from qiskit import QuantumCircuit, transpile\n",
    "from qiskit.visualization import plot_circuit_layout\n",
    "from qiskit.test.mock import FakeVigo"
   ]
  },
  {
   "cell_type": "code",
   "execution_count": 29,
   "id": "6e7300c8",
   "metadata": {},
   "outputs": [
    {
     "data": {
      "image/png": "[encoded data removed]",
      "text/plain": [
       "<Figure size 133.526x84.28 with 1 Axes>"
      ]
     },
     "execution_count": 29,
     "metadata": {},
     "output_type": "execute_result"
    }
   ],
   "source": [
    "ghz = QuantumCircuit(1)\n",
    "ghz.x(0)\n",
    "# ghz.ccx(0,1,2)\n",
    "# ghz.cx(0,1)\n",
    "# ghz.cx(3,4)\n",
    "# ghz.cx(3,4)\n",
    "# ghz.delay(3,unit = 'dt')\n",
    "# ghz.cx(3,4)\n",
    "\n",
    "# ghz.measure_all()\n",
    "ghz.draw(output='mpl')"
   ]
  },
  {
   "cell_type": "code",
   "execution_count": 32,
   "id": "f006b6ba",
   "metadata": {},
   "outputs": [
    {
     "data": {
      "image/png": "[encoded data removed]",
      "text/plain": [
       "<Figure size 360x360 with 1 Axes>"
      ]
     },
     "execution_count": 32,
     "metadata": {},
     "output_type": "execute_result"
    }
   ],
   "source": [
    "qplot = [0]*len(device_names)\n",
    "for i in range(len(device_names)):\n",
    "    backend=device[i]\n",
    "    qplot[i] = transpile(ghz, backend, scheduling_method='alap')\n",
    "\n",
    "plot_circuit_layout(qplot[0], backend)\n"
   ]
  },
  {
   "cell_type": "code",
   "execution_count": 44,
   "id": "38d3df85",
   "metadata": {},
   "outputs": [
    {
     "name": "stdout",
     "output_type": "stream",
     "text": [
      "======== ibmq_lima ========\n"
     ]
    },
    {
     "data": {
      "image/png": "[encoded data removed]",
      "text/plain": [
       "<Figure size 360x360 with 1 Axes>"
      ]
     },
     "execution_count": 44,
     "metadata": {},
     "output_type": "execute_result"
    }
   ],
   "source": [
    "backend=device[0]\n",
    "qplot = transpile(ghz, backend, scheduling_method='alap')\n",
    "print(\"========\",backend,\"========\")\n",
    "plot_circuit_layout(qplot, backend)"
   ]
  },
  {
   "cell_type": "code",
   "execution_count": 45,
   "id": "f522b64e",
   "metadata": {},
   "outputs": [
    {
     "name": "stdout",
     "output_type": "stream",
     "text": [
      "======== ibmq_bogota ========\n"
     ]
    },
    {
     "data": {
      "image/png": "[encoded data removed]",
      "text/plain": [
       "<Figure size 360x360 with 1 Axes>"
      ]
     },
     "execution_count": 45,
     "metadata": {},
     "output_type": "execute_result"
    }
   ],
   "source": [
    "backend=device[1]\n",
    "qplot = transpile(ghz, backend, scheduling_method='alap')\n",
    "print(\"========\",backend,\"========\")\n",
    "plot_circuit_layout(qplot, backend)"
   ]
  },
  {
   "cell_type": "code",
   "execution_count": 46,
   "id": "ec12942e",
   "metadata": {},
   "outputs": [
    {
     "name": "stdout",
     "output_type": "stream",
     "text": [
      "======== ibmq_santiago ========\n"
     ]
    },
    {
     "data": {
      "image/png": "[encoded data removed]",
      "text/plain": [
       "<Figure size 360x360 with 1 Axes>"
      ]
     },
     "execution_count": 46,
     "metadata": {},
     "output_type": "execute_result"
    }
   ],
   "source": [
    "backend=device[2]\n",
    "qplot = transpile(ghz, backend, scheduling_method='alap')\n",
    "print(\"========\",backend,\"========\")\n",
    "plot_circuit_layout(qplot, backend)"
   ]
  },
  {
   "cell_type": "code",
   "execution_count": 47,
   "id": "581d511f",
   "metadata": {},
   "outputs": [
    {
     "name": "stdout",
     "output_type": "stream",
     "text": [
      "======== ibmq_manila ========\n"
     ]
    },
    {
     "data": {
      "image/png": "[encoded data removed]",
      "text/plain": [
       "<Figure size 360x360 with 1 Axes>"
      ]
     },
     "execution_count": 47,
     "metadata": {},
     "output_type": "execute_result"
    }
   ],
   "source": [
    "backend=device[3]\n",
    "qplot = transpile(ghz, backend, scheduling_method='alap')\n",
    "print(\"========\",backend,\"========\")\n",
    "plot_circuit_layout(qplot, backend)"
   ]
  },
  {
   "cell_type": "code",
   "execution_count": 48,
   "id": "8c4503bf",
   "metadata": {},
   "outputs": [
    {
     "name": "stdout",
     "output_type": "stream",
     "text": [
      "======== ibmq_quito ========\n"
     ]
    },
    {
     "data": {
      "image/png": "[encoded data removed]",
      "text/plain": [
       "<Figure size 360x360 with 1 Axes>"
      ]
     },
     "execution_count": 48,
     "metadata": {},
     "output_type": "execute_result"
    }
   ],
   "source": [
    "backend=device[4]\n",
    "qplot = transpile(ghz, backend, scheduling_method='alap')\n",
    "print(\"========\",backend,\"========\")\n",
    "plot_circuit_layout(qplot, backend)"
   ]
  },
  {
   "cell_type": "code",
   "execution_count": 49,
   "id": "0fb29e15",
   "metadata": {},
   "outputs": [
    {
     "name": "stdout",
     "output_type": "stream",
     "text": [
      "======== ibmq_belem ========\n"
     ]
    },
    {
     "data": {
      "image/png": "[encoded data removed]",
      "text/plain": [
       "<Figure size 360x360 with 1 Axes>"
      ]
     },
     "execution_count": 49,
     "metadata": {},
     "output_type": "execute_result"
    }
   ],
   "source": [
    "backend=device[5]\n",
    "qplot = transpile(ghz, backend, scheduling_method='alap')\n",
    "print(\"========\",backend,\"========\")\n",
    "plot_circuit_layout(qplot, backend)"
   ]
  },
  {
   "cell_type": "code",
   "execution_count": 50,
   "id": "138f89bb",
   "metadata": {},
   "outputs": [
    {
     "name": "stdout",
     "output_type": "stream",
     "text": [
      "======== ibmq_casablanca ========\n"
     ]
    },
    {
     "data": {
      "image/png": "[encoded data removed]",
      "text/plain": [
       "<Figure size 360x360 with 1 Axes>"
      ]
     },
     "execution_count": 50,
     "metadata": {},
     "output_type": "execute_result"
    }
   ],
   "source": [
    "backend=device[6]\n",
    "qplot = transpile(ghz, backend, scheduling_method='alap')\n",
    "print(\"========\",backend,\"========\")\n",
    "plot_circuit_layout(qplot, backend)"
   ]
  },
  {
   "cell_type": "code",
   "execution_count": 51,
   "id": "72717f01",
   "metadata": {},
   "outputs": [
    {
     "name": "stdout",
     "output_type": "stream",
     "text": [
      "======== ibmq_jakarta ========\n"
     ]
    },
    {
     "data": {
      "image/png": "[encoded data removed]",
      "text/plain": [
       "<Figure size 360x360 with 1 Axes>"
      ]
     },
     "execution_count": 51,
     "metadata": {},
     "output_type": "execute_result"
    }
   ],
   "source": [
    "backend=device[7]\n",
    "qplot = transpile(ghz, backend, scheduling_method='alap')\n",
    "print(\"========\",backend,\"========\")\n",
    "plot_circuit_layout(qplot, backend)"
   ]
  },
  {
   "cell_type": "code",
   "execution_count": 52,
   "id": "c689b5c8",
   "metadata": {},
   "outputs": [
    {
     "name": "stdout",
     "output_type": "stream",
     "text": [
      "======== ibm_lagos ========\n"
     ]
    },
    {
     "data": {
      "image/png": "[encoded data removed]",
      "text/plain": [
       "<Figure size 360x360 with 1 Axes>"
      ]
     },
     "execution_count": 52,
     "metadata": {},
     "output_type": "execute_result"
    }
   ],
   "source": [
    "backend=device[8]\n",
    "qplot = transpile(ghz, backend, scheduling_method='alap')\n",
    "print(\"========\",backend,\"========\")\n",
    "plot_circuit_layout(qplot, backend)"
   ]
  },
  {
   "cell_type": "code",
   "execution_count": 53,
   "id": "64d22c41",
   "metadata": {},
   "outputs": [
    {
     "name": "stdout",
     "output_type": "stream",
     "text": [
      "======== ibm_perth ========\n"
     ]
    },
    {
     "data": {
      "image/png": "[encoded data removed]",
      "text/plain": [
       "<Figure size 360x360 with 1 Axes>"
      ]
     },
     "execution_count": 53,
     "metadata": {},
     "output_type": "execute_result"
    }
   ],
   "source": [
    "backend=device[9]\n",
    "qplot = transpile(ghz, backend, scheduling_method='alap')\n",
    "print(\"========\",backend,\"========\")\n",
    "plot_circuit_layout(qplot, backend)"
   ]
  },
  {
   "cell_type": "code",
   "execution_count": null,
   "id": "75475564",
   "metadata": {},
   "outputs": [],
   "source": []
  }
 ],
 "metadata": {
  "kernelspec": {
   "display_name": "Python 3",
   "language": "python",
   "name": "python3"
  },
  "language_info": {
   "codemirror_mode": {
    "name": "ipython",
    "version": 3
   },
   "file_extension": ".py",
   "mimetype": "text/x-python",
   "name": "python",
   "nbconvert_exporter": "python",
   "pygments_lexer": "ipython3",
   "version": "3.8.8"
  }
 },
 "nbformat": 4,
 "nbformat_minor": 5
}
