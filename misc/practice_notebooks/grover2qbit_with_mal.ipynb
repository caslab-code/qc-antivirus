{
 "cells": [
  {
   "cell_type": "code",
   "execution_count": 550,
   "id": "26c91f24",
   "metadata": {},
   "outputs": [
    {
     "name": "stderr",
     "output_type": "stream",
     "text": [
      "ibmqfactory.load_account:WARNING:2021-12-03 12:40:13,773: Credentials are already in use. The existing account in the session will be replaced.\n"
     ]
    }
   ],
   "source": [
    "#initialization\n",
    "import matplotlib.pyplot as plt\n",
    "import numpy as np\n",
    "\n",
    "# importing Qiskit\n",
    "from qiskit import IBMQ, Aer, assemble, transpile\n",
    "from qiskit import QuantumCircuit, ClassicalRegister, QuantumRegister\n",
    "from qiskit.providers.ibmq import least_busy\n",
    "\n",
    "# import basic plot tools\n",
    "from qiskit.visualization import plot_histogram\n",
    "\n",
    "# Load IBM Q account and get the least busy backend device\n",
    "provider = IBMQ.load_account()\n",
    "provider = IBMQ.get_provider(\"ibm-q\")\n",
    "# device = least_busy(provider.backends(filters=lambda x: x.configuration().n_qubits >= 3 and \n",
    "#                                    not x.configuration().simulator and x.status().operational==True))\n",
    "# print(\"Running on current least busy device: \", device)"
   ]
  },
  {
   "cell_type": "code",
   "execution_count": 458,
   "id": "21aca218",
   "metadata": {},
   "outputs": [],
   "source": [
    "def initialize_s(qc, qubits):\n",
    "    \"\"\"Apply a H-gate to 'qubits' in qc\"\"\"\n",
    "    for q in qubits:\n",
    "        qc.h(q)\n",
    "    return qc"
   ]
  },
  {
   "cell_type": "code",
   "execution_count": 859,
   "id": "ed7a36c5",
   "metadata": {},
   "outputs": [],
   "source": [
    "def grovers_algorithm(k,d):\n",
    "    n = 4\n",
    "    grover_circuit = QuantumCircuit(n)\n",
    "    grover_circuit = initialize_s(grover_circuit, [0,1])\n",
    "   \n",
    "    grover_circuit.cz(0,1) # Oracle\n",
    "\n",
    "    # Diffusion operator (U_s)\n",
    "    grover_circuit.h([0,1])\n",
    "    grover_circuit.z([0,1])\n",
    "    grover_circuit.cz(0,1)\n",
    "    grover_circuit.h([0,1])\n",
    "    \n",
    "    \n",
    "    for i in range(k):\n",
    "        grover_circuit.cx(2,3)\n",
    "#         grover_circuit.delay(d, qarg=2, unit = 'dt')\n",
    "#         grover_circuit.delay(d, unit = 'dt')\n",
    "        \n",
    "#         grover_circuit.c(2)\n",
    "#         grover_circuit.delay(d, unit = 'dt')\n",
    "#         grover_circuit.barrier()\n",
    "    \n",
    "    return grover_circuit"
   ]
  },
  {
   "cell_type": "code",
   "execution_count": 848,
   "id": "2281717e",
   "metadata": {},
   "outputs": [
    {
     "name": "stdout",
     "output_type": "stream",
     "text": [
      "     ┌───┐                ┌───┐     ┌───┐         ┌───┐\n",
      "q_0: ┤ H ├───────■────────┤ H ├─────┤ Z ├───────■─┤ H ├\n",
      "     ├───┤       │        ├───┤     ├───┤       │ ├───┤\n",
      "q_1: ┤ H ├───────■────────┤ H ├─────┤ Z ├───────■─┤ H ├\n",
      "     └───┘┌──────────────┐└───┘┌────┴───┴─────┐   └───┘\n",
      "q_2: ──■──┤ Delay(1[dt]) ├──■──┤ Delay(1[dt]) ├────────\n",
      "     ┌─┴─┐└──────────────┘┌─┴─┐└──────────────┘        \n",
      "q_3: ┤ X ├────────────────┤ X ├────────────────────────\n",
      "     └───┘                └───┘                        \n"
     ]
    },
    {
     "data": {
      "text/latex": [
       "$\\displaystyle \n",
       "$$ |\\psi\\rangle =\\begin{bmatrix}\n",
       "0 \\\\\n",
       "0 \\\\\n",
       "0 \\\\\n",
       "1 \\\\\n",
       "0 \\\\\n",
       "0 \\\\\n",
       "0 \\\\\n",
       "0 \\\\\n",
       "0 \\\\\n",
       "0 \\\\\n",
       "0 \\\\\n",
       "0 \\\\\n",
       "0 \\\\\n",
       "0 \\\\\n",
       "0 \\\\\n",
       "0\\end{bmatrix} $"
      ],
      "text/plain": [
       "<IPython.core.display.Math object>"
      ]
     },
     "metadata": {},
     "output_type": "display_data"
    }
   ],
   "source": [
    "grover_circuit = grovers_algorithm(2,1)\n",
    "print(grover_circuit)\n",
    "sim = Aer.get_backend('aer_simulator')\n",
    "# we need to make a copy of the circuit with the 'save_statevector'\n",
    "# instruction to run on the Aer simulator\n",
    "grover_circuit_sim = grover_circuit.copy()\n",
    "grover_circuit_sim.save_statevector()\n",
    "qobj = assemble(grover_circuit_sim)\n",
    "result = sim.run(qobj).result()\n",
    "statevec = result.get_statevector()\n",
    "from qiskit_textbook.tools import vector2latex\n",
    "vector2latex(statevec, pretext=\"|\\\\psi\\\\rangle =\")"
   ]
  },
  {
   "cell_type": "code",
   "execution_count": 849,
   "id": "c5646d20",
   "metadata": {},
   "outputs": [
    {
     "data": {
      "image/png": "[encoded data removed]",
      "text/plain": [
       "<Figure size 504x360 with 1 Axes>"
      ]
     },
     "execution_count": 849,
     "metadata": {},
     "output_type": "execute_result"
    }
   ],
   "source": [
    "grover_circuit.measure_all()\n",
    "aer_sim = Aer.get_backend('aer_simulator')\n",
    "qobj = assemble(grover_circuit)\n",
    "result = aer_sim.run(qobj).result()\n",
    "counts = result.get_counts()\n",
    "plot_histogram(counts)"
   ]
  },
  {
   "cell_type": "code",
   "execution_count": 850,
   "id": "7a04ba50",
   "metadata": {},
   "outputs": [
    {
     "name": "stdout",
     "output_type": "stream",
     "text": [
      "Running on device:  ibmq_lima\n"
     ]
    }
   ],
   "source": [
    "device = provider.get_backend('ibmq_lima')\n",
    "print(\"Running on device: \", device)\n",
    "from qiskit.tools.monitor import job_monitor\n",
    "transpiled_grover_circuit = transpile(grover_circuit, device, optimization_level=3, scheduling_method='alap')"
   ]
  },
  {
   "cell_type": "code",
   "execution_count": 726,
   "id": "01f36e75",
   "metadata": {},
   "outputs": [
    {
     "name": "stdout",
     "output_type": "stream",
     "text": [
      "Job Status: job has successfully run\n"
     ]
    }
   ],
   "source": [
    "# Run our circuit on the least busy backend. Monitor the execution of the job in the queue\n",
    "\n",
    "job = device.run(transpiled_grover_circuit)\n",
    "job_monitor(job, interval=2)"
   ]
  },
  {
   "cell_type": "code",
   "execution_count": 727,
   "id": "fe9a6f88",
   "metadata": {
    "scrolled": true
   },
   "outputs": [
    {
     "data": {
      "image/png": "[encoded data removed]",
      "text/plain": [
       "<Figure size 504x360 with 1 Axes>"
      ]
     },
     "execution_count": 727,
     "metadata": {},
     "output_type": "execute_result"
    }
   ],
   "source": [
    "\n",
    "# Get the results from the computation\n",
    "results = job.result()\n",
    "answer = results.get_counts(grover_circuit)\n",
    "plot_histogram(answer)\n",
    "\n",
    "# k=100\n",
    "# prob = int(answer['0011'])/1000\n",
    "# print(prob)\n",
    "# f = open(\"test.txt\", \"w\")\n",
    "# f.write(str(k))\n",
    "# f.write(str(\", \"))\n",
    "# f.write(str(prob))\n",
    "# f.close()"
   ]
  },
  {
   "cell_type": "code",
   "execution_count": 851,
   "id": "98ddb5e8",
   "metadata": {},
   "outputs": [
    {
     "name": "stdout",
     "output_type": "stream",
     "text": [
      "               ┌─────────────────┐       ┌──────────────┐     »\n",
      "      q_2 -> 0 ┤ Delay(2238[dt]) ├───■───┤ Delay(1[dt]) ├──■──»\n",
      "               ├─────────────────┤ ┌─┴─┐ ├──────────────┤┌─┴─┐»\n",
      "      q_3 -> 1 ┤ Delay(2238[dt]) ├─┤ X ├─┤ Delay(1[dt]) ├┤ X ├»\n",
      "               ├─────────────────┴┐└───┘ └──────────────┘└───┘»\n",
      "ancilla_0 -> 2 ┤ Delay(29072[dt]) ├───────────────────────────»\n",
      "               └───┬──────────┬───┘┌────┐                ┌───┐»\n",
      "      q_0 -> 3 ────┤ Rz(-π/2) ├────┤ √X ├────────────────┤ X ├»\n",
      "                   └┬────────┬┘    ├────┤  ┌─────────┐   └─┬─┘»\n",
      "      q_1 -> 4 ─────┤ Rz(-π) ├─────┤ √X ├──┤ Rz(π/2) ├─────■──»\n",
      "                    └────────┘     └────┘  └─────────┘        »\n",
      "       meas: 4/═══════════════════════════════════════════════»\n",
      "                                                              »\n",
      "«                ┌──────────────┐                                              »\n",
      "«      q_2 -> 0 ─┤ Delay(1[dt]) ├──────────────────────────────────────────────»\n",
      "«                ├──────────────┤                                              »\n",
      "«      q_3 -> 1 ─┤ Delay(1[dt]) ├──────────────────────────────────────────────»\n",
      "«                └──────────────┘                                              »\n",
      "«ancilla_0 -> 2 ───────────────────────────────────────────────────────────────»\n",
      "«               ┌────────────────┐┌─────────┐       ┌───┐   ┌────┐  ┌─────────┐»\n",
      "«      q_0 -> 3 ┤ Delay(320[dt]) ├┤ Rz(π/2) ├───────┤ X ├───┤ √X ├──┤ Rz(π/2) ├»\n",
      "«               └─────┬────┬─────┘├─────────┴┐┌────┐└─┬─┘┌──┴────┴─┐└──┬────┬─┘»\n",
      "«      q_1 -> 4 ──────┤ √X ├──────┤ Rz(-π/2) ├┤ √X ├──■──┤ Rz(π/2) ├───┤ √X ├──»\n",
      "«                     └────┘      └──────────┘└────┘     └─────────┘   └────┘  »\n",
      "«       meas: 4/═══════════════════════════════════════════════════════════════»\n",
      "«                                                                              »\n",
      "«                          ░       ┌─┐   \n",
      "«      q_2 -> 0 ───────────░───────┤M├───\n",
      "«                          ░       └╥┘┌─┐\n",
      "«      q_3 -> 1 ───────────░────────╫─┤M├\n",
      "«                          ░        ║ └╥┘\n",
      "«ancilla_0 -> 2 ────────────────────╫──╫─\n",
      "«                          ░ ┌─┐    ║  ║ \n",
      "«      q_0 -> 3 ───────────░─┤M├────╫──╫─\n",
      "«               ┌────────┐ ░ └╥┘┌─┐ ║  ║ \n",
      "«      q_1 -> 4 ┤ Rz(-π) ├─░──╫─┤M├─╫──╫─\n",
      "«               └────────┘ ░  ║ └╥┘ ║  ║ \n",
      "«       meas: 4/══════════════╩══╩══╩══╩═\n",
      "«                             0  1  2  3 \n"
     ]
    }
   ],
   "source": [
    "print(transpiled_grover_circuit)"
   ]
  },
  {
   "cell_type": "code",
   "execution_count": 26,
   "id": "bd0702f5",
   "metadata": {},
   "outputs": [
    {
     "ename": "QiskitBackendNotFoundError",
     "evalue": "'No backend matches the criteria'",
     "output_type": "error",
     "traceback": [
      "\u001b[1;31m---------------------------------------------------------------------------\u001b[0m",
      "\u001b[1;31mQiskitBackendNotFoundError\u001b[0m                Traceback (most recent call last)",
      "\u001b[1;32m<ipython-input-26-f5569b617ed8>\u001b[0m in \u001b[0;36m<module>\u001b[1;34m\u001b[0m\n\u001b[1;32m----> 1\u001b[1;33m \u001b[0mreal_device\u001b[0m \u001b[1;33m=\u001b[0m \u001b[0mprovider\u001b[0m\u001b[1;33m.\u001b[0m\u001b[0mget_backend\u001b[0m\u001b[1;33m(\u001b[0m\u001b[1;34m'ibmq_16_melbourne'\u001b[0m\u001b[1;33m)\u001b[0m\u001b[1;33m\u001b[0m\u001b[1;33m\u001b[0m\u001b[0m\n\u001b[0m",
      "\u001b[1;32m~\\Anaconda3\\lib\\site-packages\\qiskit\\providers\\provider.py\u001b[0m in \u001b[0;36mget_backend\u001b[1;34m(self, name, **kwargs)\u001b[0m\n\u001b[0;32m     53\u001b[0m             \u001b[1;32mraise\u001b[0m \u001b[0mQiskitBackendNotFoundError\u001b[0m\u001b[1;33m(\u001b[0m\u001b[1;34m\"More than one backend matches the criteria\"\u001b[0m\u001b[1;33m)\u001b[0m\u001b[1;33m\u001b[0m\u001b[1;33m\u001b[0m\u001b[0m\n\u001b[0;32m     54\u001b[0m         \u001b[1;32mif\u001b[0m \u001b[1;32mnot\u001b[0m \u001b[0mbackends\u001b[0m\u001b[1;33m:\u001b[0m\u001b[1;33m\u001b[0m\u001b[1;33m\u001b[0m\u001b[0m\n\u001b[1;32m---> 55\u001b[1;33m             \u001b[1;32mraise\u001b[0m \u001b[0mQiskitBackendNotFoundError\u001b[0m\u001b[1;33m(\u001b[0m\u001b[1;34m\"No backend matches the criteria\"\u001b[0m\u001b[1;33m)\u001b[0m\u001b[1;33m\u001b[0m\u001b[1;33m\u001b[0m\u001b[0m\n\u001b[0m\u001b[0;32m     56\u001b[0m \u001b[1;33m\u001b[0m\u001b[0m\n\u001b[0;32m     57\u001b[0m         \u001b[1;32mreturn\u001b[0m \u001b[0mbackends\u001b[0m\u001b[1;33m[\u001b[0m\u001b[1;36m0\u001b[0m\u001b[1;33m]\u001b[0m\u001b[1;33m\u001b[0m\u001b[1;33m\u001b[0m\u001b[0m\n",
      "\u001b[1;31mQiskitBackendNotFoundError\u001b[0m: 'No backend matches the criteria'"
     ]
    }
   ],
   "source": []
  },
  {
   "cell_type": "code",
   "execution_count": 693,
   "id": "7330fe0e",
   "metadata": {},
   "outputs": [],
   "source": [
    "provider = IBMQ.get_provider(hub='ibm-q')\n",
    "real_device = provider.get_backend('ibmq_lima')\n",
    "properties = real_device.properties()\n"
   ]
  },
  {
   "cell_type": "code",
   "execution_count": 680,
   "id": "5a6f06fb",
   "metadata": {},
   "outputs": [
    {
     "name": "stdout",
     "output_type": "stream",
     "text": [
      "\n",
      " qubit_layout: \n",
      " [[0, 1], [1, 0], [1, 2], [1, 3], [2, 1], [3, 1], [3, 4], [4, 3]] \n",
      " backend =  ibmq_lima\n"
     ]
    }
   ],
   "source": [
    "backend = provider.get_backend('ibmq_lima')\n",
    "from qiskit.transpiler import CouplingMap\n",
    "num_qubits = backend.configuration().n_qubits \n",
    "qubit_layout = CouplingMap( getattr(backend.configuration(), 'coupling_map', None) ).reduce([i for i in range(num_qubits)])\n",
    "print('\\n qubit_layout: \\n', qubit_layout, \"\\n backend = \", backend) \n",
    "# qubit_layout.draw()  #This will print out the graph at the bottom "
   ]
  },
  {
   "cell_type": "code",
   "execution_count": 694,
   "id": "b194d6c5",
   "metadata": {},
   "outputs": [
    {
     "data": {
      "text/plain": [
       "<IBMQBackend('ibmq_lima') from IBMQ(hub='ibm-q', group='open', project='main')>"
      ]
     },
     "execution_count": 694,
     "metadata": {},
     "output_type": "execute_result"
    }
   ],
   "source": [
    "provider = IBMQ.get_provider(hub='ibm-q')\n",
    "provider.backends()\n",
    "backend = provider.get_backend('ibmq_lima')\n",
    "backend"
   ]
  },
  {
   "cell_type": "code",
   "execution_count": 760,
   "id": "015ecc9b",
   "metadata": {},
   "outputs": [
    {
     "name": "stdout",
     "output_type": "stream",
     "text": [
      "Running on device:  ibmq_lima\n",
      "Job Status: job has successfully run\n",
      "0 0.89\n",
      "Running on device:  ibmq_lima\n",
      "Job Status: job has successfully run\n",
      "2 0.876\n",
      "Running on device:  ibmq_lima\n",
      "Job Status: job has successfully run\n",
      "10 0.854\n",
      "Running on device:  ibmq_lima\n",
      "Job Status: job has successfully run\n",
      "20 0.879\n",
      "Running on device:  ibmq_lima\n",
      "Job Status: job has successfully run\n",
      "30 0.847\n",
      "Running on device:  ibmq_lima\n",
      "Job Status: job has successfully run\n",
      "40 0.87\n",
      "Running on device:  ibmq_lima\n",
      "Job Status: job has successfully run\n",
      "50 0.872\n",
      "Running on device:  ibmq_lima\n",
      "Job Status: job has successfully run\n",
      "60 0.852\n",
      "Running on device:  ibmq_lima\n",
      "Job Status: job has successfully run\n",
      "70 0.876\n",
      "Running on device:  ibmq_lima\n",
      "Job Status: job has successfully run\n",
      "100 0.845\n",
      "Running on device:  ibmq_lima\n",
      "Job Status: job has successfully run\n",
      "200 0.866\n",
      "Running on device:  ibmq_lima\n",
      "Job Status: job has successfully run\n",
      "300 0.864\n",
      "Running on device:  ibmq_lima\n",
      "Job Status: job has successfully run\n",
      "500 0.86\n",
      "Running on device:  ibmq_lima\n",
      "Job Status: job has successfully run\n",
      "1000 0.851\n",
      "Running on device:  ibmq_lima\n",
      "Job Status: job has successfully run\n",
      "2000 0.855\n",
      "Running on device:  ibmq_lima\n",
      "Job Status: job has successfully run\n",
      "5000 0.817\n"
     ]
    }
   ],
   "source": [
    "k_values = [0,2,10,20,30,40,50,60,70,100,200,300,500,1000,2000,5000]\n",
    "# k_values = [0,1,10,20,30,40,50,60,70,100,200]\n",
    "d = 1\n",
    "\n",
    "f = open(\"Z-Kd1.txt\", \"w\")\n",
    "for i in range(len(k_values)):\n",
    "    grover_circuit = grovers_algorithm(k_values[i],d)\n",
    "    grover_circuit.measure_all()\n",
    "    device = provider.get_backend('ibmq_lima')\n",
    "    print(\"Running on device: \", device)\n",
    "    from qiskit.tools.monitor import job_monitor\n",
    "    transpiled_grover_circuit = transpile(grover_circuit, device, optimization_level=3, scheduling_method='alap')\n",
    "    job = device.run(transpiled_grover_circuit)\n",
    "    job_monitor(job, interval=2)\n",
    "    \n",
    "    results = job.result()\n",
    "    answer = results.get_counts(grover_circuit)\n",
    "    plot_histogram(answer)\n",
    "\n",
    "#     prob = int(answer['0011'])/1000\n",
    "    prob = int(answer['0011'])/1000 \n",
    "    print(k_values[i], prob)\n",
    "    f.write(str(k_values[i]))\n",
    "    f.write(str(\", \"))\n",
    "    f.write(str(prob))\n",
    "    f.write(str(\"\\n\"))\n",
    "f.close()    \n",
    "    "
   ]
  },
  {
   "cell_type": "code",
   "execution_count": 721,
   "id": "1d6045de",
   "metadata": {},
   "outputs": [
    {
     "name": "stdout",
     "output_type": "stream",
     "text": [
      "         ┌──────────────────┐   ┌────────┐   ┌────┐  ┌─────────┐        »\n",
      "q_0 -> 0 ┤ Delay(12608[dt]) ├───┤ Rz(-π) ├───┤ √X ├──┤ Rz(π/2) ├─────■──»\n",
      "         ├──────────────────┤  ┌┴────────┴┐  ├────┤  └─────────┘   ┌─┴─┐»\n",
      "q_1 -> 1 ┤ Delay(12608[dt]) ├──┤ Rz(-π/2) ├──┤ √X ├────────────────┤ X ├»\n",
      "         ├──────────────────┤  └──────────┘  └────┘                └───┘»\n",
      "q_2 -> 2 ┤ Delay(16100[dt]) ├───────────────────────────────────────────»\n",
      "         ├──────────────────┤                                           »\n",
      "q_3 -> 3 ┤ Delay(16100[dt]) ├───────────────────────────────────────────»\n",
      "         └──────┬───┬───────┘┌──────────────┐┌───┐ ┌──────────────┐┌───┐»\n",
      "q_4 -> 4 ───────┤ X ├────────┤ Delay(1[dt]) ├┤ X ├─┤ Delay(1[dt]) ├┤ X ├»\n",
      "                └───┘        └──────────────┘└───┘ └──────────────┘└───┘»\n",
      " meas: 5/═══════════════════════════════════════════════════════════════»\n",
      "                                                                        »\n",
      "«               ┌────┐      ┌──────────┐     ┌────┐            ┌─────────┐   »\n",
      "«q_0 -> 0 ──────┤ √X ├──────┤ Rz(-π/2) ├─────┤ √X ├───────■────┤ Rz(π/2) ├───»\n",
      "«         ┌─────┴────┴─────┐├─────────┬┘     └────┘     ┌─┴─┐  └──┬────┬─┘   »\n",
      "«q_1 -> 1 ┤ Delay(320[dt]) ├┤ Rz(π/2) ├─────────────────┤ X ├─────┤ √X ├─────»\n",
      "«         └────────────────┘└─────────┘                 └───┘     └────┘     »\n",
      "«q_2 -> 2 ───────────────────────────────────────────────────────────────────»\n",
      "«                                                                            »\n",
      "«q_3 -> 3 ───────────────────────────────────────────────────────────────────»\n",
      "«          ┌──────────────┐    ┌───┐    ┌──────────────┐┌───┐┌──────────────┐»\n",
      "«q_4 -> 4 ─┤ Delay(1[dt]) ├────┤ X ├────┤ Delay(1[dt]) ├┤ X ├┤ Delay(1[dt]) ├»\n",
      "«          └──────────────┘    └───┘    └──────────────┘└───┘└──────────────┘»\n",
      "« meas: 5/═══════════════════════════════════════════════════════════════════»\n",
      "«                                                                            »\n",
      "«            ┌────┐      ┌────────┐    ┌────────────────┐                     »\n",
      "«q_0 -> 0 ───┤ √X ├──────┤ Rz(-π) ├────┤ Delay(100[dt]) ├─────────────────────»\n",
      "«         ┌──┴────┴─┐┌───┴────────┴───┐└────────────────┘                     »\n",
      "«q_1 -> 1 ┤ Rz(π/2) ├┤ Delay(100[dt]) ├───────────────────────────────────────»\n",
      "«         └─────────┘└────────────────┘                                       »\n",
      "«q_2 -> 2 ────────────────────────────────────────────────────────────────────»\n",
      "«                                                                             »\n",
      "«q_3 -> 3 ────────────────────────────────────────────────────────────────────»\n",
      "«            ┌───┐    ┌──────────────┐       ┌───┐       ┌──────────────┐┌───┐»\n",
      "«q_4 -> 4 ───┤ X ├────┤ Delay(1[dt]) ├───────┤ X ├───────┤ Delay(1[dt]) ├┤ X ├»\n",
      "«            └───┘    └──────────────┘       └───┘       └──────────────┘└───┘»\n",
      "« meas: 5/════════════════════════════════════════════════════════════════════»\n",
      "«                                                                             »\n",
      "«                                                                        »\n",
      "«q_0 -> 0 ───────────────────────────────────────────────────────────────»\n",
      "«                                                                        »\n",
      "«q_1 -> 1 ───────────────────────────────────────────────────────────────»\n",
      "«                                                                        »\n",
      "«q_2 -> 2 ───────────────────────────────────────────────────────────────»\n",
      "«                                                                        »\n",
      "«q_3 -> 3 ───────────────────────────────────────────────────────────────»\n",
      "«         ┌──────────────┐┌───┐┌──────────────┐┌───┐┌──────────────┐┌───┐»\n",
      "«q_4 -> 4 ┤ Delay(1[dt]) ├┤ X ├┤ Delay(1[dt]) ├┤ X ├┤ Delay(1[dt]) ├┤ X ├»\n",
      "«         └──────────────┘└───┘└──────────────┘└───┘└──────────────┘└───┘»\n",
      "« meas: 5/═══════════════════════════════════════════════════════════════»\n",
      "«                                                                        »\n",
      "«                                                                        »\n",
      "«q_0 -> 0 ───────────────────────────────────────────────────────────────»\n",
      "«                                                                        »\n",
      "«q_1 -> 1 ───────────────────────────────────────────────────────────────»\n",
      "«                                                                        »\n",
      "«q_2 -> 2 ───────────────────────────────────────────────────────────────»\n",
      "«                                                                        »\n",
      "«q_3 -> 3 ───────────────────────────────────────────────────────────────»\n",
      "«         ┌──────────────┐┌───┐┌──────────────┐┌───┐┌──────────────┐┌───┐»\n",
      "«q_4 -> 4 ┤ Delay(1[dt]) ├┤ X ├┤ Delay(1[dt]) ├┤ X ├┤ Delay(1[dt]) ├┤ X ├»\n",
      "«         └──────────────┘└───┘└──────────────┘└───┘└──────────────┘└───┘»\n",
      "« meas: 5/═══════════════════════════════════════════════════════════════»\n",
      "«                                                                        »\n",
      "«                                                                        »\n",
      "«q_0 -> 0 ───────────────────────────────────────────────────────────────»\n",
      "«                                                                        »\n",
      "«q_1 -> 1 ───────────────────────────────────────────────────────────────»\n",
      "«                                                                        »\n",
      "«q_2 -> 2 ───────────────────────────────────────────────────────────────»\n",
      "«                                                                        »\n",
      "«q_3 -> 3 ───────────────────────────────────────────────────────────────»\n",
      "«         ┌──────────────┐┌───┐┌──────────────┐┌───┐┌──────────────┐┌───┐»\n",
      "«q_4 -> 4 ┤ Delay(1[dt]) ├┤ X ├┤ Delay(1[dt]) ├┤ X ├┤ Delay(1[dt]) ├┤ X ├»\n",
      "«         └──────────────┘└───┘└──────────────┘└───┘└──────────────┘└───┘»\n",
      "« meas: 5/═══════════════════════════════════════════════════════════════»\n",
      "«                                                                        »\n",
      "«                                                                        »\n",
      "«q_0 -> 0 ───────────────────────────────────────────────────────────────»\n",
      "«                                                                        »\n",
      "«q_1 -> 1 ───────────────────────────────────────────────────────────────»\n",
      "«                                                                        »\n",
      "«q_2 -> 2 ───────────────────────────────────────────────────────────────»\n",
      "«                                                                        »\n",
      "«q_3 -> 3 ───────────────────────────────────────────────────────────────»\n",
      "«         ┌──────────────┐┌───┐┌──────────────┐┌───┐┌──────────────┐┌───┐»\n",
      "«q_4 -> 4 ┤ Delay(1[dt]) ├┤ X ├┤ Delay(1[dt]) ├┤ X ├┤ Delay(1[dt]) ├┤ X ├»\n",
      "«         └──────────────┘└───┘└──────────────┘└───┘└──────────────┘└───┘»\n",
      "« meas: 5/═══════════════════════════════════════════════════════════════»\n",
      "«                                                                        »\n",
      "«                                                                        »\n",
      "«q_0 -> 0 ───────────────────────────────────────────────────────────────»\n",
      "«                                                                        »\n",
      "«q_1 -> 1 ───────────────────────────────────────────────────────────────»\n",
      "«                                                                        »\n",
      "«q_2 -> 2 ───────────────────────────────────────────────────────────────»\n",
      "«                                                                        »\n",
      "«q_3 -> 3 ───────────────────────────────────────────────────────────────»\n",
      "«         ┌──────────────┐┌───┐┌──────────────┐┌───┐┌──────────────┐┌───┐»\n",
      "«q_4 -> 4 ┤ Delay(1[dt]) ├┤ X ├┤ Delay(1[dt]) ├┤ X ├┤ Delay(1[dt]) ├┤ X ├»\n",
      "«         └──────────────┘└───┘└──────────────┘└───┘└──────────────┘└───┘»\n",
      "« meas: 5/═══════════════════════════════════════════════════════════════»\n",
      "«                                                                        »\n",
      "«                                                                        »\n",
      "«q_0 -> 0 ───────────────────────────────────────────────────────────────»\n",
      "«                                                                        »\n",
      "«q_1 -> 1 ───────────────────────────────────────────────────────────────»\n",
      "«                                                                        »\n",
      "«q_2 -> 2 ───────────────────────────────────────────────────────────────»\n",
      "«                                                                        »\n",
      "«q_3 -> 3 ───────────────────────────────────────────────────────────────»\n",
      "«         ┌──────────────┐┌───┐┌──────────────┐┌───┐┌──────────────┐┌───┐»\n",
      "«q_4 -> 4 ┤ Delay(1[dt]) ├┤ X ├┤ Delay(1[dt]) ├┤ X ├┤ Delay(1[dt]) ├┤ X ├»\n",
      "«         └──────────────┘└───┘└──────────────┘└───┘└──────────────┘└───┘»\n",
      "« meas: 5/═══════════════════════════════════════════════════════════════»\n",
      "«                                                                        »\n",
      "«                                                                        »\n",
      "«q_0 -> 0 ───────────────────────────────────────────────────────────────»\n",
      "«                                                                        »\n",
      "«q_1 -> 1 ───────────────────────────────────────────────────────────────»\n",
      "«                                                                        »\n",
      "«q_2 -> 2 ───────────────────────────────────────────────────────────────»\n",
      "«                                                                        »\n",
      "«q_3 -> 3 ───────────────────────────────────────────────────────────────»\n",
      "«         ┌──────────────┐┌───┐┌──────────────┐┌───┐┌──────────────┐┌───┐»\n",
      "«q_4 -> 4 ┤ Delay(1[dt]) ├┤ X ├┤ Delay(1[dt]) ├┤ X ├┤ Delay(1[dt]) ├┤ X ├»\n",
      "«         └──────────────┘└───┘└──────────────┘└───┘└──────────────┘└───┘»\n",
      "« meas: 5/═══════════════════════════════════════════════════════════════»\n",
      "«                                                                        »\n",
      "«                                                                        »\n",
      "«q_0 -> 0 ───────────────────────────────────────────────────────────────»\n",
      "«                                                                        »\n",
      "«q_1 -> 1 ───────────────────────────────────────────────────────────────»\n",
      "«                                                                        »\n",
      "«q_2 -> 2 ───────────────────────────────────────────────────────────────»\n",
      "«                                                                        »\n",
      "«q_3 -> 3 ───────────────────────────────────────────────────────────────»\n",
      "«         ┌──────────────┐┌───┐┌──────────────┐┌───┐┌──────────────┐┌───┐»\n",
      "«q_4 -> 4 ┤ Delay(1[dt]) ├┤ X ├┤ Delay(1[dt]) ├┤ X ├┤ Delay(1[dt]) ├┤ X ├»\n",
      "«         └──────────────┘└───┘└──────────────┘└───┘└──────────────┘└───┘»\n",
      "« meas: 5/═══════════════════════════════════════════════════════════════»\n",
      "«                                                                        »\n",
      "«                                                                        »\n",
      "«q_0 -> 0 ───────────────────────────────────────────────────────────────»\n",
      "«                                                                        »\n",
      "«q_1 -> 1 ───────────────────────────────────────────────────────────────»\n",
      "«                                                                        »\n",
      "«q_2 -> 2 ───────────────────────────────────────────────────────────────»\n",
      "«                                                                        »\n",
      "«q_3 -> 3 ───────────────────────────────────────────────────────────────»\n",
      "«         ┌──────────────┐┌───┐┌──────────────┐┌───┐┌──────────────┐┌───┐»\n",
      "«q_4 -> 4 ┤ Delay(1[dt]) ├┤ X ├┤ Delay(1[dt]) ├┤ X ├┤ Delay(1[dt]) ├┤ X ├»\n",
      "«         └──────────────┘└───┘└──────────────┘└───┘└──────────────┘└───┘»\n",
      "« meas: 5/═══════════════════════════════════════════════════════════════»\n",
      "«                                                                        »\n",
      "«                                                                        »\n",
      "«q_0 -> 0 ───────────────────────────────────────────────────────────────»\n",
      "«                                                                        »\n",
      "«q_1 -> 1 ───────────────────────────────────────────────────────────────»\n",
      "«                                                                        »\n",
      "«q_2 -> 2 ───────────────────────────────────────────────────────────────»\n",
      "«                                                                        »\n",
      "«q_3 -> 3 ───────────────────────────────────────────────────────────────»\n",
      "«         ┌──────────────┐┌───┐┌──────────────┐┌───┐┌──────────────┐┌───┐»\n",
      "«q_4 -> 4 ┤ Delay(1[dt]) ├┤ X ├┤ Delay(1[dt]) ├┤ X ├┤ Delay(1[dt]) ├┤ X ├»\n",
      "«         └──────────────┘└───┘└──────────────┘└───┘└──────────────┘└───┘»\n",
      "« meas: 5/═══════════════════════════════════════════════════════════════»\n",
      "«                                                                        »\n",
      "«                                                                        »\n",
      "«q_0 -> 0 ───────────────────────────────────────────────────────────────»\n",
      "«                                                                        »\n",
      "«q_1 -> 1 ───────────────────────────────────────────────────────────────»\n",
      "«                                                                        »\n",
      "«q_2 -> 2 ───────────────────────────────────────────────────────────────»\n",
      "«                                                                        »\n",
      "«q_3 -> 3 ───────────────────────────────────────────────────────────────»\n",
      "«         ┌──────────────┐┌───┐┌──────────────┐┌───┐┌──────────────┐┌───┐»\n",
      "«q_4 -> 4 ┤ Delay(1[dt]) ├┤ X ├┤ Delay(1[dt]) ├┤ X ├┤ Delay(1[dt]) ├┤ X ├»\n",
      "«         └──────────────┘└───┘└──────────────┘└───┘└──────────────┘└───┘»\n",
      "« meas: 5/═══════════════════════════════════════════════════════════════»\n",
      "«                                                                        »\n",
      "«                                                                        »\n",
      "«q_0 -> 0 ───────────────────────────────────────────────────────────────»\n",
      "«                                                                        »\n",
      "«q_1 -> 1 ───────────────────────────────────────────────────────────────»\n",
      "«                                                                        »\n",
      "«q_2 -> 2 ───────────────────────────────────────────────────────────────»\n",
      "«                                                                        »\n",
      "«q_3 -> 3 ───────────────────────────────────────────────────────────────»\n",
      "«         ┌──────────────┐┌───┐┌──────────────┐┌───┐┌──────────────┐┌───┐»\n",
      "«q_4 -> 4 ┤ Delay(1[dt]) ├┤ X ├┤ Delay(1[dt]) ├┤ X ├┤ Delay(1[dt]) ├┤ X ├»\n",
      "«         └──────────────┘└───┘└──────────────┘└───┘└──────────────┘└───┘»\n",
      "« meas: 5/═══════════════════════════════════════════════════════════════»\n",
      "«                                                                        »\n",
      "«                                                                        »\n",
      "«q_0 -> 0 ───────────────────────────────────────────────────────────────»\n",
      "«                                                                        »\n",
      "«q_1 -> 1 ───────────────────────────────────────────────────────────────»\n",
      "«                                                                        »\n",
      "«q_2 -> 2 ───────────────────────────────────────────────────────────────»\n",
      "«                                                                        »\n",
      "«q_3 -> 3 ───────────────────────────────────────────────────────────────»\n",
      "«         ┌──────────────┐┌───┐┌──────────────┐┌───┐┌──────────────┐┌───┐»\n",
      "«q_4 -> 4 ┤ Delay(1[dt]) ├┤ X ├┤ Delay(1[dt]) ├┤ X ├┤ Delay(1[dt]) ├┤ X ├»\n",
      "«         └──────────────┘└───┘└──────────────┘└───┘└──────────────┘└───┘»\n",
      "« meas: 5/═══════════════════════════════════════════════════════════════»\n",
      "«                                                                        »\n",
      "«                                                                        »\n",
      "«q_0 -> 0 ───────────────────────────────────────────────────────────────»\n",
      "«                                                                        »\n",
      "«q_1 -> 1 ───────────────────────────────────────────────────────────────»\n",
      "«                                                                        »\n",
      "«q_2 -> 2 ───────────────────────────────────────────────────────────────»\n",
      "«                                                                        »\n",
      "«q_3 -> 3 ───────────────────────────────────────────────────────────────»\n",
      "«         ┌──────────────┐┌───┐┌──────────────┐┌───┐┌──────────────┐┌───┐»\n",
      "«q_4 -> 4 ┤ Delay(1[dt]) ├┤ X ├┤ Delay(1[dt]) ├┤ X ├┤ Delay(1[dt]) ├┤ X ├»\n",
      "«         └──────────────┘└───┘└──────────────┘└───┘└──────────────┘└───┘»\n",
      "« meas: 5/═══════════════════════════════════════════════════════════════»\n",
      "«                                                                        »\n",
      "«                                                                        »\n",
      "«q_0 -> 0 ───────────────────────────────────────────────────────────────»\n",
      "«                                                                        »\n",
      "«q_1 -> 1 ───────────────────────────────────────────────────────────────»\n",
      "«                                                                        »\n",
      "«q_2 -> 2 ───────────────────────────────────────────────────────────────»\n",
      "«                                                                        »\n",
      "«q_3 -> 3 ───────────────────────────────────────────────────────────────»\n",
      "«         ┌──────────────┐┌───┐┌──────────────┐┌───┐┌──────────────┐┌───┐»\n",
      "«q_4 -> 4 ┤ Delay(1[dt]) ├┤ X ├┤ Delay(1[dt]) ├┤ X ├┤ Delay(1[dt]) ├┤ X ├»\n",
      "«         └──────────────┘└───┘└──────────────┘└───┘└──────────────┘└───┘»\n",
      "« meas: 5/═══════════════════════════════════════════════════════════════»\n",
      "«                                                                        »\n",
      "«                                                                        »\n",
      "«q_0 -> 0 ───────────────────────────────────────────────────────────────»\n",
      "«                                                                        »\n",
      "«q_1 -> 1 ───────────────────────────────────────────────────────────────»\n",
      "«                                                                        »\n",
      "«q_2 -> 2 ───────────────────────────────────────────────────────────────»\n",
      "«                                                                        »\n",
      "«q_3 -> 3 ───────────────────────────────────────────────────────────────»\n",
      "«         ┌──────────────┐┌───┐┌──────────────┐┌───┐┌──────────────┐┌───┐»\n",
      "«q_4 -> 4 ┤ Delay(1[dt]) ├┤ X ├┤ Delay(1[dt]) ├┤ X ├┤ Delay(1[dt]) ├┤ X ├»\n",
      "«         └──────────────┘└───┘└──────────────┘└───┘└──────────────┘└───┘»\n",
      "« meas: 5/═══════════════════════════════════════════════════════════════»\n",
      "«                                                                        »\n",
      "«                                                                        »\n",
      "«q_0 -> 0 ───────────────────────────────────────────────────────────────»\n",
      "«                                                                        »\n",
      "«q_1 -> 1 ───────────────────────────────────────────────────────────────»\n",
      "«                                                                        »\n",
      "«q_2 -> 2 ───────────────────────────────────────────────────────────────»\n",
      "«                                                                        »\n",
      "«q_3 -> 3 ───────────────────────────────────────────────────────────────»\n",
      "«         ┌──────────────┐┌───┐┌──────────────┐┌───┐┌──────────────┐┌───┐»\n",
      "«q_4 -> 4 ┤ Delay(1[dt]) ├┤ X ├┤ Delay(1[dt]) ├┤ X ├┤ Delay(1[dt]) ├┤ X ├»\n",
      "«         └──────────────┘└───┘└──────────────┘└───┘└──────────────┘└───┘»\n",
      "« meas: 5/═══════════════════════════════════════════════════════════════»\n",
      "«                                                                        »\n",
      "«                                                                        »\n",
      "«q_0 -> 0 ───────────────────────────────────────────────────────────────»\n",
      "«                                                                        »\n",
      "«q_1 -> 1 ───────────────────────────────────────────────────────────────»\n",
      "«                                                                        »\n",
      "«q_2 -> 2 ───────────────────────────────────────────────────────────────»\n",
      "«                                                                        »\n",
      "«q_3 -> 3 ───────────────────────────────────────────────────────────────»\n",
      "«         ┌──────────────┐┌───┐┌──────────────┐┌───┐┌──────────────┐┌───┐»\n",
      "«q_4 -> 4 ┤ Delay(1[dt]) ├┤ X ├┤ Delay(1[dt]) ├┤ X ├┤ Delay(1[dt]) ├┤ X ├»\n",
      "«         └──────────────┘└───┘└──────────────┘└───┘└──────────────┘└───┘»\n",
      "« meas: 5/═══════════════════════════════════════════════════════════════»\n",
      "«                                                                        »\n",
      "«                                                                        »\n",
      "«q_0 -> 0 ───────────────────────────────────────────────────────────────»\n",
      "«                                                                        »\n",
      "«q_1 -> 1 ───────────────────────────────────────────────────────────────»\n",
      "«                                                                        »\n",
      "«q_2 -> 2 ───────────────────────────────────────────────────────────────»\n",
      "«                                                                        »\n",
      "«q_3 -> 3 ───────────────────────────────────────────────────────────────»\n",
      "«         ┌──────────────┐┌───┐┌──────────────┐┌───┐┌──────────────┐┌───┐»\n",
      "«q_4 -> 4 ┤ Delay(1[dt]) ├┤ X ├┤ Delay(1[dt]) ├┤ X ├┤ Delay(1[dt]) ├┤ X ├»\n",
      "«         └──────────────┘└───┘└──────────────┘└───┘└──────────────┘└───┘»\n",
      "« meas: 5/═══════════════════════════════════════════════════════════════»\n",
      "«                                                                        »\n",
      "«                                                                        »\n",
      "«q_0 -> 0 ───────────────────────────────────────────────────────────────»\n",
      "«                                                                        »\n",
      "«q_1 -> 1 ───────────────────────────────────────────────────────────────»\n",
      "«                                                                        »\n",
      "«q_2 -> 2 ───────────────────────────────────────────────────────────────»\n",
      "«                                                                        »\n",
      "«q_3 -> 3 ───────────────────────────────────────────────────────────────»\n",
      "«         ┌──────────────┐┌───┐┌──────────────┐┌───┐┌──────────────┐┌───┐»\n",
      "«q_4 -> 4 ┤ Delay(1[dt]) ├┤ X ├┤ Delay(1[dt]) ├┤ X ├┤ Delay(1[dt]) ├┤ X ├»\n",
      "«         └──────────────┘└───┘└──────────────┘└───┘└──────────────┘└───┘»\n",
      "« meas: 5/═══════════════════════════════════════════════════════════════»\n",
      "«                                                                        »\n",
      "«                                                                        »\n",
      "«q_0 -> 0 ───────────────────────────────────────────────────────────────»\n",
      "«                                                                        »\n",
      "«q_1 -> 1 ───────────────────────────────────────────────────────────────»\n",
      "«                                                                        »\n",
      "«q_2 -> 2 ───────────────────────────────────────────────────────────────»\n",
      "«                                                                        »\n",
      "«q_3 -> 3 ───────────────────────────────────────────────────────────────»\n",
      "«         ┌──────────────┐┌───┐┌──────────────┐┌───┐┌──────────────┐┌───┐»\n",
      "«q_4 -> 4 ┤ Delay(1[dt]) ├┤ X ├┤ Delay(1[dt]) ├┤ X ├┤ Delay(1[dt]) ├┤ X ├»\n",
      "«         └──────────────┘└───┘└──────────────┘└───┘└──────────────┘└───┘»\n",
      "« meas: 5/═══════════════════════════════════════════════════════════════»\n",
      "«                                                                        »\n",
      "«                                                                        »\n",
      "«q_0 -> 0 ───────────────────────────────────────────────────────────────»\n",
      "«                                                                        »\n",
      "«q_1 -> 1 ───────────────────────────────────────────────────────────────»\n",
      "«                                                                        »\n",
      "«q_2 -> 2 ───────────────────────────────────────────────────────────────»\n",
      "«                                                                        »\n",
      "«q_3 -> 3 ───────────────────────────────────────────────────────────────»\n",
      "«         ┌──────────────┐┌───┐┌──────────────┐┌───┐┌──────────────┐┌───┐»\n",
      "«q_4 -> 4 ┤ Delay(1[dt]) ├┤ X ├┤ Delay(1[dt]) ├┤ X ├┤ Delay(1[dt]) ├┤ X ├»\n",
      "«         └──────────────┘└───┘└──────────────┘└───┘└──────────────┘└───┘»\n",
      "« meas: 5/═══════════════════════════════════════════════════════════════»\n",
      "«                                                                        »\n",
      "«                                                                        »\n",
      "«q_0 -> 0 ───────────────────────────────────────────────────────────────»\n",
      "«                                                                        »\n",
      "«q_1 -> 1 ───────────────────────────────────────────────────────────────»\n",
      "«                                                                        »\n",
      "«q_2 -> 2 ───────────────────────────────────────────────────────────────»\n",
      "«                                                                        »\n",
      "«q_3 -> 3 ───────────────────────────────────────────────────────────────»\n",
      "«         ┌──────────────┐┌───┐┌──────────────┐┌───┐┌──────────────┐┌───┐»\n",
      "«q_4 -> 4 ┤ Delay(1[dt]) ├┤ X ├┤ Delay(1[dt]) ├┤ X ├┤ Delay(1[dt]) ├┤ X ├»\n",
      "«         └──────────────┘└───┘└──────────────┘└───┘└──────────────┘└───┘»\n",
      "« meas: 5/═══════════════════════════════════════════════════════════════»\n",
      "«                                                                        »\n",
      "«                                                                        »\n",
      "«q_0 -> 0 ───────────────────────────────────────────────────────────────»\n",
      "«                                                                        »\n",
      "«q_1 -> 1 ───────────────────────────────────────────────────────────────»\n",
      "«                                                                        »\n",
      "«q_2 -> 2 ───────────────────────────────────────────────────────────────»\n",
      "«                                                                        »\n",
      "«q_3 -> 3 ───────────────────────────────────────────────────────────────»\n",
      "«         ┌──────────────┐┌───┐┌──────────────┐┌───┐┌──────────────┐┌───┐»\n",
      "«q_4 -> 4 ┤ Delay(1[dt]) ├┤ X ├┤ Delay(1[dt]) ├┤ X ├┤ Delay(1[dt]) ├┤ X ├»\n",
      "«         └──────────────┘└───┘└──────────────┘└───┘└──────────────┘└───┘»\n",
      "« meas: 5/═══════════════════════════════════════════════════════════════»\n",
      "«                                                                        »\n",
      "«                                                                        »\n",
      "«q_0 -> 0 ───────────────────────────────────────────────────────────────»\n",
      "«                                                                        »\n",
      "«q_1 -> 1 ───────────────────────────────────────────────────────────────»\n",
      "«                                                                        »\n",
      "«q_2 -> 2 ───────────────────────────────────────────────────────────────»\n",
      "«                                                                        »\n",
      "«q_3 -> 3 ───────────────────────────────────────────────────────────────»\n",
      "«         ┌──────────────┐┌───┐┌──────────────┐┌───┐┌──────────────┐┌───┐»\n",
      "«q_4 -> 4 ┤ Delay(1[dt]) ├┤ X ├┤ Delay(1[dt]) ├┤ X ├┤ Delay(1[dt]) ├┤ X ├»\n",
      "«         └──────────────┘└───┘└──────────────┘└───┘└──────────────┘└───┘»\n",
      "« meas: 5/═══════════════════════════════════════════════════════════════»\n",
      "«                                                                        »\n",
      "«                                                                        »\n",
      "«q_0 -> 0 ───────────────────────────────────────────────────────────────»\n",
      "«                                                                        »\n",
      "«q_1 -> 1 ───────────────────────────────────────────────────────────────»\n",
      "«                                                                        »\n",
      "«q_2 -> 2 ───────────────────────────────────────────────────────────────»\n",
      "«                                                                        »\n",
      "«q_3 -> 3 ───────────────────────────────────────────────────────────────»\n",
      "«         ┌──────────────┐┌───┐┌──────────────┐┌───┐┌──────────────┐┌───┐»\n",
      "«q_4 -> 4 ┤ Delay(1[dt]) ├┤ X ├┤ Delay(1[dt]) ├┤ X ├┤ Delay(1[dt]) ├┤ X ├»\n",
      "«         └──────────────┘└───┘└──────────────┘└───┘└──────────────┘└───┘»\n",
      "« meas: 5/═══════════════════════════════════════════════════════════════»\n",
      "«                                                                        »\n",
      "«                                                                        »\n",
      "«q_0 -> 0 ───────────────────────────────────────────────────────────────»\n",
      "«                                                                        »\n",
      "«q_1 -> 1 ───────────────────────────────────────────────────────────────»\n",
      "«                                                                        »\n",
      "«q_2 -> 2 ───────────────────────────────────────────────────────────────»\n",
      "«                                                                        »\n",
      "«q_3 -> 3 ───────────────────────────────────────────────────────────────»\n",
      "«         ┌──────────────┐┌───┐┌──────────────┐┌───┐┌──────────────┐┌───┐»\n",
      "«q_4 -> 4 ┤ Delay(1[dt]) ├┤ X ├┤ Delay(1[dt]) ├┤ X ├┤ Delay(1[dt]) ├┤ X ├»\n",
      "«         └──────────────┘└───┘└──────────────┘└───┘└──────────────┘└───┘»\n",
      "« meas: 5/═══════════════════════════════════════════════════════════════»\n",
      "«                                                                        »\n",
      "«                                                                        »\n",
      "«q_0 -> 0 ───────────────────────────────────────────────────────────────»\n",
      "«                                                                        »\n",
      "«q_1 -> 1 ───────────────────────────────────────────────────────────────»\n",
      "«                                                                        »\n",
      "«q_2 -> 2 ───────────────────────────────────────────────────────────────»\n",
      "«                                                                        »\n",
      "«q_3 -> 3 ───────────────────────────────────────────────────────────────»\n",
      "«         ┌──────────────┐┌───┐┌──────────────┐┌───┐┌──────────────┐┌───┐»\n",
      "«q_4 -> 4 ┤ Delay(1[dt]) ├┤ X ├┤ Delay(1[dt]) ├┤ X ├┤ Delay(1[dt]) ├┤ X ├»\n",
      "«         └──────────────┘└───┘└──────────────┘└───┘└──────────────┘└───┘»\n",
      "« meas: 5/═══════════════════════════════════════════════════════════════»\n",
      "«                                                                        »\n",
      "«                                                                        »\n",
      "«q_0 -> 0 ───────────────────────────────────────────────────────────────»\n",
      "«                                                                        »\n",
      "«q_1 -> 1 ───────────────────────────────────────────────────────────────»\n",
      "«                                                                        »\n",
      "«q_2 -> 2 ───────────────────────────────────────────────────────────────»\n",
      "«                                                                        »\n",
      "«q_3 -> 3 ───────────────────────────────────────────────────────────────»\n",
      "«         ┌──────────────┐┌───┐┌──────────────┐┌───┐┌──────────────┐┌───┐»\n",
      "«q_4 -> 4 ┤ Delay(1[dt]) ├┤ X ├┤ Delay(1[dt]) ├┤ X ├┤ Delay(1[dt]) ├┤ X ├»\n",
      "«         └──────────────┘└───┘└──────────────┘└───┘└──────────────┘└───┘»\n",
      "« meas: 5/═══════════════════════════════════════════════════════════════»\n",
      "«                                                                        »\n",
      "«                                                                        »\n",
      "«q_0 -> 0 ───────────────────────────────────────────────────────────────»\n",
      "«                                                                        »\n",
      "«q_1 -> 1 ───────────────────────────────────────────────────────────────»\n",
      "«                                                                        »\n",
      "«q_2 -> 2 ───────────────────────────────────────────────────────────────»\n",
      "«                                                                        »\n",
      "«q_3 -> 3 ───────────────────────────────────────────────────────────────»\n",
      "«         ┌──────────────┐┌───┐┌──────────────┐┌───┐┌──────────────┐┌───┐»\n",
      "«q_4 -> 4 ┤ Delay(1[dt]) ├┤ X ├┤ Delay(1[dt]) ├┤ X ├┤ Delay(1[dt]) ├┤ X ├»\n",
      "«         └──────────────┘└───┘└──────────────┘└───┘└──────────────┘└───┘»\n",
      "« meas: 5/═══════════════════════════════════════════════════════════════»\n",
      "«                                                                        »\n",
      "«                                                                    ░ »\n",
      "«q_0 -> 0 ───────────────────────────────────────────────────────────░─»\n",
      "«                                                                    ░ »\n",
      "«q_1 -> 1 ───────────────────────────────────────────────────────────░─»\n",
      "«                                                                    ░ »\n",
      "«q_2 -> 2 ───────────────────────────────────────────────────────────░─»\n",
      "«                                                                    ░ »\n",
      "«q_3 -> 3 ───────────────────────────────────────────────────────────░─»\n",
      "«         ┌──────────────┐┌───┐┌──────────────┐┌───┐┌──────────────┐ ░ »\n",
      "«q_4 -> 4 ┤ Delay(1[dt]) ├┤ X ├┤ Delay(1[dt]) ├┤ X ├┤ Delay(1[dt]) ├─░─»\n",
      "«         └──────────────┘└───┘└──────────────┘└───┘└──────────────┘ ░ »\n",
      "« meas: 5/═════════════════════════════════════════════════════════════»\n",
      "«                                                                      »\n",
      "«         ┌───────────────┐┌─┐            \n",
      "«q_0 -> 0 ┤ Delay(12[dt]) ├┤M├────────────\n",
      "«         ├───────────────┤└╥┘┌─┐         \n",
      "«q_1 -> 1 ┤ Delay(12[dt]) ├─╫─┤M├─────────\n",
      "«         ├───────────────┤ ║ └╥┘┌─┐      \n",
      "«q_2 -> 2 ┤ Delay(12[dt]) ├─╫──╫─┤M├──────\n",
      "«         ├───────────────┤ ║  ║ └╥┘┌─┐   \n",
      "«q_3 -> 3 ┤ Delay(12[dt]) ├─╫──╫──╫─┤M├───\n",
      "«         ├───────────────┤ ║  ║  ║ └╥┘┌─┐\n",
      "«q_4 -> 4 ┤ Delay(12[dt]) ├─╫──╫──╫──╫─┤M├\n",
      "«         └───────────────┘ ║  ║  ║  ║ └╥┘\n",
      "« meas: 5/══════════════════╩══╩══╩══╩══╩═\n",
      "«                           0  1  2  3  4 \n"
     ]
    }
   ],
   "source": [
    "print(transpiled_grover_circuit)"
   ]
  },
  {
   "cell_type": "code",
   "execution_count": 676,
   "id": "878e1a8d",
   "metadata": {},
   "outputs": [
    {
     "ename": "ModuleNotFoundError",
     "evalue": "No module named 'pygraphviz'",
     "output_type": "error",
     "traceback": [
      "\u001b[1;31m---------------------------------------------------------------------------\u001b[0m",
      "\u001b[1;31mModuleNotFoundError\u001b[0m                       Traceback (most recent call last)",
      "\u001b[1;32m<ipython-input-676-0e14b2de0baf>\u001b[0m in \u001b[0;36m<module>\u001b[1;34m\u001b[0m\n\u001b[0;32m      1\u001b[0m \u001b[1;31m# Get paths of graphviz programs\u001b[0m\u001b[1;33m\u001b[0m\u001b[1;33m\u001b[0m\u001b[1;33m\u001b[0m\u001b[0m\n\u001b[1;32m----> 2\u001b[1;33m \u001b[1;32mimport\u001b[0m \u001b[0mpygraphviz\u001b[0m \u001b[1;32mas\u001b[0m \u001b[0mpgv\u001b[0m\u001b[1;33m\u001b[0m\u001b[1;33m\u001b[0m\u001b[0m\n\u001b[0m\u001b[0;32m      3\u001b[0m \u001b[1;33m\u001b[0m\u001b[0m\n\u001b[0;32m      4\u001b[0m \u001b[0mA\u001b[0m \u001b[1;33m=\u001b[0m \u001b[0mpgv\u001b[0m\u001b[1;33m.\u001b[0m\u001b[0mAGraph\u001b[0m\u001b[1;33m(\u001b[0m\u001b[1;33m)\u001b[0m\u001b[1;33m\u001b[0m\u001b[1;33m\u001b[0m\u001b[0m\n\u001b[0;32m      5\u001b[0m progs_list = ['neato', 'dot', 'twopi', 'circo', 'fdp', 'nop', 'wc', 'acyclic', 'gvpr',\n",
      "\u001b[1;31mModuleNotFoundError\u001b[0m: No module named 'pygraphviz'"
     ]
    }
   ],
   "source": []
  },
  {
   "cell_type": "code",
   "execution_count": 865,
   "id": "89a867a0",
   "metadata": {},
   "outputs": [
    {
     "data": {
      "image/png": "[encoded data removed]",
      "text/plain": [
       "<Figure size 447.797x264.88 with 1 Axes>"
      ]
     },
     "execution_count": 865,
     "metadata": {},
     "output_type": "execute_result"
    }
   ],
   "source": [
    "from qiskit import QuantumCircuit, transpile\n",
    "from qiskit.visualization import plot_circuit_layout\n",
    "from qiskit.test.mock import FakeVigo\n",
    "backend = provider.get_backend('ibmq_lima')\n",
    "\n",
    "gc = grovers_algorithm(2,1)\n",
    "# gc.measure_all()\n",
    "device = provider.get_backend('ibmq_lima')\n",
    "gc.draw(output='mpl')\n"
   ]
  },
  {
   "cell_type": "code",
   "execution_count": 866,
   "id": "06c7dcf2",
   "metadata": {},
   "outputs": [
    {
     "data": {
      "image/png": "[encoded data removed]",
      "text/plain": [
       "<Figure size 360x360 with 1 Axes>"
      ]
     },
     "execution_count": 866,
     "metadata": {},
     "output_type": "execute_result"
    }
   ],
   "source": [
    "# new_circ_lv0 = transpile(gc, backend=backend, optimization_level=0, scheduling_method='alap')\n",
    "# plot_circuit_layout(new_circ_lv0, backend)\n",
    "\n",
    "new_circ_lv0 = transpile(gc, backend=backend, optimization_level=0, scheduling_method='alap')\n",
    "plot_circuit_layout(new_circ_lv0, backend)"
   ]
  },
  {
   "cell_type": "code",
   "execution_count": 867,
   "id": "dc16d04c",
   "metadata": {},
   "outputs": [
    {
     "data": {
      "image/png": "[encoded data removed]",
      "text/plain": [
       "<Figure size 1684.04x686.28 with 1 Axes>"
      ]
     },
     "execution_count": 867,
     "metadata": {},
     "output_type": "execute_result"
    }
   ],
   "source": [
    "new_circ_lv0.draw('mpl')"
   ]
  },
  {
   "cell_type": "code",
   "execution_count": 885,
   "id": "7984db29",
   "metadata": {},
   "outputs": [
    {
     "data": {
      "image/png": "[encoded data removed]",
      "text/plain": [
       "<Figure size 447.797x325.08 with 1 Axes>"
      ]
     },
     "execution_count": 885,
     "metadata": {},
     "output_type": "execute_result"
    }
   ],
   "source": [
    "ghz = QuantumCircuit(5)\n",
    "# ghz.x(0)\n",
    "# ghz.ccx(0,1,2)\n",
    "ghz.cx(0,1)\n",
    "ghz.cx(3,4)\n",
    "ghz.cx(3,4)\n",
    "ghz.delay(3,unit = 'dt')\n",
    "# ghz.cx(3,4)\n",
    "\n",
    "# ghz.measure_all()\n",
    "ghz.draw(output='mpl')\n"
   ]
  },
  {
   "cell_type": "code",
   "execution_count": 886,
   "id": "cf344032",
   "metadata": {},
   "outputs": [
    {
     "data": {
      "image/png": "[encoded data removed]",
      "text/plain": [
       "<Figure size 360x360 with 1 Axes>"
      ]
     },
     "execution_count": 886,
     "metadata": {},
     "output_type": "execute_result"
    }
   ],
   "source": [
    "# qplot = transpile(ghz, backend=backend, optimization_level=1, scheduling_method='alap')\n",
    "qplot = transpile(ghz, backend=backend, scheduling_method='alap')\n",
    "plot_circuit_layout(qplot, backend)"
   ]
  },
  {
   "cell_type": "code",
   "execution_count": 887,
   "id": "9ec97dff",
   "metadata": {},
   "outputs": [
    {
     "data": {
      "image/png": "[encoded data removed]",
      "text/plain": [
       "<Figure size 365.329x325.08 with 1 Axes>"
      ]
     },
     "execution_count": 887,
     "metadata": {},
     "output_type": "execute_result"
    }
   ],
   "source": [
    "qplot.draw(output='mpl')"
   ]
  },
  {
   "cell_type": "code",
   "execution_count": null,
   "id": "155e512b",
   "metadata": {},
   "outputs": [],
   "source": []
  }
 ],
 "metadata": {
  "kernelspec": {
   "display_name": "Python 3",
   "language": "python",
   "name": "python3"
  },
  "language_info": {
   "codemirror_mode": {
    "name": "ipython",
    "version": 3
   },
   "file_extension": ".py",
   "mimetype": "text/x-python",
   "name": "python",
   "nbconvert_exporter": "python",
   "pygments_lexer": "ipython3",
   "version": "3.8.8"
  }
 },
 "nbformat": 4,
 "nbformat_minor": 5
}
