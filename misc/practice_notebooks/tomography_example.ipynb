{
 "cells": [
  {
   "cell_type": "code",
   "execution_count": 2,
   "id": "485a8342",
   "metadata": {},
   "outputs": [],
   "source": [
    "# Needed for functions\n",
    "import numpy as np\n",
    "import time\n",
    "from copy import deepcopy\n",
    "\n",
    "# Import Qiskit classes\n",
    "import qiskit\n",
    "import qiskit.quantum_info as qi\n",
    "from qiskit import QuantumRegister, QuantumCircuit, ClassicalRegister, Aer\n",
    "from qiskit.providers.aer import noise\n",
    "from qiskit.compiler import assemble\n",
    "\n",
    "# Tomography functions\n",
    "from qiskit.ignis.verification.tomography import state_tomography_circuits, StateTomographyFitter\n",
    "from qiskit.ignis.verification.tomography import process_tomography_circuits, ProcessTomographyFitter\n",
    "from qiskit.ignis.verification.tomography import gateset_tomography_circuits, GatesetTomographyFitter\n",
    "import qiskit.ignis.mitigation.measurement as mc\n",
    "\n",
    "# Auxiliary methods\n",
    "from qiskit.quantum_info import Choi, Kraus\n",
    "from qiskit.extensions import HGate, XGate\n",
    "\n",
    "# importing Qiskit\n",
    "from qiskit import IBMQ, Aer, assemble, transpile\n",
    "from qiskit import QuantumCircuit, ClassicalRegister, QuantumRegister\n",
    "from qiskit.providers.ibmq import least_busy"
   ]
  },
  {
   "cell_type": "code",
   "execution_count": null,
   "id": "01d9bc7a",
   "metadata": {},
   "outputs": [],
   "source": [
    "# Process tomography of a Hadamard gate\n",
    "print(qi)\n",
    "q = QuantumRegister(2)\n",
    "circ = QuantumCircuit(q)\n",
    "circ.cx(q[0],q[1])\n",
    "circ.cx(q[0],q[1])\n",
    "circ.cx(q[0],q[1])\n",
    "circ.cx(q[0],q[1])\n",
    "circ.cx(q[0],q[1])\n",
    "circ.cx(q[0],q[1])\n",
    "circ.cx(q[0],q[1])\n",
    "circ.cx(q[0],q[1])\n",
    "circ.cx(q[0],q[1])\n",
    "circ.cx(q[0],q[1])\n",
    "circ.cx(q[0],q[1])\n",
    "\n",
    "print(circ)\n",
    "\n",
    "# Get the ideal unitary operator\n",
    "target_unitary = qi.Operator(circ)\n",
    "# print(qi)\n",
    "# print(target_unitary)\n",
    "\n",
    "# Generate process tomography circuits and run on qasm simulator\n",
    "qpt_circs = process_tomography_circuits(circ, q)\n",
    "\n",
    "\n",
    "print((target_unitary))\n",
    "\n",
    "\n",
    "\n",
    "\n",
    "job = qiskit.execute(qpt_circs, Aer.get_backend('qasm_simulator'), shots=4000)\n",
    "\n",
    "# Extract tomography data so that counts are indexed by measurement configuration\n",
    "qpt_tomo = ProcessTomographyFitter(job.result(), qpt_circs)\n",
    "qpt_tomo.data"
   ]
  },
  {
   "cell_type": "code",
   "execution_count": 32,
   "id": "6e251f4a",
   "metadata": {},
   "outputs": [
    {
     "name": "stdout",
     "output_type": "stream",
     "text": [
      "Fit time: 0.0857686996459961\n",
      "Average gate fidelity: F = 0.99038\n"
     ]
    }
   ],
   "source": [
    "# Tomographic reconstruction\n",
    "t = time.time()\n",
    "choi_fit_lstsq = qpt_tomo.fit(method='lstsq')\n",
    "\n",
    "print('Fit time:', time.time() - t)\n",
    "print('Average gate fidelity: F = {:.5f}'.format(qi.average_gate_fidelity(choi_fit_lstsq, target=target_unitary)))"
   ]
  },
  {
   "cell_type": "code",
   "execution_count": 16,
   "id": "798dcb26",
   "metadata": {},
   "outputs": [
    {
     "data": {
      "text/plain": [
       "<module 'qiskit.quantum_info' from 'C:\\\\Users\\\\sd982\\\\Anaconda3\\\\lib\\\\site-packages\\\\qiskit\\\\quantum_info\\\\__init__.py'>"
      ]
     },
     "execution_count": 16,
     "metadata": {},
     "output_type": "execute_result"
    }
   ],
   "source": [
    "qi"
   ]
  },
  {
   "cell_type": "code",
   "execution_count": null,
   "id": "93197ca9",
   "metadata": {},
   "outputs": [],
   "source": []
  }
 ],
 "metadata": {
  "kernelspec": {
   "display_name": "Python 3",
   "language": "python",
   "name": "python3"
  },
  "language_info": {
   "codemirror_mode": {
    "name": "ipython",
    "version": 3
   },
   "file_extension": ".py",
   "mimetype": "text/x-python",
   "name": "python",
   "nbconvert_exporter": "python",
   "pygments_lexer": "ipython3",
   "version": "3.8.8"
  }
 },
 "nbformat": 4,
 "nbformat_minor": 5
}
