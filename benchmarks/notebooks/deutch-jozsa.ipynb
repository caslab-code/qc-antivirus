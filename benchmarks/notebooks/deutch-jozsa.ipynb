{
 "cells": [
  {
   "cell_type": "code",
   "execution_count": 99,
   "id": "8515d981",
   "metadata": {},
   "outputs": [],
   "source": [
    "# initialization\n",
    "import numpy as np\n",
    "\n",
    "# importing Qiskit\n",
    "from qiskit import IBMQ, Aer\n",
    "from qiskit.providers.ibmq import least_busy\n",
    "from qiskit import QuantumCircuit, assemble, transpile\n",
    "\n",
    "# import basic plot tools\n",
    "from qiskit.visualization import plot_histogram"
   ]
  },
  {
   "cell_type": "code",
   "execution_count": 100,
   "id": "443b84ed",
   "metadata": {},
   "outputs": [],
   "source": [
    "def dj_oracle(case, n):\n",
    "    # We need to make a QuantumCircuit object to return\n",
    "    # This circuit has n+1 qubits: the size of the input,\n",
    "    # plus one output qubit\n",
    "    oracle_qc = QuantumCircuit(n+1)\n",
    "    \n",
    "    # First, let's deal with the case in which oracle is balanced\n",
    "    if case == \"balanced\":\n",
    "        # First generate a random number that tells us which CNOTs to\n",
    "        # wrap in X-gates:\n",
    "        b = np.random.randint(1,2**n)\n",
    "        # Next, format 'b' as a binary string of length 'n', padded with zeros:\n",
    "        b_str = format(b, '0'+str(n)+'b')\n",
    "        # Next, we place the first X-gates. Each digit in our binary string \n",
    "        # corresponds to a qubit, if the digit is 0, we do nothing, if it's 1\n",
    "        # we apply an X-gate to that qubit:\n",
    "        for qubit in range(len(b_str)):\n",
    "            if b_str[qubit] == '1':\n",
    "                oracle_qc.x(qubit)\n",
    "        # Do the controlled-NOT gates for each qubit, using the output qubit \n",
    "        # as the target:\n",
    "        for qubit in range(n):\n",
    "            oracle_qc.cx(qubit, n)\n",
    "        # Next, place the final X-gates\n",
    "        for qubit in range(len(b_str)):\n",
    "            if b_str[qubit] == '1':\n",
    "                oracle_qc.x(qubit)\n",
    "\n",
    "    # Case in which oracle is constant\n",
    "    if case == \"constant\":\n",
    "        # First decide what the fixed output of the oracle will be\n",
    "        # (either always 0 or always 1)\n",
    "        output = np.random.randint(2)\n",
    "        if output == 1:\n",
    "            oracle_qc.x(n)\n",
    "    \n",
    "    oracle_gate = oracle_qc.to_gate()\n",
    "    oracle_gate.name = \"Oracle\" # To show when we display the circuit\n",
    "    return oracle_gate"
   ]
  },
  {
   "cell_type": "code",
   "execution_count": 101,
   "id": "f708d65a",
   "metadata": {},
   "outputs": [],
   "source": [
    "def dj_algorithm(oracle, n):\n",
    "    dj_circuit = QuantumCircuit(n+1, n)\n",
    "    # Set up the output qubit:\n",
    "    dj_circuit.x(n)\n",
    "    dj_circuit.h(n)\n",
    "    # And set up the input register:\n",
    "    for qubit in range(n):\n",
    "        dj_circuit.h(qubit)\n",
    "    # Let's append the oracle gate to our circuit:\n",
    "    dj_circuit.append(oracle, range(n+1))\n",
    "    # Finally, perform the H-gates again and measure:\n",
    "    for qubit in range(n):\n",
    "        dj_circuit.h(qubit)\n",
    "    \n",
    "    for i in range(n):\n",
    "        dj_circuit.measure(i, i)\n",
    "    \n",
    "    return dj_circuit"
   ]
  },
  {
   "cell_type": "code",
   "execution_count": 104,
   "id": "66721b82",
   "metadata": {},
   "outputs": [],
   "source": [
    "def dj(case, n):\n",
    "    oracle = dj_oracle(case,n)\n",
    "    dj_circuit = dj_algorithm(oracle,n)\n",
    "    print(\"Non Transpiled Circuit\")\n",
    "    print(dj_circuit)\n",
    "    aer_sim = Aer.get_backend('aer_simulator')\n",
    "    tranpiled_dj = transpile(dj_circuit, aer_sim)\n",
    "    print(\"Transpiled Circuit\")\n",
    "    print(tranpiled_dj)\n",
    "    return  dj_circuit, tranpiled_dj"
   ]
  },
  {
   "cell_type": "code",
   "execution_count": 105,
   "id": "24195370",
   "metadata": {},
   "outputs": [
    {
     "name": "stdout",
     "output_type": "stream",
     "text": [
      "Non Transpiled Circuit\n",
      "     ┌───┐     ┌─────────┐┌───┐┌─┐      \n",
      "q_0: ┤ H ├─────┤0        ├┤ H ├┤M├──────\n",
      "     ├───┤     │         │├───┤└╥┘┌─┐   \n",
      "q_1: ┤ H ├─────┤1        ├┤ H ├─╫─┤M├───\n",
      "     ├───┤     │  Oracle │├───┤ ║ └╥┘┌─┐\n",
      "q_2: ┤ H ├─────┤2        ├┤ H ├─╫──╫─┤M├\n",
      "     ├───┤┌───┐│         │└───┘ ║  ║ └╥┘\n",
      "q_3: ┤ X ├┤ H ├┤3        ├──────╫──╫──╫─\n",
      "     └───┘└───┘└─────────┘      ║  ║  ║ \n",
      "c: 3/═══════════════════════════╩══╩══╩═\n",
      "                                0  1  2 \n",
      "Transpiled Circuit\n",
      "      ┌─────────┐      ┌───────────┐     ┌─┐           \n",
      "q_0: ─┤ U2(0,0) ├───■──┤ U2(-π,-π) ├─────┤M├───────────\n",
      "      └──┬───┬──┘   │  └───────────┘┌───┐└╥┘     ┌─┐   \n",
      "q_1: ────┤ H ├──────┼────────■──────┤ H ├─╫──────┤M├───\n",
      "         ├───┤      │        │      └───┘ ║ ┌───┐└╥┘┌─┐\n",
      "q_2: ────┤ H ├──────┼────────┼────────■───╫─┤ H ├─╫─┤M├\n",
      "     ┌───┴───┴───┐┌─┴─┐    ┌─┴─┐    ┌─┴─┐ ║ └───┘ ║ └╥┘\n",
      "q_3: ┤ U2(-π,-π) ├┤ X ├────┤ X ├────┤ X ├─╫───────╫──╫─\n",
      "     └───────────┘└───┘    └───┘    └───┘ ║       ║  ║ \n",
      "c: 3/═════════════════════════════════════╩═══════╩══╩═\n",
      "                                          0       1  2 \n"
     ]
    },
    {
     "data": {
      "image/png": "[encoded data removed]",
      "text/plain": [
       "<Figure size 504x360 with 1 Axes>"
      ]
     },
     "execution_count": 105,
     "metadata": {},
     "output_type": "execute_result"
    }
   ],
   "source": [
    "dj_circuit, transpiled_dj_circuit = dj(\"balanced\", 3)\n",
    "qobj = assemble(transpiled_dj_circuit)\n",
    "results = aer_sim.run(qobj).result()\n",
    "answer = results.get_counts()\n",
    "plot_histogram(answer)"
   ]
  },
  {
   "cell_type": "code",
   "execution_count": 106,
   "id": "27e4176e",
   "metadata": {},
   "outputs": [
    {
     "name": "stdout",
     "output_type": "stream",
     "text": [
      "OrderedDict([('h', 4), ('u2', 3), ('cx', 3), ('measure', 3)])\n"
     ]
    }
   ],
   "source": [
    "print(QuantumCircuit.count_ops(transpiled_dj_circuit))"
   ]
  },
  {
   "cell_type": "code",
   "execution_count": 93,
   "id": "1a6a7d97",
   "metadata": {},
   "outputs": [
    {
     "name": "stdout",
     "output_type": "stream",
     "text": [
      "least busy backend:  ibmq_belem\n"
     ]
    }
   ],
   "source": [
    "IBMQ.load_account()\n",
    "provider = IBMQ.get_provider(hub='ibm-q')\n",
    "backend = least_busy(provider.backends(filters=lambda x: x.configuration().n_qubits >= (n+1) and\n",
    "                                   not x.configuration().simulator and x.status().operational==True))\n",
    "print(\"least busy backend: \", backend)"
   ]
  },
  {
   "cell_type": "code",
   "execution_count": 107,
   "id": "1792b599",
   "metadata": {},
   "outputs": [
    {
     "name": "stdout",
     "output_type": "stream",
     "text": [
      "Job Status: job has successfully run\n"
     ]
    }
   ],
   "source": [
    "# Run our circuit on the least busy backend. Monitor the execution of the job in the queue\n",
    "from qiskit.tools.monitor import job_monitor\n",
    "\n",
    "transpiled_dj_circuit = transpile(dj_circuit, backend, optimization_level=3)\n",
    "job = backend.run(transpiled_dj_circuit)\n",
    "job_monitor(job, interval=2)"
   ]
  },
  {
   "cell_type": "code",
   "execution_count": 108,
   "id": "98f019bf",
   "metadata": {},
   "outputs": [
    {
     "data": {
      "image/png": "[encoded data removed]",
      "text/plain": [
       "<Figure size 504x360 with 1 Axes>"
      ]
     },
     "execution_count": 108,
     "metadata": {},
     "output_type": "execute_result"
    }
   ],
   "source": [
    "# Get the results of the computation\n",
    "results = job.result()\n",
    "answer = results.get_counts()\n",
    "\n",
    "plot_histogram(answer)"
   ]
  },
  {
   "cell_type": "code",
   "execution_count": 109,
   "id": "3ba2f1e1",
   "metadata": {},
   "outputs": [
    {
     "name": "stdout",
     "output_type": "stream",
     "text": [
      "               ┌─────────┐ ┌────┐ ┌───────┐                            ┌────┐  »\n",
      "      q_2 -> 0 ┤ Rz(π/2) ├─┤ √X ├─┤ Rz(π) ├──────────────────■─────────┤ √X ├──»\n",
      "               ├─────────┤ ├────┤┌┴───────┴─┐┌───┐┌───┐    ┌─┴─┐       └────┘  »\n",
      "      q_3 -> 1 ┤ Rz(π/2) ├─┤ √X ├┤ Rz(-π/2) ├┤ X ├┤ X ├────┤ X ├───────────────»\n",
      "               ├─────────┤ ├────┤└┬───────┬─┘└─┬─┘└─┬─┘    ├───┴┐   ┌─────────┐»\n",
      "      q_1 -> 2 ┤ Rz(π/2) ├─┤ √X ├─┤ Rz(π) ├────┼────■──────┤ √X ├───┤ Rz(π/2) ├»\n",
      "               ├─────────┴┐├────┤ ├───────┤    │  ┌────┐┌──┴────┴──┐└───┬─┬───┘»\n",
      "      q_0 -> 3 ┤ Rz(-π/2) ├┤ √X ├─┤ Rz(π) ├────■──┤ √X ├┤ Rz(-π/2) ├────┤M├────»\n",
      "               └──────────┘└────┘ └───────┘       └────┘└──────────┘    └╥┘    »\n",
      "ancilla_0 -> 4 ──────────────────────────────────────────────────────────╫─────»\n",
      "                                                                         ║     »\n",
      "          c: 3/══════════════════════════════════════════════════════════╩═════»\n",
      "                                                                         0     »\n",
      "«               ┌─────────┐┌─┐\n",
      "«      q_2 -> 0 ┤ Rz(π/2) ├┤M├\n",
      "«               └─────────┘└╥┘\n",
      "«      q_3 -> 1 ────────────╫─\n",
      "«                   ┌─┐     ║ \n",
      "«      q_1 -> 2 ────┤M├─────╫─\n",
      "«                   └╥┘     ║ \n",
      "«      q_0 -> 3 ─────╫──────╫─\n",
      "«                    ║      ║ \n",
      "«ancilla_0 -> 4 ─────╫──────╫─\n",
      "«                    ║      ║ \n",
      "«          c: 3/═════╩══════╩═\n",
      "«                    1      2 \n"
     ]
    }
   ],
   "source": [
    "print(transpiled_dj_circuit)"
   ]
  },
  {
   "cell_type": "code",
   "execution_count": null,
   "id": "c16b7ae7",
   "metadata": {},
   "outputs": [],
   "source": []
  }
 ],
 "metadata": {
  "kernelspec": {
   "display_name": "Python 3",
   "language": "python",
   "name": "python3"
  },
  "language_info": {
   "codemirror_mode": {
    "name": "ipython",
    "version": 3
   },
   "file_extension": ".py",
   "mimetype": "text/x-python",
   "name": "python",
   "nbconvert_exporter": "python",
   "pygments_lexer": "ipython3",
   "version": "3.8.8"
  }
 },
 "nbformat": 4,
 "nbformat_minor": 5
}
