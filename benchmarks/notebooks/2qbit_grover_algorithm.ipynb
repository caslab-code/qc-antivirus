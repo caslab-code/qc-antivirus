{
 "cells": [
  {
   "cell_type": "code",
   "execution_count": 2,
   "id": "3b99b458",
   "metadata": {},
   "outputs": [],
   "source": [
    "#initialization\n",
    "import matplotlib.pyplot as plt\n",
    "import numpy as np\n",
    "\n",
    "# importing Qiskit\n",
    "from qiskit import IBMQ, Aer, assemble, transpile\n",
    "from qiskit import QuantumCircuit, ClassicalRegister, QuantumRegister\n",
    "from qiskit.providers.ibmq import least_busy\n",
    "\n",
    "# import basic plot tools\n",
    "from qiskit.visualization import plot_histogram"
   ]
  },
  {
   "cell_type": "code",
   "execution_count": null,
   "id": "da49416f",
   "metadata": {},
   "outputs": [],
   "source": [
    "\n",
    "    "
   ]
  },
  {
   "cell_type": "code",
   "execution_count": 2,
   "id": "ac9d2643",
   "metadata": {},
   "outputs": [],
   "source": [
    "def initialize_s(qc, qubits):\n",
    "    \"\"\"Apply a H-gate to 'qubits' in qc\"\"\"\n",
    "    for q in qubits:\n",
    "        qc.h(q)\n",
    "    return qc"
   ]
  },
  {
   "cell_type": "code",
   "execution_count": 3,
   "id": "5dbf8c1d",
   "metadata": {},
   "outputs": [],
   "source": [
    "def grovers_algorithm():\n",
    "    n = 2\n",
    "    grover_circuit = QuantumCircuit(n)\n",
    "    grover_circuit = initialize_s(grover_circuit, [0,1])\n",
    "   \n",
    "    grover_circuit.cz(0,1) # Oracle\n",
    "\n",
    "    # Diffusion operator (U_s)\n",
    "    grover_circuit.h([0,1])\n",
    "    grover_circuit.z([0,1])\n",
    "    grover_circuit.cz(0,1)\n",
    "    grover_circuit.h([0,1])\n",
    "    return grover_circuit"
   ]
  },
  {
   "cell_type": "code",
   "execution_count": 4,
   "id": "f4417a9e",
   "metadata": {},
   "outputs": [
    {
     "data": {
      "text/plain": [
       "<qiskit.circuit.quantumcircuit.QuantumCircuit at 0x22a12db5a60>"
      ]
     },
     "execution_count": 4,
     "metadata": {},
     "output_type": "execute_result"
    }
   ],
   "source": [
    "grovers_algorithm()"
   ]
  },
  {
   "cell_type": "code",
   "execution_count": 5,
   "id": "7385b124",
   "metadata": {},
   "outputs": [],
   "source": [
    "def grover_2qbit():\n",
    "    grover_circuit = grovers_algorithm()\n",
    "    aer_sim = Aer.get_backend('aer_simulator')\n",
    "    print(grover_circuit)\n",
    "    tranpiled_grover_circuit = transpile(grover_circuit, aer_sim)\n",
    "    print(tranpiled_grover_circuit)\n",
    "    return tranpiled_grover_circuit"
   ]
  },
  {
   "cell_type": "code",
   "execution_count": 6,
   "id": "98125fcd",
   "metadata": {},
   "outputs": [
    {
     "name": "stdout",
     "output_type": "stream",
     "text": [
      "     ┌───┐   ┌───┐┌───┐   ┌───┐\n",
      "q_0: ┤ H ├─■─┤ H ├┤ Z ├─■─┤ H ├\n",
      "     ├───┤ │ ├───┤├───┤ │ ├───┤\n",
      "q_1: ┤ H ├─■─┤ H ├┤ Z ├─■─┤ H ├\n",
      "     └───┘   └───┘└───┘   └───┘\n",
      "     ┌───┐   ┌───────────┐   ┌───┐\n",
      "q_0: ┤ H ├─■─┤ U2(-π,-π) ├─■─┤ H ├\n",
      "     ├───┤ │ ├───────────┤ │ ├───┤\n",
      "q_1: ┤ H ├─■─┤ U2(-π,-π) ├─■─┤ H ├\n",
      "     └───┘   └───────────┘   └───┘\n"
     ]
    },
    {
     "data": {
      "text/plain": [
       "<qiskit.circuit.quantumcircuit.QuantumCircuit at 0x22a89c84040>"
      ]
     },
     "execution_count": 6,
     "metadata": {},
     "output_type": "execute_result"
    }
   ],
   "source": [
    "grover_2qbit()"
   ]
  },
  {
   "cell_type": "markdown",
   "id": "d49f7df9",
   "metadata": {},
   "source": [
    "Experiment with Simulators"
   ]
  },
  {
   "cell_type": "code",
   "execution_count": 8,
   "id": "cfba1b58",
   "metadata": {},
   "outputs": [
    {
     "data": {
      "text/latex": [
       "$\\displaystyle \n",
       "$$ |\\psi\\rangle =\\begin{bmatrix}\n",
       "0 \\\\\n",
       "0 \\\\\n",
       "0 \\\\\n",
       "1\\end{bmatrix} $"
      ],
      "text/plain": [
       "<IPython.core.display.Math object>"
      ]
     },
     "metadata": {},
     "output_type": "display_data"
    }
   ],
   "source": [
    "grover_circuit = grovers_algorithm()\n",
    "sim = Aer.get_backend('aer_simulator')\n",
    "# we need to make a copy of the circuit with the 'save_statevector'\n",
    "# instruction to run on the Aer simulator\n",
    "grover_circuit_sim = grover_circuit.copy()\n",
    "grover_circuit_sim.save_statevector()\n",
    "qobj = assemble(grover_circuit_sim)\n",
    "result = sim.run(qobj).result()\n",
    "statevec = result.get_statevector()\n",
    "from qiskit_textbook.tools import vector2latex\n",
    "vector2latex(statevec, pretext=\"|\\\\psi\\\\rangle =\")"
   ]
  },
  {
   "cell_type": "code",
   "execution_count": 9,
   "id": "49567f28",
   "metadata": {},
   "outputs": [
    {
     "data": {
      "image/png": "[encoded data removed]",
      "text/plain": [
       "<Figure size 504x360 with 1 Axes>"
      ]
     },
     "execution_count": 9,
     "metadata": {},
     "output_type": "execute_result"
    }
   ],
   "source": [
    "grover_circuit.measure_all()\n",
    "\n",
    "aer_sim = Aer.get_backend('aer_simulator')\n",
    "qobj = assemble(grover_circuit)\n",
    "result = aer_sim.run(qobj).result()\n",
    "counts = result.get_counts()\n",
    "plot_histogram(counts)"
   ]
  },
  {
   "cell_type": "markdown",
   "id": "aa4d24ad",
   "metadata": {},
   "source": [
    "Experiment with Real Device"
   ]
  },
  {
   "cell_type": "code",
   "execution_count": 10,
   "id": "ffcdfee4",
   "metadata": {},
   "outputs": [
    {
     "name": "stdout",
     "output_type": "stream",
     "text": [
      "Running on current least busy device:  ibmq_bogota\n"
     ]
    }
   ],
   "source": [
    "# Load IBM Q account and get the least busy backend device\n",
    "provider = IBMQ.load_account()\n",
    "provider = IBMQ.get_provider(\"ibm-q\")\n",
    "device = least_busy(provider.backends(filters=lambda x: x.configuration().n_qubits >= 3 and \n",
    "                                   not x.configuration().simulator and x.status().operational==True))\n",
    "print(\"Running on current least busy device: \", device)"
   ]
  },
  {
   "cell_type": "code",
   "execution_count": 11,
   "id": "1156864d",
   "metadata": {},
   "outputs": [
    {
     "name": "stdout",
     "output_type": "stream",
     "text": [
      "Job Status: job has successfully run\n"
     ]
    }
   ],
   "source": [
    "# Run our circuit on the least busy backend. Monitor the execution of the job in the queue\n",
    "from qiskit.tools.monitor import job_monitor\n",
    "transpiled_grover_circuit = transpile(grover_circuit, device, optimization_level=3)\n",
    "job = device.run(transpiled_grover_circuit)\n",
    "job_monitor(job, interval=2)"
   ]
  },
  {
   "cell_type": "code",
   "execution_count": 12,
   "id": "5425ee4c",
   "metadata": {},
   "outputs": [
    {
     "data": {
      "image/png": "[encoded data removed]",
      "text/plain": [
       "<Figure size 504x360 with 1 Axes>"
      ]
     },
     "execution_count": 12,
     "metadata": {},
     "output_type": "execute_result"
    }
   ],
   "source": [
    "# Get the results from the computation\n",
    "results = job.result()\n",
    "answer = results.get_counts(grover_circuit)\n",
    "plot_histogram(answer)"
   ]
  },
  {
   "cell_type": "code",
   "execution_count": 3,
   "id": "955e94c3",
   "metadata": {},
   "outputs": [],
   "source": [
    "somecircuit = QuantumCircuit(1)"
   ]
  },
  {
   "cell_type": "code",
   "execution_count": 8,
   "id": "8db0d239",
   "metadata": {},
   "outputs": [
    {
     "data": {
      "text/plain": [
       "<qiskit.circuit.instructionset.InstructionSet at 0x1455b23bf10>"
      ]
     },
     "execution_count": 8,
     "metadata": {},
     "output_type": "execute_result"
    }
   ],
   "source": [
    "somecircuit.s(0)\n",
    "somecircuit.x(0)\n",
    "somecircuit.s(0)\n"
   ]
  },
  {
   "cell_type": "code",
   "execution_count": 9,
   "id": "09378f17",
   "metadata": {},
   "outputs": [
    {
     "name": "stdout",
     "output_type": "stream",
     "text": [
      "     ┌───┐┌───┐┌───┐\n",
      "q_0: ┤ S ├┤ X ├┤ S ├\n",
      "     └───┘└───┘└───┘\n"
     ]
    }
   ],
   "source": [
    "print(somecircuit)"
   ]
  },
  {
   "cell_type": "code",
   "execution_count": 12,
   "id": "c3b3ece4",
   "metadata": {},
   "outputs": [
    {
     "name": "stdout",
     "output_type": "stream",
     "text": [
      "     ┌────────────────┐\n",
      "q_0: ┤ U3(π,π/2,-π/2) ├\n",
      "     └────────────────┘\n"
     ]
    }
   ],
   "source": [
    "sim = Aer.get_backend('aer_simulator')\n",
    "print(transpile(somecircuit,sim))"
   ]
  },
  {
   "cell_type": "code",
   "execution_count": null,
   "id": "2253a2a3",
   "metadata": {},
   "outputs": [],
   "source": []
  }
 ],
 "metadata": {
  "kernelspec": {
   "display_name": "Python 3",
   "language": "python",
   "name": "python3"
  },
  "language_info": {
   "codemirror_mode": {
    "name": "ipython",
    "version": 3
   },
   "file_extension": ".py",
   "mimetype": "text/x-python",
   "name": "python",
   "nbconvert_exporter": "python",
   "pygments_lexer": "ipython3",
   "version": "3.8.8"
  }
 },
 "nbformat": 4,
 "nbformat_minor": 5
}
