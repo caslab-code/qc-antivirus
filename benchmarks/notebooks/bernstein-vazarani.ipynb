{
 "cells": [
  {
   "cell_type": "code",
   "execution_count": 1,
   "id": "9ee9b8c8",
   "metadata": {},
   "outputs": [],
   "source": [
    "# initialization\n",
    "import matplotlib.pyplot as plt\n",
    "import numpy as np\n",
    "\n",
    "# importing Qiskit\n",
    "from qiskit import IBMQ, Aer\n",
    "from qiskit.providers.ibmq import least_busy\n",
    "from qiskit import QuantumCircuit, ClassicalRegister, QuantumRegister, transpile, assemble\n",
    "\n",
    "# import basic plot tools\n",
    "from qiskit.visualization import plot_histogram"
   ]
  },
  {
   "cell_type": "code",
   "execution_count": 42,
   "id": "7d2485ef",
   "metadata": {},
   "outputs": [],
   "source": [
    "def bv_algorithm(s, n):\n",
    "    # We need a circuit with n qubits, plus one auxiliary qubit\n",
    "    # Also need n classical bits to write the output to\n",
    "    bv_circuit = QuantumCircuit(n+1, n)\n",
    "\n",
    "    # put auxiliary in state |->\n",
    "    bv_circuit.h(n)\n",
    "    bv_circuit.z(n)\n",
    "\n",
    "    # Apply Hadamard gates before querying the oracle\n",
    "    for i in range(n):\n",
    "        bv_circuit.h(i)\n",
    "\n",
    "    # Apply barrier \n",
    "    bv_circuit.barrier()\n",
    "\n",
    "    # Apply the inner-product oracle\n",
    "    s = s[::-1] # reverse s to fit qiskit's qubit ordering\n",
    "    for q in range(n):\n",
    "        if s[q] == '0':\n",
    "            bv_circuit.i(q)\n",
    "        else:\n",
    "            bv_circuit.cx(q, n)\n",
    "\n",
    "    # Apply barrier \n",
    "    bv_circuit.barrier()\n",
    "\n",
    "    #Apply Hadamard gates after querying the oracle\n",
    "    for i in range(n):\n",
    "        bv_circuit.h(i)\n",
    "    \n",
    "    # Measurement\n",
    "    for i in range(n):\n",
    "        bv_circuit.measure(i, i)\n",
    "    \n",
    "    return bv_circuit"
   ]
  },
  {
   "cell_type": "code",
   "execution_count": 43,
   "id": "afdfcd5b",
   "metadata": {},
   "outputs": [],
   "source": [
    "n = 4 # number of qubits used to represent s\n",
    "s = '1110'   # the hidden binary string\n",
    "bv_circuit = bv_algorithm(s, n)"
   ]
  },
  {
   "cell_type": "code",
   "execution_count": 44,
   "id": "d01ac58f",
   "metadata": {},
   "outputs": [
    {
     "data": {
      "image/png": "[encoded data removed]",
      "text/plain": [
       "<Figure size 504x360 with 1 Axes>"
      ]
     },
     "execution_count": 44,
     "metadata": {},
     "output_type": "execute_result"
    }
   ],
   "source": [
    "# use local simulator\n",
    "aer_sim = Aer.get_backend('aer_simulator')\n",
    "shots = 1024\n",
    "qobj = assemble(bv_circuit)\n",
    "results = aer_sim.run(qobj).result()\n",
    "answer = results.get_counts()\n",
    "\n",
    "plot_histogram(answer)"
   ]
  },
  {
   "cell_type": "code",
   "execution_count": 45,
   "id": "f7c33653",
   "metadata": {},
   "outputs": [],
   "source": [
    "def bv(s, n):\n",
    "    n = int(n)\n",
    "    bv_circuit = bv_algorithm(s, n)\n",
    "    print(\"Non Transpiled Circuit\")\n",
    "    print(bv_circuit)\n",
    "    aer_sim = Aer.get_backend('aer_simulator')\n",
    "    tranpiled_bv = transpile(bv_circuit, aer_sim)\n",
    "    print(\"Transpiled Circuit\")\n",
    "    print(tranpiled_bv)\n",
    "    return tranpiled_bv"
   ]
  },
  {
   "cell_type": "code",
   "execution_count": 46,
   "id": "b38bd503",
   "metadata": {},
   "outputs": [
    {
     "name": "stdout",
     "output_type": "stream",
     "text": [
      "Non Transpiled Circuit\n",
      "     ┌───┐      ░ ┌───┐           ░ ┌───┐┌─┐         \n",
      "q_0: ┤ H ├──────░─┤ I ├───────────░─┤ H ├┤M├─────────\n",
      "     ├───┤      ░ └───┘           ░ ├───┤└╥┘┌─┐      \n",
      "q_1: ┤ H ├──────░───■─────────────░─┤ H ├─╫─┤M├──────\n",
      "     ├───┤      ░   │             ░ ├───┤ ║ └╥┘┌─┐   \n",
      "q_2: ┤ H ├──────░───┼────■────────░─┤ H ├─╫──╫─┤M├───\n",
      "     ├───┤      ░   │    │        ░ ├───┤ ║  ║ └╥┘┌─┐\n",
      "q_3: ┤ H ├──────░───┼────┼────■───░─┤ H ├─╫──╫──╫─┤M├\n",
      "     ├───┤┌───┐ ░ ┌─┴─┐┌─┴─┐┌─┴─┐ ░ └───┘ ║  ║  ║ └╥┘\n",
      "q_4: ┤ H ├┤ Z ├─░─┤ X ├┤ X ├┤ X ├─░───────╫──╫──╫──╫─\n",
      "     └───┘└───┘ ░ └───┘└───┘└───┘ ░       ║  ║  ║  ║ \n",
      "c: 4/═════════════════════════════════════╩══╩══╩══╩═\n",
      "                                          0  1  2  3 \n",
      "Transpiled Circuit\n",
      "         ┌───┐     ░                 ░ ┌───┐┌─┐         \n",
      "q_0: ────┤ H ├─────░─────────────────░─┤ H ├┤M├─────────\n",
      "         ├───┤     ░                 ░ ├───┤└╥┘┌─┐      \n",
      "q_1: ────┤ H ├─────░───■─────────────░─┤ H ├─╫─┤M├──────\n",
      "         ├───┤     ░   │             ░ ├───┤ ║ └╥┘┌─┐   \n",
      "q_2: ────┤ H ├─────░───┼────■────────░─┤ H ├─╫──╫─┤M├───\n",
      "         ├───┤     ░   │    │        ░ ├───┤ ║  ║ └╥┘┌─┐\n",
      "q_3: ────┤ H ├─────░───┼────┼────■───░─┤ H ├─╫──╫──╫─┤M├\n",
      "     ┌───┴───┴───┐ ░ ┌─┴─┐┌─┴─┐┌─┴─┐ ░ └───┘ ║  ║  ║ └╥┘\n",
      "q_4: ┤ U2(-π,-π) ├─░─┤ X ├┤ X ├┤ X ├─░───────╫──╫──╫──╫─\n",
      "     └───────────┘ ░ └───┘└───┘└───┘ ░       ║  ║  ║  ║ \n",
      "c: 4/════════════════════════════════════════╩══╩══╩══╩═\n",
      "                                             0  1  2  3 \n"
     ]
    },
    {
     "data": {
      "text/plain": [
       "<qiskit.circuit.quantumcircuit.QuantumCircuit at 0x1a409d99670>"
      ]
     },
     "execution_count": 46,
     "metadata": {},
     "output_type": "execute_result"
    }
   ],
   "source": [
    "bv(s,n)"
   ]
  },
  {
   "cell_type": "code",
   "execution_count": null,
   "id": "2582f0e1",
   "metadata": {},
   "outputs": [],
   "source": []
  }
 ],
 "metadata": {
  "kernelspec": {
   "display_name": "Python 3",
   "language": "python",
   "name": "python3"
  },
  "language_info": {
   "codemirror_mode": {
    "name": "ipython",
    "version": 3
   },
   "file_extension": ".py",
   "mimetype": "text/x-python",
   "name": "python",
   "nbconvert_exporter": "python",
   "pygments_lexer": "ipython3",
   "version": "3.8.8"
  }
 },
 "nbformat": 4,
 "nbformat_minor": 5
}
